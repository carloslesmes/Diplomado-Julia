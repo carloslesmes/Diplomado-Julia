{
 "cells": [
  {
   "cell_type": "markdown",
   "metadata": {},
   "source": [
    "# Uso de Markdown en jupyter\n",
    "\n",
    "## Formato de escritura\n"
   ]
  },
  {
   "cell_type": "markdown",
   "metadata": {},
   "source": [
    "Al lado del logo de Jupyter al inicio de la página dé doble clic para dar título al documento. "
   ]
  },
  {
   "cell_type": "markdown",
   "metadata": {},
   "source": [
    "En Jupyter se trabaja con celdas, en cada celda se puede escribir: 1. código del lenguaje de programación que esté activo, 2. Markdown para comentar el código y 3. texto (que no será procesado por Jupyter). En la barra de herramientas encontrará:\n",
    "\n",
    "1. Code\n",
    "2. Markdown\n",
    "3. Raw NBConvert\n",
    "\n",
    "para cambiar el formato."
   ]
  },
  {
   "cell_type": "markdown",
   "metadata": {},
   "source": [
    "Cada ceda puede estar en en dos modos:\n",
    "1. Command : color azul\n",
    "2. Edit : color verde\n",
    "\n",
    "En el modo **Edit**, se edita la celda ya sea en `Markdown` o en `Code`. En el momento de editar hay un marco verde que envuelve la celda. Para procesar la celda haga `shift-enter`. Sólo `Enter` únicamente permite escribir varias lineas dentro de la celda. Para ir al modo `command` digite `esc` y al celda estará ahora envuelta por un marco azul. Estando una celda en el modo `command`(azul) digite `h`para obtener la ayuda con los atajos de teclado."
   ]
  },
  {
   "cell_type": "code",
   "execution_count": null,
   "metadata": {
    "scrolled": false
   },
   "outputs": [],
   "source": [
    "y = 1"
   ]
  },
  {
   "cell_type": "code",
   "execution_count": null,
   "metadata": {},
   "outputs": [],
   "source": [
    "y+1"
   ]
  },
  {
   "cell_type": "code",
   "execution_count": null,
   "metadata": {},
   "outputs": [],
   "source": [
    "y + y^2"
   ]
  },
  {
   "cell_type": "markdown",
   "metadata": {},
   "source": [
    "Al ir escribiendo código puede utilizar (TAB) para completar y/o ver opciones. Por ejemplo en una celda de código escriba `log` y (TAB)....."
   ]
  },
  {
   "cell_type": "markdown",
   "metadata": {},
   "source": [
    "Para digitar código sin necesidad de ejecutarlo usar  tres backtics y el nombre del lenguaje.\n",
    "\n",
    "```python\n",
    "import math\n",
    "x = math.p1 + 2\n",
    "```\n"
   ]
  },
  {
   "cell_type": "markdown",
   "metadata": {},
   "source": [
    "## Insertar  enlaces y gráficos"
   ]
  },
  {
   "cell_type": "markdown",
   "metadata": {},
   "source": [
    "Vea [aqui](https://julialang.org) la página principal de julia"
   ]
  },
  {
   "cell_type": "markdown",
   "metadata": {},
   "source": [
    "Logo de Julia\n",
    "![logo_julia](https://raw.githubusercontent.com/JuliaLang/julia-logo-graphics/master/images/julia-logo-color.png)"
   ]
  },
  {
   "cell_type": "markdown",
   "metadata": {},
   "source": [
    "   ## Uso de Latex"
   ]
  },
  {
   "cell_type": "markdown",
   "metadata": {},
   "source": [
    "Escribir símbolos de Latex escriba por ejemplo `\\alpha`y (TAB)"
   ]
  },
  {
   "cell_type": "code",
   "execution_count": null,
   "metadata": {},
   "outputs": [],
   "source": [
    "α = 20\n",
    "β = 3"
   ]
  },
  {
   "cell_type": "code",
   "execution_count": null,
   "metadata": {
    "scrolled": true
   },
   "outputs": [],
   "source": [
    "α + β"
   ]
  },
  {
   "cell_type": "markdown",
   "metadata": {},
   "source": [
    "### Ecuaciones"
   ]
  },
  {
   "cell_type": "markdown",
   "metadata": {},
   "source": [
    "Escriba el código Latex entre $$"
   ]
  },
  {
   "cell_type": "markdown",
   "metadata": {},
   "source": [
    "$$\n",
    "\\begin{align*}\n",
    "  x' &= \\sigma(y-x) \\\\\n",
    "  y' &= x(\\rho-z)-y \\\\\n",
    "  z' &= xy-\\beta z,\n",
    "\\end{align*}\n",
    "$$"
   ]
  },
  {
   "cell_type": "markdown",
   "metadata": {},
   "source": [
    "Los enlaces los reconoce inmediatamente"
   ]
  },
  {
   "cell_type": "markdown",
   "metadata": {},
   "source": [
    "vea ayuda de markdown en **https://www.markdownguide.org/basic-syntax/** ."
   ]
  },
  {
   "cell_type": "markdown",
   "metadata": {},
   "source": [
    "## HTML"
   ]
  },
  {
   "cell_type": "markdown",
   "metadata": {},
   "source": [
    "Simplemente escriba ...."
   ]
  },
  {
   "cell_type": "markdown",
   "metadata": {},
   "source": [
    "<html>\n",
    "  <head>\n",
    "      Hola\n",
    "  </head>\n",
    "</html>"
   ]
  },
  {
   "cell_type": "markdown",
   "metadata": {},
   "source": [
    "***"
   ]
  },
  {
   "cell_type": "code",
   "execution_count": null,
   "metadata": {},
   "outputs": [],
   "source": [
    "factorial(big(100))"
   ]
  },
  {
   "cell_type": "code",
   "execution_count": null,
   "metadata": {},
   "outputs": [],
   "source": []
  }
 ],
 "metadata": {
  "kernelspec": {
   "display_name": "Julia 1.6.1",
   "language": "julia",
   "name": "julia-1.6"
  },
  "language_info": {
   "file_extension": ".jl",
   "mimetype": "application/julia",
   "name": "julia",
   "version": "1.6.1"
  }
 },
 "nbformat": 4,
 "nbformat_minor": 2
}
