{
 "cells": [
  {
   "cell_type": "code",
   "execution_count": 2,
   "metadata": {},
   "outputs": [
    {
     "output_type": "error",
     "ename": "Error",
     "evalue": "LoadError",
     "traceback": [
      "Error: LoadError",
      "at _.parseConnectInfo (/Users/carloslesmes/.vscode/extensions/ms-toolsai.jupyter-2021.8.1236758218/out/client/extension.js:90:161434)",
      "at _.connectToLocal (/Users/carloslesmes/.vscode/extensions/ms-toolsai.jupyter-2021.8.1236758218/out/client/extension.js:90:162037)",
      "at processTicksAndRejections (internal/process/task_queues.js:93:5)",
      "at async _.connect (/Users/carloslesmes/.vscode/extensions/ms-toolsai.jupyter-2021.8.1236758218/out/client/extension.js:90:159878)",
      "at async _.startDebugSession (/Users/carloslesmes/.vscode/extensions/ms-toolsai.jupyter-2021.8.1236758218/out/client/extension.js:90:159025)",
      "at async D.submitCode (/Users/carloslesmes/.vscode/extensions/ms-toolsai.jupyter-2021.8.1236758218/out/client/extension.js:37:644344)",
      "at async D.handleRunByLine (/Users/carloslesmes/.vscode/extensions/ms-toolsai.jupyter-2021.8.1236758218/out/client/extension.js:37:632287)"
     ]
    }
   ],
   "source": [
    "2+2"
   ]
  },
  {
   "source": [
    "# Julia 5 Paquetes"
   ],
   "cell_type": "code",
   "metadata": {},
   "execution_count": 1,
   "outputs": []
  },
  {
   "cell_type": "markdown",
   "metadata": {},
   "source": [
    "## El paquete `RDatasets`"
   ]
  },
  {
   "cell_type": "markdown",
   "metadata": {},
   "source": [
    "Este paquete nos da una sencilla forma de acceder a los conjuntos de datos de algunos paquetes de `R`. "
   ]
  },
  {
   "cell_type": "code",
   "execution_count": 2,
   "metadata": {
    "tags": []
   },
   "outputs": [],
   "source": [
    "using RDatasets, DataFrames, CSV"
   ]
  },
  {
   "cell_type": "code",
   "execution_count": 3,
   "metadata": {},
   "outputs": [
    {
     "output_type": "stream",
     "name": "stdout",
     "text": [
      "34×2 DataFrame\n",
      "│ Row │ Package      │ Title                                                                         │\n",
      "│     │ \u001b[90mString\u001b[39m       │ \u001b[90mString\u001b[39m                                                                        │\n",
      "├─────┼──────────────┼───────────────────────────────────────────────────────────────────────────────┤\n",
      "│ 1   │ COUNT        │ Functions, data and code for count data.                                      │\n",
      "│ 2   │ Ecdat        │ Data sets for econometrics                                                    │\n",
      "│ 3   │ HSAUR        │ A Handbook of Statistical Analyses Using R (1st Edition)                      │\n",
      "│ 4   │ HistData     │ Data sets from the history of statistics and data visualization               │\n",
      "│ 5   │ ISLR         │ Data for An Introduction to Statistical Learning with Applications in R       │\n",
      "│ 6   │ KMsurv       │ Data sets from Klein and Moeschberger (1997), Survival Analysis               │\n",
      "│ 7   │ MASS         │ Support Functions and Datasets for Venables and Ripley's MASS                 │\n",
      "│ 8   │ SASmixed     │ Data sets from \\\\                                                             │\n",
      "│ 9   │ Zelig        │ Everyone's Statistical Software                                               │\n",
      "│ 10  │ adehabitatLT │ Analysis of Animal Movements                                                  │\n",
      "│ 11  │ boot         │ Bootstrap Functions (Originally by Angelo Canty for S)                        │\n",
      "│ 12  │ car          │ Companion to Applied Regression                                               │\n",
      "│ 13  │ cluster      │ Cluster Analysis Extended Rousseeuw et al.                                    │\n",
      "│ 14  │ datasets     │ The R Datasets Package                                                        │\n",
      "│ 15  │ gamair       │ Datasets used in the book Generalized Additive Models: An Introduction with R │\n",
      "│ 16  │ gap          │ Genetic analysis package                                                      │\n",
      "│ 17  │ ggplot2      │ An Implementation of the Grammar of Graphics                                  │\n",
      "│ 18  │ lattice      │ Lattice Graphics                                                              │\n",
      "│ 19  │ lme4         │ Linear mixed-effects models using Eigen and S4                                │\n",
      "│ 20  │ mgcv         │ Mixed GAM Computation Vehicle with GCV/AIC/REML smoothness estimation         │\n",
      "│ 21  │ mlmRev       │ Examples from Multilevel Modelling Software Review                            │\n",
      "│ 22  │ nlreg        │ Higher Order Inference for Nonlinear Heteroscedastic Models                   │\n",
      "│ 23  │ plm          │ Linear Models for Panel Data                                                  │\n",
      "│ 24  │ plyr         │ Tools for splitting, applying and combining data                              │\n",
      "│ 25  │ pscl         │ Political Science Computational Laboratory, Stanford University               │\n",
      "│ 26  │ psych        │ Procedures for Psychological, Psychometric, and Personality Research          │\n",
      "│ 27  │ quantreg     │ Quantile Regression                                                           │\n",
      "│ 28  │ reshape2     │ Flexibly Reshape Data: A Reboot of the Reshape Package.                       │\n",
      "│ 29  │ robustbase   │ Basic Robust Statistics                                                       │\n",
      "│ 30  │ rpart        │ Recursive Partitioning and Regression Trees                                   │\n",
      "│ 31  │ sandwich     │ Robust Covariance Matrix Estimators                                           │\n",
      "│ 32  │ sem          │ Structural Equation Models                                                    │\n",
      "│ 33  │ survival     │ Survival Analysis                                                             │\n",
      "│ 34  │ vcd          │ Visualizing Categorical Data                                                  │"
     ]
    }
   ],
   "source": [
    "print(RDatasets.packages())"
   ]
  },
  {
   "cell_type": "code",
   "execution_count": 5,
   "metadata": {},
   "outputs": [
    {
     "output_type": "stream",
     "name": "stdout",
     "text": [
      "8×5 DataFrame\n│ Row │ Package │ Dataset      │ Title                                                             │ Rows  │ Columns │\n│     │ \u001b[90mString\u001b[39m  │ \u001b[90mString\u001b[39m       │ \u001b[90mString\u001b[39m                                                            │ \u001b[90mInt64\u001b[39m │ \u001b[90mInt64\u001b[39m   │\n├─────┼─────────┼──────────────┼───────────────────────────────────────────────────────────────────┼───────┼─────────┤\n│ 1   │ ggplot2 │ diamonds     │ Prices of 50,000 round cut diamonds                               │ 53940 │ 10      │\n│ 2   │ ggplot2 │ economics    │ US economic time series.                                          │ 478   │ 6       │\n│ 3   │ ggplot2 │ midwest      │ Midwest demographics.                                             │ 437   │ 28      │\n│ 4   │ ggplot2 │ movies       │ Movie information and user ratings from IMDB.com.                 │ 58788 │ 24      │\n│ 5   │ ggplot2 │ mpg          │ Fuel economy data from 1999 and 2008 for 38 popular models of car │ 234   │ 11      │\n│ 6   │ ggplot2 │ msleep       │ An updated and expanded version of the mammals sleep dataset.     │ 83    │ 11      │\n│ 7   │ ggplot2 │ presidential │ Terms of 10 presidents from Eisenhower to Bush W.                 │ 10    │ 4       │\n│ 8   │ ggplot2 │ seals        │ Vector field of seal movements.                                   │ 1155  │ 4       │"
     ]
    }
   ],
   "source": [
    "print(RDatasets.datasets(\"ggplot2\"))"
   ]
  },
  {
   "cell_type": "code",
   "execution_count": null,
   "metadata": {},
   "outputs": [],
   "source": [
    "diamantes = dataset(\"ggplot2\",\"diamonds\")"
   ]
  },
  {
   "cell_type": "code",
   "execution_count": null,
   "metadata": {},
   "outputs": [],
   "source": [
    "using DataFrames, CSV, Statistics"
   ]
  },
  {
   "cell_type": "code",
   "execution_count": null,
   "metadata": {},
   "outputs": [],
   "source": [
    "url=\"https://raw.githubusercontent.com/CSSEGISandData/COVID-19/master/csse_covid_19_data/csse_covid_19_time_series/time_series_covid19_confirmed_global.csv\""
   ]
  },
  {
   "cell_type": "code",
   "execution_count": null,
   "metadata": {},
   "outputs": [],
   "source": [
    "download(url,\"covid.csv\")"
   ]
  },
  {
   "cell_type": "code",
   "execution_count": null,
   "metadata": {},
   "outputs": [],
   "source": [
    "begin\n",
    "    datos_csv = CSV.File(\"covid.csv\")\n",
    "    datos = DataFrame(datos_csv)\n",
    "end"
   ]
  },
  {
   "cell_type": "code",
   "execution_count": null,
   "metadata": {},
   "outputs": [],
   "source": [
    "names(datos)"
   ]
  },
  {
   "cell_type": "code",
   "execution_count": null,
   "metadata": {},
   "outputs": [],
   "source": [
    "size(datos)"
   ]
  },
  {
   "cell_type": "code",
   "execution_count": null,
   "metadata": {},
   "outputs": [],
   "source": [
    "first(datos,5)"
   ]
  },
  {
   "cell_type": "code",
   "execution_count": null,
   "metadata": {},
   "outputs": [],
   "source": [
    "rename!(datos, 1 => \"Provincia\", 2 => \"País\", 3 => \"Latitud\", 4 => \"Longitud\");\n",
    "# datos1 = rename(.....)"
   ]
  },
  {
   "cell_type": "code",
   "execution_count": null,
   "metadata": {},
   "outputs": [],
   "source": [
    "last(datos,5)"
   ]
  },
  {
   "cell_type": "code",
   "execution_count": null,
   "metadata": {},
   "outputs": [],
   "source": [
    "datos[]"
   ]
  },
  {
   "cell_type": "code",
   "execution_count": null,
   "metadata": {},
   "outputs": [],
   "source": [
    "paises = datos[:,\"País\"] "
   ]
  },
  {
   "cell_type": "code",
   "execution_count": null,
   "metadata": {},
   "outputs": [],
   "source": [
    "paises1 = datos[:,:País]"
   ]
  },
  {
   "cell_type": "code",
   "execution_count": null,
   "metadata": {},
   "outputs": [],
   "source": [
    "unique(paises1)"
   ]
  },
  {
   "cell_type": "code",
   "execution_count": null,
   "metadata": {},
   "outputs": [],
   "source": [
    "paises2 = datos[:,2]"
   ]
  },
  {
   "cell_type": "code",
   "execution_count": null,
   "metadata": {},
   "outputs": [],
   "source": [
    "fila = findfirst(==(\"Colombia\"), paises)"
   ]
  },
  {
   "cell_type": "code",
   "execution_count": null,
   "metadata": {},
   "outputs": [],
   "source": [
    "datos_Col = filter( x -> x.País == \"Colombia\", datos)"
   ]
  },
  {
   "cell_type": "code",
   "execution_count": null,
   "metadata": {},
   "outputs": [],
   "source": [
    "using Plots"
   ]
  },
  {
   "cell_type": "code",
   "execution_count": null,
   "metadata": {},
   "outputs": [],
   "source": [
    "datos_COL = Vector(datos_Col[1, 5:end])"
   ]
  },
  {
   "cell_type": "code",
   "execution_count": null,
   "metadata": {},
   "outputs": [],
   "source": [
    "scatter(datos_COL)"
   ]
  },
  {
   "cell_type": "markdown",
   "metadata": {},
   "source": [
    "## El paquete RCall"
   ]
  },
  {
   "cell_type": "markdown",
   "metadata": {},
   "source": [
    "Este paquete permite \"correr\" R desde la consola de julia. Para empezar active el paquete y entre `$`. Para salir de R haga backspace. En jupyter cambie el kernel, previamente debe instalar en R el paquete `IRkernel`. "
   ]
  },
  {
   "cell_type": "markdown",
   "metadata": {},
   "source": [
    "### Paquetes Estadísticos"
   ]
  },
  {
   "cell_type": "markdown",
   "metadata": {},
   "source": [
    "El paquete `StatsKit`es un meta-paquete que carga paquetes esenciales de Estadística. [StatsKit](https://github.com/JuliaStats/StatsKit.jl).Para personas que trabajan con Estadística yquieren cargarlos en una sola llamada."
   ]
  },
  {
   "cell_type": "code",
   "execution_count": 5,
   "metadata": {},
   "outputs": [
    {
     "output_type": "stream",
     "name": "stderr",
     "text": [
      "┌ Info: Precompiling StatsBase [2913bbd2-ae8a-5f71-8c99-4fb6c76f3a91]\n└ @ Base loading.jl:1317\n"
     ]
    }
   ],
   "source": [
    "using StatsBase, Statistics"
   ]
  },
  {
   "cell_type": "code",
   "execution_count": null,
   "metadata": {},
   "outputs": [],
   "source": [
    "using StatsBase"
   ]
  },
  {
   "cell_type": "code",
   "execution_count": null,
   "metadata": {},
   "outputs": [],
   "source": [
    "names(StatsBase)"
   ]
  },
  {
   "cell_type": "code",
   "execution_count": 3,
   "metadata": {
    "tags": []
   },
   "outputs": [
    {
     "output_type": "stream",
     "name": "stdout",
     "text": "Object `mean` not found.\n"
    }
   ],
   "source": [
    "?mean"
   ]
  },
  {
   "cell_type": "code",
   "execution_count": null,
   "metadata": {},
   "outputs": [],
   "source": [
    "using StatsBase"
   ]
  },
  {
   "cell_type": "code",
   "execution_count": null,
   "metadata": {},
   "outputs": [],
   "source": [
    "?winsor"
   ]
  },
  {
   "cell_type": "code",
   "execution_count": null,
   "metadata": {},
   "outputs": [],
   "source": [
    ";cal 2020"
   ]
  },
  {
   "cell_type": "code",
   "execution_count": null,
   "metadata": {},
   "outputs": [],
   "source": []
  }
 ],
 "metadata": {
  "kernelspec": {
   "name": "julia-1.6",
   "display_name": "Julia 1.6.1",
   "language": "julia"
  },
  "language_info": {
   "file_extension": ".jl",
   "mimetype": "application/julia",
   "name": "julia",
   "version": "2.7.13-final"
  },
  "toc-autonumbering": true,
  "toc-showcode": true,
  "toc-showmarkdowntxt": true,
  "toc-showtags": false
 },
 "nbformat": 4,
 "nbformat_minor": 4
}