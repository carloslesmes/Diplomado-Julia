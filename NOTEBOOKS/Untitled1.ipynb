{
 "cells": [
  {
   "cell_type": "code",
   "execution_count": 1,
   "metadata": {},
   "outputs": [
    {
     "name": "stderr",
     "output_type": "stream",
     "text": [
      "┌ Info: Precompiling RCall [6f49c342-dc21-5d91-9882-a32aef131414]\n",
      "└ @ Base loading.jl:1278\n"
     ]
    }
   ],
   "source": [
    "using RCall"
   ]
  },
  {
   "cell_type": "code",
   "execution_count": 3,
   "metadata": {},
   "outputs": [],
   "source": [
    "@rlibrary(nycflights13)"
   ]
  },
  {
   "cell_type": "code",
   "execution_count": 5,
   "metadata": {},
   "outputs": [
    {
     "ename": "LoadError",
     "evalue": "REvalError: Error in loadNamespace(name) : \n  aucun package nommé ‘nycflights’ n'est trouvé\nCalls: :: ... loadNamespace -> withRestarts -> withOneRestart -> doWithOneRestart",
     "output_type": "error",
     "traceback": [
      "REvalError: Error in loadNamespace(name) : \n  aucun package nommé ‘nycflights’ n'est trouvé\nCalls: :: ... loadNamespace -> withRestarts -> withOneRestart -> doWithOneRestart",
      "",
      "Stacktrace:",
      " [1] handle_eval_stderr(; as_warning::Bool) at /Users/carloslesmes/.julia/packages/RCall/3mHXJ/src/io.jl:162",
      " [2] reval_p(::Ptr{LangSxp}, ::Ptr{EnvSxp}) at /Users/carloslesmes/.julia/packages/RCall/3mHXJ/src/eval.jl:99",
      " [3] reval_p(::Ptr{RCall.ExprSxp}, ::Ptr{EnvSxp}) at /Users/carloslesmes/.julia/packages/RCall/3mHXJ/src/eval.jl:115",
      " [4] reval(::String, ::RObject{EnvSxp}) at /Users/carloslesmes/.julia/packages/RCall/3mHXJ/src/eval.jl:132",
      " [5] top-level scope at /Users/carloslesmes/.julia/packages/RCall/3mHXJ/src/macros.jl:71",
      " [6] include_string(::Function, ::Module, ::String, ::String) at ./loading.jl:1091"
     ]
    }
   ],
   "source": [
    "fli = rcopy(R\"nycflights::flights\")"
   ]
  },
  {
   "cell_type": "code",
   "execution_count": null,
   "metadata": {},
   "outputs": [],
   "source": []
  }
 ],
 "metadata": {
  "kernelspec": {
   "display_name": "Julia 1.5.3",
   "language": "julia",
   "name": "julia-1.5"
  },
  "language_info": {
   "file_extension": ".jl",
   "mimetype": "application/julia",
   "name": "julia",
   "version": "1.5.3"
  }
 },
 "nbformat": 4,
 "nbformat_minor": 2
}
