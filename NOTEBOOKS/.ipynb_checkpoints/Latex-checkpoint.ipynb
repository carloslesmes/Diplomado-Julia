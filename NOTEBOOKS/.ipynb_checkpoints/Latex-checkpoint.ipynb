{
 "cells": [
  {
   "cell_type": "markdown",
   "metadata": {},
   "source": [
    "## Los paquetes `Latexify` y `LaTeXStrings`.\n",
    "El paquete `Latexify` provee funciones para usar $\\LaTeX$ con objetos de Julia, y el paquete `LaTeXStrings` permite digitar ecuaciones $\\LaTeX$ en Julia."
   ]
  },
  {
   "cell_type": "code",
   "execution_count": 2,
   "metadata": {},
   "outputs": [
    {
     "name": "stderr",
     "output_type": "stream",
     "text": [
      "┌ Info: Precompiling Latexify [23fbe1c1-3f47-55db-b15f-69d7ec21a316]\n",
      "└ @ Base loading.jl:1278\n"
     ]
    }
   ],
   "source": [
    "using Latexify"
   ]
  },
  {
   "cell_type": "code",
   "execution_count": 3,
   "metadata": {},
   "outputs": [
    {
     "data": {
      "text/latex": [
       "$\\frac{4}{7}$"
      ],
      "text/plain": [
       "L\"$\\frac{4}{7}$\""
      ]
     },
     "execution_count": 3,
     "metadata": {},
     "output_type": "execute_result"
    }
   ],
   "source": [
    "latexify(4//7)"
   ]
  },
  {
   "cell_type": "code",
   "execution_count": 4,
   "metadata": {},
   "outputs": [
    {
     "data": {
      "text/plain": [
       "LaTeXStrings.LaTeXString"
      ]
     },
     "execution_count": 4,
     "metadata": {},
     "output_type": "execute_result"
    }
   ],
   "source": [
    "typeof(latexify(4//7))"
   ]
  },
  {
   "cell_type": "code",
   "execution_count": 5,
   "metadata": {},
   "outputs": [
    {
     "data": {
      "text/latex": [
       "$Y_{obs}$"
      ],
      "text/plain": [
       "L\"$Y_{obs}$\""
      ]
     },
     "execution_count": 5,
     "metadata": {},
     "output_type": "execute_result"
    }
   ],
   "source": [
    "latexify(:Y_obs)"
   ]
  },
  {
   "cell_type": "code",
   "execution_count": 6,
   "metadata": {},
   "outputs": [
    {
     "data": {
      "text/latex": [
       "\\begin{equation}\n",
       "\\left[\n",
       "\\begin{array}{cc}\n",
       "a & 1 \\\\\n",
       "b & 2 \\\\\n",
       "c & 3 \\\\\n",
       "\\end{array}\n",
       "\\right]\n",
       "\\end{equation}\n"
      ],
      "text/plain": [
       "L\"\\begin{equation}\n",
       "\\left[\n",
       "\\begin{array}{cc}\n",
       "a & 1 \\\\\n",
       "b & 2 \\\\\n",
       "c & 3 \\\\\n",
       "\\end{array}\n",
       "\\right]\n",
       "\\end{equation}\n",
       "\""
      ]
     },
     "execution_count": 6,
     "metadata": {},
     "output_type": "execute_result"
    }
   ],
   "source": [
    "d=Dict( :a => 1, :b => 2, :c => 3)\n",
    "latexify(d)"
   ]
  },
  {
   "cell_type": "code",
   "execution_count": 7,
   "metadata": {},
   "outputs": [
    {
     "data": {
      "text/latex": [
       "\\begin{align}\n",
       "a =& 1 \\\\\n",
       "b =& 2 \\\\\n",
       "c =& 3\n",
       "\\end{align}\n"
      ],
      "text/plain": [
       "L\"\\begin{align}\n",
       "a =& 1 \\\\\n",
       "b =& 2 \\\\\n",
       "c =& 3\n",
       "\\end{align}\n",
       "\""
      ]
     },
     "execution_count": 7,
     "metadata": {},
     "output_type": "execute_result"
    }
   ],
   "source": [
    "latexify(d, env=:align)"
   ]
  },
  {
   "cell_type": "code",
   "execution_count": 8,
   "metadata": {},
   "outputs": [
    {
     "data": {
      "text/latex": [
       "\\begin{tabular}{cc}\n",
       "$a$ & $1$\\\\\n",
       "$b$ & $2$\\\\\n",
       "$c$ & $3$\\\\\n",
       "\\end{tabular}\n"
      ],
      "text/plain": [
       "L\"\\begin{tabular}{cc}\n",
       "$a$ & $1$\\\\\n",
       "$b$ & $2$\\\\\n",
       "$c$ & $3$\\\\\n",
       "\\end{tabular}\n",
       "\""
      ]
     },
     "execution_count": 8,
     "metadata": {},
     "output_type": "execute_result"
    }
   ],
   "source": [
    "latexify(d, env=:tabular)"
   ]
  },
  {
   "cell_type": "code",
   "execution_count": 9,
   "metadata": {},
   "outputs": [
    {
     "data": {
      "text/latex": [
       "\\begin{tabular}\n",
       "{r | r}\n",
       "$a$ & $1$ \\\\\n",
       "\\hline\n",
       "$b$ & $2$ \\\\\n",
       "$c$ & $3$ \\\\\n",
       "\\end{tabular}\n"
      ],
      "text/markdown": [
       "| $a$ | $1$ |\n",
       "| ---:| ---:|\n",
       "| $b$ | $2$ |\n",
       "| $c$ | $3$ |\n"
      ],
      "text/plain": [
       "  \u001b[35ma\u001b[39m \u001b[35m1\u001b[39m\n",
       "  – –\n",
       "  \u001b[35mb\u001b[39m \u001b[35m2\u001b[39m\n",
       "  \u001b[35mc\u001b[39m \u001b[35m3\u001b[39m"
      ]
     },
     "execution_count": 9,
     "metadata": {},
     "output_type": "execute_result"
    }
   ],
   "source": [
    "latexify(d, env=:mdtable)"
   ]
  },
  {
   "cell_type": "code",
   "execution_count": 10,
   "metadata": {},
   "outputs": [
    {
     "data": {
      "text/latex": [
       "$\\frac{x}{\\left( y + x \\right)^{2}}$"
      ],
      "text/plain": [
       "L\"$\\frac{x}{\\left( y + x \\right)^{2}}$\""
      ]
     },
     "execution_count": 10,
     "metadata": {},
     "output_type": "execute_result"
    }
   ],
   "source": [
    "ex = :(x/(y+x)^2)\n",
    "latexify(ex)"
   ]
  },
  {
   "cell_type": "code",
   "execution_count": 11,
   "metadata": {},
   "outputs": [
    {
     "data": {
      "text/latex": [
       "\\begin{equation}\n",
       "\\left[\n",
       "\\begin{array}{ccc}\n",
       "\\frac{x}{y} & \\frac{3}{7} & 2+3\\textit{i} \\\\\n",
       "1 & P_{x} & \\Gamma\\left( 3 \\right) \\\\\n",
       "\\end{array}\n",
       "\\right]\n",
       "\\end{equation}\n"
      ],
      "text/plain": [
       "L\"\\begin{equation}\n",
       "\\left[\n",
       "\\begin{array}{ccc}\n",
       "\\frac{x}{y} & \\frac{3}{7} & 2+3\\textit{i} \\\\\n",
       "1 & P_{x} & \\Gamma\\left( 3 \\right) \\\\\n",
       "\\end{array}\n",
       "\\right]\n",
       "\\end{equation}\n",
       "\""
      ]
     },
     "execution_count": 11,
     "metadata": {},
     "output_type": "execute_result"
    }
   ],
   "source": [
    "arr = [\"x/y\" 3//7 2+3im; 1 :P_x :(gamma(3))]\n",
    "latexify(arr)"
   ]
  },
  {
   "cell_type": "markdown",
   "metadata": {},
   "source": [
    "Con `print` se obtiene el código $\\LaTeX$"
   ]
  },
  {
   "cell_type": "code",
   "execution_count": 12,
   "metadata": {},
   "outputs": [
    {
     "name": "stdout",
     "output_type": "stream",
     "text": [
      "$\\frac{x}{y + z}$"
     ]
    }
   ],
   "source": [
    "latexify(\"x/(y+z)\") |> print"
   ]
  },
  {
   "cell_type": "code",
   "execution_count": 13,
   "metadata": {},
   "outputs": [
    {
     "data": {
      "text/latex": [
       "$\\frac{x}{y}$"
      ],
      "text/plain": [
       "L\"$\\frac{x}{y}$\""
      ]
     },
     "metadata": {},
     "output_type": "display_data"
    }
   ],
   "source": [
    "display(latexify(\"x/y\"))"
   ]
  },
  {
   "cell_type": "code",
   "execution_count": 14,
   "metadata": {},
   "outputs": [],
   "source": [
    "using LaTeXStrings"
   ]
  },
  {
   "cell_type": "code",
   "execution_count": 15,
   "metadata": {},
   "outputs": [
    {
     "data": {
      "text/latex": [
       "$\\frac{1}{1+\\alpha}$"
      ],
      "text/plain": [
       "L\"$\\frac{1}{1+\\alpha}$\""
      ]
     },
     "execution_count": 15,
     "metadata": {},
     "output_type": "execute_result"
    }
   ],
   "source": [
    "L\"\\frac{1}{1+\\alpha}\""
   ]
  },
  {
   "cell_type": "code",
   "execution_count": 16,
   "metadata": {},
   "outputs": [
    {
     "data": {
      "text/plain": [
       "3.0"
      ]
     },
     "execution_count": 16,
     "metadata": {},
     "output_type": "execute_result"
    }
   ],
   "source": [
    "using Statistics\n",
    "x = [1,2,3,4,5]\n",
    "y = mean(x)"
   ]
  },
  {
   "cell_type": "code",
   "execution_count": 17,
   "metadata": {},
   "outputs": [
    {
     "data": {
      "text/latex": [
       "$media = 3.0$"
      ],
      "text/plain": [
       "L\"$media = 3.0$\""
      ]
     },
     "execution_count": 17,
     "metadata": {},
     "output_type": "execute_result"
    }
   ],
   "source": [
    "L\"media = %$y\""
   ]
  },
  {
   "cell_type": "code",
   "execution_count": 18,
   "metadata": {},
   "outputs": [
    {
     "data": {
      "text/latex": [
       "la ecuación: $1 + \\alpha^2$"
      ],
      "text/plain": [
       "L\"la ecuación: $1 + \\alpha^2$\""
      ]
     },
     "execution_count": 18,
     "metadata": {},
     "output_type": "execute_result"
    }
   ],
   "source": [
    "latexstring(\"la ecuación: \\$1 + \\\\alpha^2\\$\")"
   ]
  },
  {
   "cell_type": "code",
   "execution_count": 19,
   "metadata": {},
   "outputs": [
    {
     "data": {
      "text/latex": [
       "$\\begin{equation}\n",
       "\\begin{split}\n",
       "A & = \\frac{\\pi r^2}{2} \\\\\n",
       " & = \\frac{1}{2} \\pi r^2\n",
       "\\end{split}\n",
       "\\end{equation}\n",
       "$"
      ],
      "text/plain": [
       "L\"$\\begin{equation}\n",
       "\\begin{split}\n",
       "A & = \\frac{\\pi r^2}{2} \\\\\n",
       " & = \\frac{1}{2} \\pi r^2\n",
       "\\end{split}\n",
       "\\end{equation}\n",
       "$\""
      ]
     },
     "execution_count": 19,
     "metadata": {},
     "output_type": "execute_result"
    }
   ],
   "source": [
    "L\"\"\"\n",
    "\\begin{equation}\n",
    "\\begin{split}\n",
    "A & = \\frac{\\pi r^2}{2} \\\\\n",
    " & = \\frac{1}{2} \\pi r^2\n",
    "\\end{split}\n",
    "\\end{equation}\n",
    "\"\"\""
   ]
  },
  {
   "cell_type": "code",
   "execution_count": 24,
   "metadata": {},
   "outputs": [
    {
     "data": {
      "text/latex": [
       "\\begin{tabular}{cc}\n",
       "$a$ & $1$\\\\\n",
       "$b$ & $2$\\\\\n",
       "$c$ & $3$\\\\\n",
       "\\end{tabular}\n"
      ],
      "text/plain": [
       "L\"\\begin{tabular}{cc}\n",
       "$a$ & $1$\\\\\n",
       "$b$ & $2$\\\\\n",
       "$c$ & $3$\\\\\n",
       "\\end{tabular}\n",
       "\""
      ]
     },
     "execution_count": 24,
     "metadata": {},
     "output_type": "execute_result"
    }
   ],
   "source": [
    "tabla=latexify(d, env=:tabular)"
   ]
  },
  {
   "cell_type": "code",
   "execution_count": null,
   "metadata": {},
   "outputs": [],
   "source": []
  }
 ],
 "metadata": {
  "kernelspec": {
   "display_name": "Julia 1.5.0",
   "language": "julia",
   "name": "julia-1.5"
  },
  "language_info": {
   "file_extension": ".jl",
   "mimetype": "application/julia",
   "name": "julia",
   "version": "1.5.0"
  }
 },
 "nbformat": 4,
 "nbformat_minor": 4
}
