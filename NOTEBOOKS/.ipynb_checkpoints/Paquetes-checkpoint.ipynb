{
 "cells": [
  {
   "cell_type": "markdown",
   "metadata": {},
   "source": [
    "# Julia 5 Paquetes"
   ]
  },
  {
   "cell_type": "markdown",
   "metadata": {},
   "source": [
    "Un paquete es básicamente una colección de funciones. Julia contiene más de 4000 paqutes que están en el Registro General, [General registry](https://github.com/JuliaRegistries/General). afortunadamente, hay servicios que permiten navegar el ecosistema de paquetes, incluyendo:\n"
   ]
  },
  {
   "cell_type": "markdown",
   "metadata": {},
   "source": [
    "## Paquete Pkg"
   ]
  },
  {
   "cell_type": "markdown",
   "metadata": {},
   "source": [
    "Este modulo es el gestor de paquetes. En modo interactivo, en el REPL, entrar con`]`. [Pkg.jl](https://julialang.github.io/Pkg.jl/dev/)."
   ]
  },
  {
   "cell_type": "code",
   "execution_count": 1,
   "metadata": {},
   "outputs": [
    {
     "name": "stdout",
     "output_type": "stream",
     "text": [
      "  \u001b[1mWelcome to the Pkg REPL-mode\u001b[22m. To return to the \u001b[36mjulia>\u001b[39m prompt, either press\n",
      "  backspace when the input line is empty or press Ctrl+C.\n",
      "\n",
      "  \u001b[1mSynopsis\u001b[22m\n",
      "\n",
      "\u001b[36m  pkg> cmd [opts] [args]\u001b[39m\n",
      "\n",
      "  Multiple commands can be given on the same line by interleaving a \u001b[36m;\u001b[39m between\n",
      "  the commands. Some commands have an alias, indicated below.\n",
      "\n",
      "  \u001b[1mCommands\u001b[22m\n",
      "\n",
      "  \u001b[36mactivate\u001b[39m: set the primary environment the package manager manipulates\n",
      "\n",
      "  \u001b[36madd\u001b[39m: add packages to project\n",
      "\n",
      "  \u001b[36mbuild\u001b[39m: run the build script for packages\n",
      "\n",
      "  \u001b[36mdevelop\u001b[39m, \u001b[36mdev\u001b[39m: clone the full package repo locally for development\n",
      "\n",
      "  \u001b[36mfree\u001b[39m: undoes a \u001b[36mpin\u001b[39m, \u001b[36mdevelop\u001b[39m, or stops tracking a repo\n",
      "\n",
      "  \u001b[36mgc\u001b[39m: garbage collect packages not used for a significant time\n",
      "\n",
      "  \u001b[36mgenerate\u001b[39m: generate files for a new project\n",
      "\n",
      "  \u001b[36mhelp\u001b[39m, \u001b[36m?\u001b[39m: show this message\n",
      "\n",
      "  \u001b[36minstantiate\u001b[39m: downloads all the dependencies for the project\n",
      "\n",
      "  \u001b[36mpin\u001b[39m: pins the version of packages\n",
      "\n",
      "  \u001b[36mprecompile\u001b[39m: precompile all the project dependencies\n",
      "\n",
      "  \u001b[36mredo\u001b[39m: redo the latest change to the active project\n",
      "\n",
      "  \u001b[36mremove\u001b[39m, \u001b[36mrm\u001b[39m: remove packages from project or manifest\n",
      "\n",
      "  \u001b[36mresolve\u001b[39m: resolves to update the manifest from changes in dependencies of\n",
      "  developed packages\n",
      "\n",
      "  \u001b[36mstatus\u001b[39m, \u001b[36mst\u001b[39m: summarize contents of and changes to environment\n",
      "\n",
      "  \u001b[36mtest\u001b[39m: run tests for packages\n",
      "\n",
      "  \u001b[36mundo\u001b[39m: undo the latest change to the active project\n",
      "\n",
      "  \u001b[36mupdate\u001b[39m, \u001b[36mup\u001b[39m: update packages in manifest\n",
      "\n",
      "  \u001b[36mregistry add\u001b[39m: add package registries\n",
      "\n",
      "  \u001b[36mregistry remove\u001b[39m, \u001b[36mrm\u001b[39m: remove package registries\n",
      "\n",
      "  \u001b[36mregistry status\u001b[39m, \u001b[36mst\u001b[39m: information about installed registries\n",
      "\n",
      "  \u001b[36mregistry update\u001b[39m, \u001b[36mup\u001b[39m: update package registries"
     ]
    }
   ],
   "source": [
    "] help"
   ]
  },
  {
   "cell_type": "code",
   "execution_count": 2,
   "metadata": {},
   "outputs": [
    {
     "name": "stderr",
     "output_type": "stream",
     "text": [
      "\u001b[32m\u001b[1m   Updating\u001b[22m\u001b[39m registry at `~/.julia/registries/General`\n"
     ]
    },
    {
     "name": "stdout",
     "output_type": "stream",
     "text": [
      "\u001b[?25l    "
     ]
    },
    {
     "name": "stderr",
     "output_type": "stream",
     "text": [
      "\u001b[32m\u001b[1m   Updating\u001b[22m\u001b[39m git-repo `https://github.com/JuliaRegistries/General.git`\n"
     ]
    },
    {
     "name": "stdout",
     "output_type": "stream",
     "text": [
      "\u001b[36m\u001b[1mFetching:\u001b[22m\u001b[39m [>                                        ]  0.0 %\r",
      "    \u001b[36m\u001b[1mFetching:\u001b[22m\u001b[39m [=>                                       ]  0.9 %\r",
      "    \u001b[36m\u001b[1mFetching:\u001b[22m\u001b[39m [=>                                       ]  1.9 %\r",
      "    \u001b[36m\u001b[1mFetching:\u001b[22m\u001b[39m [==>                                      ]  2.8 %\r",
      "    \u001b[36m\u001b[1mFetching:\u001b[22m\u001b[39m [==>                                      ]  3.7 %\r",
      "    \u001b[36m\u001b[1mFetching:\u001b[22m\u001b[39m [==>                                      ]  4.7 %\r",
      "    \u001b[36m\u001b[1mFetching:\u001b[22m\u001b[39m [===>                                     ]  5.6 %\r",
      "    \u001b[36m\u001b[1mFetching:\u001b[22m\u001b[39m [===>                                     ]  6.5 %\r",
      "    \u001b[36m\u001b[1mFetching:\u001b[22m\u001b[39m [===>                                     ]  7.5 %\r",
      "    \u001b[36m\u001b[1mFetching:\u001b[22m\u001b[39m [====>                                    ]  8.4 %\r",
      "    \u001b[36m\u001b[1mFetching:\u001b[22m\u001b[39m [====>                                    ]  9.3 %\r",
      "    \u001b[36m\u001b[1mFetching:\u001b[22m\u001b[39m [=====>                                   ]  10.3 %\r",
      "    \u001b[36m\u001b[1mFetching:\u001b[22m\u001b[39m [=====>                                   ]  11.2 %\r",
      "    \u001b[36m\u001b[1mFetching:\u001b[22m\u001b[39m [=====>                                   ]  12.1 %\r",
      "    \u001b[36m\u001b[1mFetching:\u001b[22m\u001b[39m [======>                                  ]  13.1 %\r",
      "    \u001b[36m\u001b[1mFetching:\u001b[22m\u001b[39m [======>                                  ]  14.0 %\r",
      "    \u001b[36m\u001b[1mFetching:\u001b[22m\u001b[39m [======>                                  ]  15.0 %\r",
      "    \u001b[36m\u001b[1mFetching:\u001b[22m\u001b[39m [=======>                                 ]  15.9 %\r",
      "    \u001b[36m\u001b[1mFetching:\u001b[22m\u001b[39m [=======>                                 ]  16.8 %\r",
      "    \u001b[36m\u001b[1mFetching:\u001b[22m\u001b[39m [========>                                ]  17.8 %\r",
      "    \u001b[36m\u001b[1mFetching:\u001b[22m\u001b[39m [========>                                ]  18.7 %\r",
      "    \u001b[36m\u001b[1mFetching:\u001b[22m\u001b[39m [========>                                ]  19.6 %\r",
      "    \u001b[36m\u001b[1mFetching:\u001b[22m\u001b[39m [=========>                               ]  20.6 %\r",
      "    \u001b[36m\u001b[1mFetching:\u001b[22m\u001b[39m [=========>                               ]  21.5 %\r",
      "    \u001b[36m\u001b[1mFetching:\u001b[22m\u001b[39m [=========>                               ]  22.4 %\r",
      "    \u001b[36m\u001b[1mFetching:\u001b[22m\u001b[39m [==========>                              ]  23.4 %\r",
      "    \u001b[36m\u001b[1mFetching:\u001b[22m\u001b[39m [==========>                              ]  24.3 %\r",
      "    \u001b[36m\u001b[1mFetching:\u001b[22m\u001b[39m [===========>                             ]  25.2 %\r",
      "    \u001b[36m\u001b[1mFetching:\u001b[22m\u001b[39m [===========>                             ]  26.2 %\r",
      "    \u001b[36m\u001b[1mFetching:\u001b[22m\u001b[39m [===========>                             ]  27.1 %\r",
      "    \u001b[36m\u001b[1mFetching:\u001b[22m\u001b[39m [============>                            ]  28.0 %\r",
      "    \u001b[36m\u001b[1mFetching:\u001b[22m\u001b[39m [============>                            ]  29.0 %\r",
      "    \u001b[36m\u001b[1mFetching:\u001b[22m\u001b[39m [============>                            ]  29.9 %\r",
      "    \u001b[36m\u001b[1mFetching:\u001b[22m\u001b[39m [=============>                           ]  30.8 %\r",
      "    \u001b[36m\u001b[1mFetching:\u001b[22m\u001b[39m [=============>                           ]  31.8 %\r",
      "    \u001b[36m\u001b[1mFetching:\u001b[22m\u001b[39m [==============>                          ]  32.7 %\r",
      "    \u001b[36m\u001b[1mFetching:\u001b[22m\u001b[39m [==============>                          ]  33.6 %\r",
      "    \u001b[36m\u001b[1mFetching:\u001b[22m\u001b[39m [==============>                          ]  34.6 %\r",
      "    \u001b[36m\u001b[1mFetching:\u001b[22m\u001b[39m [===============>                         ]  35.5 %\r",
      "    \u001b[36m\u001b[1mFetching:\u001b[22m\u001b[39m [===============>                         ]  36.4 %\r",
      "    \u001b[36m\u001b[1mFetching:\u001b[22m\u001b[39m [===============>                         ]  37.4 %\r",
      "    \u001b[36m\u001b[1mFetching:\u001b[22m\u001b[39m [================>                        ]  38.3 %\r",
      "    \u001b[36m\u001b[1mFetching:\u001b[22m\u001b[39m [================>                        ]  39.3 %\r",
      "    \u001b[36m\u001b[1mFetching:\u001b[22m\u001b[39m [=================>                       ]  40.2 %\r",
      "    \u001b[36m\u001b[1mFetching:\u001b[22m\u001b[39m [=================>                       ]  41.1 %\r",
      "    \u001b[36m\u001b[1mFetching:\u001b[22m\u001b[39m [=================>                       ]  42.1 %\r",
      "    \u001b[36m\u001b[1mFetching:\u001b[22m\u001b[39m [==================>                      ]  43.0 %\r",
      "    \u001b[36m\u001b[1mFetching:\u001b[22m\u001b[39m [==================>                      ]  43.9 %\r",
      "    \u001b[36m\u001b[1mFetching:\u001b[22m\u001b[39m [==================>                      ]  44.9 %\r",
      "    \u001b[36m\u001b[1mFetching:\u001b[22m\u001b[39m [===================>                     ]  45.8 %\r",
      "    \u001b[36m\u001b[1mFetching:\u001b[22m\u001b[39m [===================>                     ]  46.7 %\r",
      "    \u001b[36m\u001b[1mFetching:\u001b[22m\u001b[39m [====================>                    ]  47.7 %\r",
      "    \u001b[36m\u001b[1mFetching:\u001b[22m\u001b[39m [====================>                    ]  48.6 %\r",
      "    \u001b[36m\u001b[1mFetching:\u001b[22m\u001b[39m [====================>                    ]  49.5 %\r",
      "    \u001b[36m\u001b[1mFetching:\u001b[22m\u001b[39m [=====================>                   ]  50.5 %\r",
      "    \u001b[36m\u001b[1mFetching:\u001b[22m\u001b[39m [=====================>                   ]  51.4 %\r",
      "    \u001b[36m\u001b[1mFetching:\u001b[22m\u001b[39m [=====================>                   ]  52.3 %\r",
      "    \u001b[36m\u001b[1mFetching:\u001b[22m\u001b[39m [======================>                  ]  53.3 %\r",
      "    \u001b[36m\u001b[1mFetching:\u001b[22m\u001b[39m [======================>                  ]  54.2 %\r",
      "    \u001b[36m\u001b[1mFetching:\u001b[22m\u001b[39m [=======================>                 ]  55.1 %\r",
      "    \u001b[36m\u001b[1mFetching:\u001b[22m\u001b[39m [=======================>                 ]  56.1 %\r",
      "    \u001b[36m\u001b[1mFetching:\u001b[22m\u001b[39m [=======================>                 ]  57.0 %\r",
      "    \u001b[36m\u001b[1mFetching:\u001b[22m\u001b[39m [========================>                ]  57.9 %\r",
      "    \u001b[36m\u001b[1mFetching:\u001b[22m\u001b[39m [========================>                ]  58.9 %\r",
      "    \u001b[36m\u001b[1mFetching:\u001b[22m\u001b[39m [========================>                ]  59.8 %\r",
      "    \u001b[36m\u001b[1mFetching:\u001b[22m\u001b[39m [=========================>               ]  60.7 %\r",
      "    \u001b[36m\u001b[1mFetching:\u001b[22m\u001b[39m [=========================>               ]  61.7 %\r",
      "    \u001b[36m\u001b[1mFetching:\u001b[22m\u001b[39m [==========================>              ]  62.6 %\r",
      "    \u001b[36m\u001b[1mFetching:\u001b[22m\u001b[39m [==========================>              ]  63.6 %\r",
      "    \u001b[36m\u001b[1mFetching:\u001b[22m\u001b[39m [==========================>              ]  64.5 %\r",
      "    \u001b[36m\u001b[1mFetching:\u001b[22m\u001b[39m [===========================>             ]  65.4 %\r",
      "    \u001b[36m\u001b[1mFetching:\u001b[22m\u001b[39m [===========================>             ]  66.4 %\r",
      "    \u001b[36m\u001b[1mFetching:\u001b[22m\u001b[39m [===========================>             ]  67.3 %\r",
      "    \u001b[36m\u001b[1mFetching:\u001b[22m\u001b[39m [============================>            ]  68.2 %\r",
      "    \u001b[36m\u001b[1mFetching:\u001b[22m\u001b[39m [============================>            ]  69.2 %\r",
      "    \u001b[36m\u001b[1mFetching:\u001b[22m\u001b[39m [=============================>           ]  70.1 %\r",
      "    \u001b[36m\u001b[1mFetching:\u001b[22m\u001b[39m [=============================>           ]  71.0 %\r",
      "    \u001b[36m\u001b[1mFetching:\u001b[22m\u001b[39m [=============================>           ]  72.0 %\r",
      "    \u001b[36m\u001b[1mFetching:\u001b[22m\u001b[39m [==============================>          ]  72.9 %\r",
      "    \u001b[36m\u001b[1mFetching:\u001b[22m\u001b[39m [==============================>          ]  73.8 %\r",
      "    \u001b[36m\u001b[1mFetching:\u001b[22m\u001b[39m [==============================>          ]  74.8 %\r",
      "    \u001b[36m\u001b[1mFetching:\u001b[22m\u001b[39m [===============================>         ]  75.7 %\r",
      "    \u001b[36m\u001b[1mFetching:\u001b[22m\u001b[39m [===============================>         ]  76.6 %\r",
      "    \u001b[36m\u001b[1mFetching:\u001b[22m\u001b[39m [================================>        ]  77.6 %\r",
      "    \u001b[36m\u001b[1mFetching:\u001b[22m\u001b[39m [================================>        ]  78.5 %\r",
      "    \u001b[36m\u001b[1mFetching:\u001b[22m\u001b[39m [================================>        ]  79.4 %\r",
      "    \u001b[36m\u001b[1mFetching:\u001b[22m\u001b[39m [=================================>       ]  80.4 %\r",
      "    \u001b[36m\u001b[1mFetching:\u001b[22m\u001b[39m [=================================>       ]  81.3 %\r",
      "    \u001b[36m\u001b[1mFetching:\u001b[22m\u001b[39m [=================================>       ]  82.2 %\r",
      "    \u001b[36m\u001b[1mFetching:\u001b[22m\u001b[39m [==================================>      ]  83.2 %\r",
      "    \u001b[36m\u001b[1mFetching:\u001b[22m\u001b[39m [==================================>      ]  84.1 %\r",
      "    \u001b[36m\u001b[1mFetching:\u001b[22m\u001b[39m [===================================>     ]  85.0 %\r",
      "    \u001b[36m\u001b[1mFetching:\u001b[22m\u001b[39m [===================================>     ]  86.0 %\r",
      "    \u001b[36m\u001b[1mFetching:\u001b[22m\u001b[39m [===================================>     ]  86.9 %\r",
      "    \u001b[36m\u001b[1mFetching:\u001b[22m\u001b[39m [====================================>    ]  87.9 %\r",
      "    \u001b[36m\u001b[1mFetching:\u001b[22m\u001b[39m [====================================>    ]  88.8 %\r",
      "    \u001b[36m\u001b[1mFetching:\u001b[22m\u001b[39m [====================================>    ]  89.7 %\r",
      "    \u001b[36m\u001b[1mFetching:\u001b[22m\u001b[39m [=====================================>   ]  90.7 %\r",
      "    \u001b[36m\u001b[1mFetching:\u001b[22m\u001b[39m [=====================================>   ]  91.6 %\r",
      "    \u001b[36m\u001b[1mFetching:\u001b[22m\u001b[39m [======================================>  ]  92.5 %\r",
      "    \u001b[36m\u001b[1mFetching:\u001b[22m\u001b[39m [======================================>  ]  93.5 %\r",
      "    \u001b[36m\u001b[1mFetching:\u001b[22m\u001b[39m [======================================>  ]  94.4 %\r",
      "    \u001b[36m\u001b[1mFetching:\u001b[22m\u001b[39m [=======================================> ]  95.3 %\r",
      "    \u001b[36m\u001b[1mFetching:\u001b[22m\u001b[39m [=======================================> ]  96.3 %\r",
      "    \u001b[36m\u001b[1mFetching:\u001b[22m\u001b[39m [=======================================> ]  97.2 %\r",
      "    \u001b[36m\u001b[1mFetching:\u001b[22m\u001b[39m [========================================>]  98.1 %\r",
      "    \u001b[36m\u001b[1mFetching:\u001b[22m\u001b[39m [========================================>]  99.1 %\r",
      "    \u001b[36m\u001b[1mFetching:\u001b[22m\u001b[39m [========================================>]  100.0 %\r"
     ]
    },
    {
     "name": "stdout",
     "output_type": "stream",
     "text": [
      "\u001b[2K\u001b[?25h"
     ]
    },
    {
     "name": "stderr",
     "output_type": "stream",
     "text": [
      "\u001b[32m\u001b[1m  Resolving\u001b[22m\u001b[39m package versions...\n",
      "\u001b[32m\u001b[1mNo Changes\u001b[22m\u001b[39m to `~/.julia/environments/v1.5/Project.toml`\n",
      "\u001b[32m\u001b[1mNo Changes\u001b[22m\u001b[39m to `~/.julia/environments/v1.5/Manifest.toml`\n"
     ]
    }
   ],
   "source": [
    "]add Pkg"
   ]
  },
  {
   "cell_type": "code",
   "execution_count": 3,
   "metadata": {},
   "outputs": [],
   "source": [
    "using Pkg"
   ]
  },
  {
   "cell_type": "code",
   "execution_count": null,
   "metadata": {},
   "outputs": [],
   "source": []
  },
  {
   "cell_type": "code",
   "execution_count": null,
   "metadata": {},
   "outputs": [],
   "source": []
  },
  {
   "cell_type": "code",
   "execution_count": null,
   "metadata": {},
   "outputs": [],
   "source": []
  },
  {
   "cell_type": "code",
   "execution_count": null,
   "metadata": {},
   "outputs": [],
   "source": []
  },
  {
   "cell_type": "markdown",
   "metadata": {},
   "source": [
    "# Random"
   ]
  },
  {
   "cell_type": "code",
   "execution_count": 4,
   "metadata": {},
   "outputs": [
    {
     "data": {
      "text/latex": [
       "\\begin{tabular}\n",
       "{l | r | l}\n",
       "name & size & summary \\\\\n",
       "\\hline\n",
       "AbstractRNG & 168 bytes & DataType \\\\\n",
       "MersenneTwister & 224 bytes & DataType \\\\\n",
       "Random & 378.113 KiB & Module \\\\\n",
       "RandomDevice & 184 bytes & DataType \\\\\n",
       "bitrand & 0 bytes & typeof(bitrand) \\\\\n",
       "rand! & 0 bytes & typeof(rand!) \\\\\n",
       "randcycle & 0 bytes & typeof(randcycle) \\\\\n",
       "randcycle! & 0 bytes & typeof(randcycle!) \\\\\n",
       "randexp & 0 bytes & typeof(randexp) \\\\\n",
       "randexp! & 0 bytes & typeof(randexp!) \\\\\n",
       "randn! & 0 bytes & typeof(randn!) \\\\\n",
       "randperm & 0 bytes & typeof(randperm) \\\\\n",
       "randperm! & 0 bytes & typeof(randperm!) \\\\\n",
       "randstring & 0 bytes & typeof(randstring) \\\\\n",
       "randsubseq & 0 bytes & typeof(randsubseq) \\\\\n",
       "randsubseq! & 0 bytes & typeof(randsubseq!) \\\\\n",
       "shuffle & 0 bytes & typeof(shuffle) \\\\\n",
       "shuffle! & 0 bytes & typeof(shuffle!) \\\\\n",
       "\\end{tabular}\n"
      ],
      "text/markdown": [
       "| name            |        size | summary             |\n",
       "|:--------------- | -----------:|:------------------- |\n",
       "| AbstractRNG     |   168 bytes | DataType            |\n",
       "| MersenneTwister |   224 bytes | DataType            |\n",
       "| Random          | 378.113 KiB | Module              |\n",
       "| RandomDevice    |   184 bytes | DataType            |\n",
       "| bitrand         |     0 bytes | typeof(bitrand)     |\n",
       "| rand!           |     0 bytes | typeof(rand!)       |\n",
       "| randcycle       |     0 bytes | typeof(randcycle)   |\n",
       "| randcycle!      |     0 bytes | typeof(randcycle!)  |\n",
       "| randexp         |     0 bytes | typeof(randexp)     |\n",
       "| randexp!        |     0 bytes | typeof(randexp!)    |\n",
       "| randn!          |     0 bytes | typeof(randn!)      |\n",
       "| randperm        |     0 bytes | typeof(randperm)    |\n",
       "| randperm!       |     0 bytes | typeof(randperm!)   |\n",
       "| randstring      |     0 bytes | typeof(randstring)  |\n",
       "| randsubseq      |     0 bytes | typeof(randsubseq)  |\n",
       "| randsubseq!     |     0 bytes | typeof(randsubseq!) |\n",
       "| shuffle         |     0 bytes | typeof(shuffle)     |\n",
       "| shuffle!        |     0 bytes | typeof(shuffle!)    |\n"
      ],
      "text/plain": [
       "  name                   size summary            \n",
       "  ––––––––––––––– ––––––––––– –––––––––––––––––––\n",
       "  AbstractRNG       168 bytes DataType           \n",
       "  MersenneTwister   224 bytes DataType           \n",
       "  Random          378.113 KiB Module             \n",
       "  RandomDevice      184 bytes DataType           \n",
       "  bitrand             0 bytes typeof(bitrand)    \n",
       "  rand!               0 bytes typeof(rand!)      \n",
       "  randcycle           0 bytes typeof(randcycle)  \n",
       "  randcycle!          0 bytes typeof(randcycle!) \n",
       "  randexp             0 bytes typeof(randexp)    \n",
       "  randexp!            0 bytes typeof(randexp!)   \n",
       "  randn!              0 bytes typeof(randn!)     \n",
       "  randperm            0 bytes typeof(randperm)   \n",
       "  randperm!           0 bytes typeof(randperm!)  \n",
       "  randstring          0 bytes typeof(randstring) \n",
       "  randsubseq          0 bytes typeof(randsubseq) \n",
       "  randsubseq!         0 bytes typeof(randsubseq!)\n",
       "  shuffle             0 bytes typeof(shuffle)    \n",
       "  shuffle!            0 bytes typeof(shuffle!)   "
      ]
     },
     "metadata": {},
     "output_type": "display_data"
    }
   ],
   "source": [
    "using Random\n",
    "display(varinfo(Random))"
   ]
  },
  {
   "cell_type": "code",
   "execution_count": 5,
   "metadata": {},
   "outputs": [
    {
     "data": {
      "text/plain": [
       "0.9372222409867041"
      ]
     },
     "execution_count": 5,
     "metadata": {},
     "output_type": "execute_result"
    }
   ],
   "source": [
    "rand()"
   ]
  },
  {
   "cell_type": "code",
   "execution_count": 6,
   "metadata": {},
   "outputs": [
    {
     "data": {
      "text/plain": [
       "2×3 Array{Float64,2}:\n",
       " 0.72242   0.271386  0.142695\n",
       " 0.915545  0.64245   0.480241"
      ]
     },
     "execution_count": 6,
     "metadata": {},
     "output_type": "execute_result"
    }
   ],
   "source": [
    "rand(2,3)"
   ]
  },
  {
   "cell_type": "code",
   "execution_count": 7,
   "metadata": {},
   "outputs": [
    {
     "data": {
      "text/plain": [
       "0.7812234474549106"
      ]
     },
     "execution_count": 7,
     "metadata": {},
     "output_type": "execute_result"
    }
   ],
   "source": [
    "randn()"
   ]
  },
  {
   "cell_type": "code",
   "execution_count": 8,
   "metadata": {},
   "outputs": [
    {
     "data": {
      "text/plain": [
       "0.4964617925625682"
      ]
     },
     "execution_count": 8,
     "metadata": {},
     "output_type": "execute_result"
    }
   ],
   "source": [
    "randexp()"
   ]
  },
  {
   "cell_type": "code",
   "execution_count": 9,
   "metadata": {},
   "outputs": [
    {
     "data": {
      "text/plain": [
       "\"tmFqp3vD\""
      ]
     },
     "execution_count": 9,
     "metadata": {},
     "output_type": "execute_result"
    }
   ],
   "source": [
    "randstring()"
   ]
  },
  {
   "cell_type": "code",
   "execution_count": 10,
   "metadata": {},
   "outputs": [
    {
     "data": {
      "text/plain": [
       "\"cbroN\""
      ]
     },
     "execution_count": 10,
     "metadata": {},
     "output_type": "execute_result"
    }
   ],
   "source": [
    "randstring(5)"
   ]
  },
  {
   "cell_type": "code",
   "execution_count": 11,
   "metadata": {},
   "outputs": [
    {
     "data": {
      "text/plain": [
       "3"
      ]
     },
     "execution_count": 11,
     "metadata": {},
     "output_type": "execute_result"
    }
   ],
   "source": [
    "rand(1:6)"
   ]
  },
  {
   "cell_type": "code",
   "execution_count": 12,
   "metadata": {},
   "outputs": [
    {
     "data": {
      "text/plain": [
       "3-element Array{Int64,1}:\n",
       " 2\n",
       " 1\n",
       " 6"
      ]
     },
     "execution_count": 12,
     "metadata": {},
     "output_type": "execute_result"
    }
   ],
   "source": [
    "rand(1:6,3)"
   ]
  },
  {
   "cell_type": "code",
   "execution_count": 13,
   "metadata": {},
   "outputs": [
    {
     "data": {
      "text/plain": [
       "\"tres\""
      ]
     },
     "execution_count": 13,
     "metadata": {},
     "output_type": "execute_result"
    }
   ],
   "source": [
    "rand([\"uno\",\"dos\",\"tres\"])"
   ]
  },
  {
   "cell_type": "code",
   "execution_count": 14,
   "metadata": {},
   "outputs": [
    {
     "data": {
      "text/plain": [
       "MersenneTwister(UInt32[0x0000303d], Random.DSFMT.DSFMT_state(Int32[-935566649, 1073237820, 1934592167, 1072843350, -447405271, 1073164189, -1188411050, 1073684654, -1129415430, 1073113899  …  1010550615, 1073350122, 216823553, 1072780241, 93702220, -2017834829, -1885108960, 970019212, 382, 0]), [0.0, 0.0, 0.0, 0.0, 0.0, 0.0, 0.0, 0.0, 0.0, 0.0  …  0.0, 0.0, 0.0, 0.0, 0.0, 0.0, 0.0, 0.0, 0.0, 0.0], UInt128[0x00000000000000000000000000000000, 0x00000000000000000000000000000000, 0x00000000000000000000000000000000, 0x00000000000000000000000000000000, 0x00000000000000000000000000000000, 0x00000000000000000000000000000000, 0x00000000000000000000000000000000, 0x00000000000000000000000000000000, 0x00000000000000000000000000000000, 0x00000000000000000000000000000000  …  0x00000000000000000000000000000000, 0x00000000000000000000000000000000, 0x00000000000000000000000000000000, 0x00000000000000000000000000000000, 0x00000000000000000000000000000000, 0x00000000000000000000000000000000, 0x00000000000000000000000000000000, 0x00000000000000000000000000000000, 0x00000000000000000000000000000000, 0x00000000000000000000000000000000], 1002, 0)"
      ]
     },
     "execution_count": 14,
     "metadata": {},
     "output_type": "execute_result"
    }
   ],
   "source": [
    "Random.seed!(12349)"
   ]
  },
  {
   "cell_type": "markdown",
   "metadata": {},
   "source": [
    "# DataFrames"
   ]
  },
  {
   "cell_type": "code",
   "execution_count": null,
   "metadata": {},
   "outputs": [],
   "source": []
  },
  {
   "cell_type": "code",
   "execution_count": null,
   "metadata": {},
   "outputs": [],
   "source": []
  },
  {
   "cell_type": "code",
   "execution_count": null,
   "metadata": {},
   "outputs": [],
   "source": []
  },
  {
   "cell_type": "code",
   "execution_count": null,
   "metadata": {},
   "outputs": [],
   "source": []
  },
  {
   "cell_type": "markdown",
   "metadata": {},
   "source": [
    "# Paquetes para leer y escribir  archivos de datos"
   ]
  },
  {
   "cell_type": "markdown",
   "metadata": {},
   "source": [
    "Los siguientes paquetes de Julia permiten traer archivos a Julia CSV, Parquet, SASLib, ReadStat, JSON, XLSX,PDFIO, "
   ]
  },
  {
   "cell_type": "markdown",
   "metadata": {},
   "source": [
    "## El paquete `RDatasets`"
   ]
  },
  {
   "cell_type": "markdown",
   "metadata": {},
   "source": [
    "Este paquete nos da una sencilla forma de acceder a los conjuntos de datos de algunos paquetes de `R`. "
   ]
  },
  {
   "cell_type": "code",
   "execution_count": 15,
   "metadata": {},
   "outputs": [
    {
     "name": "stderr",
     "output_type": "stream",
     "text": [
      "┌ Info: Precompiling RDatasets [ce6b1742-4840-55fa-b093-852dadbb1d8b]\n",
      "└ @ Base loading.jl:1278\n"
     ]
    }
   ],
   "source": [
    "using RDatasets, DataFrames, CSV"
   ]
  },
  {
   "cell_type": "code",
   "execution_count": 16,
   "metadata": {},
   "outputs": [
    {
     "data": {
      "text/html": [
       "<table class=\"data-frame\"><thead><tr><th></th><th>Package</th><th>Title</th></tr><tr><th></th><th>String</th><th>String</th></tr></thead><tbody><p>34 rows × 2 columns</p><tr><th>1</th><td>COUNT</td><td>Functions, data and code for count data.</td></tr><tr><th>2</th><td>Ecdat</td><td>Data sets for econometrics</td></tr><tr><th>3</th><td>HSAUR</td><td>A Handbook of Statistical Analyses Using R (1st Edition)</td></tr><tr><th>4</th><td>HistData</td><td>Data sets from the history of statistics and data visualization</td></tr><tr><th>5</th><td>ISLR</td><td>Data for An Introduction to Statistical Learning with Applications in R</td></tr><tr><th>6</th><td>KMsurv</td><td>Data sets from Klein and Moeschberger (1997), Survival Analysis</td></tr><tr><th>7</th><td>MASS</td><td>Support Functions and Datasets for Venables and Ripley's MASS</td></tr><tr><th>8</th><td>SASmixed</td><td>Data sets from \\\\</td></tr><tr><th>9</th><td>Zelig</td><td>Everyone's Statistical Software</td></tr><tr><th>10</th><td>adehabitatLT</td><td>Analysis of Animal Movements</td></tr><tr><th>11</th><td>boot</td><td>Bootstrap Functions (Originally by Angelo Canty for S)</td></tr><tr><th>12</th><td>car</td><td>Companion to Applied Regression</td></tr><tr><th>13</th><td>cluster</td><td>Cluster Analysis Extended Rousseeuw et al.</td></tr><tr><th>14</th><td>datasets</td><td>The R Datasets Package</td></tr><tr><th>15</th><td>gamair</td><td>Datasets used in the book Generalized Additive Models: An Introduction with R</td></tr><tr><th>16</th><td>gap</td><td>Genetic analysis package</td></tr><tr><th>17</th><td>ggplot2</td><td>An Implementation of the Grammar of Graphics</td></tr><tr><th>18</th><td>lattice</td><td>Lattice Graphics</td></tr><tr><th>19</th><td>lme4</td><td>Linear mixed-effects models using Eigen and S4</td></tr><tr><th>20</th><td>mgcv</td><td>Mixed GAM Computation Vehicle with GCV/AIC/REML smoothness estimation</td></tr><tr><th>21</th><td>mlmRev</td><td>Examples from Multilevel Modelling Software Review</td></tr><tr><th>22</th><td>nlreg</td><td>Higher Order Inference for Nonlinear Heteroscedastic Models</td></tr><tr><th>23</th><td>plm</td><td>Linear Models for Panel Data</td></tr><tr><th>24</th><td>plyr</td><td>Tools for splitting, applying and combining data</td></tr><tr><th>25</th><td>pscl</td><td>Political Science Computational Laboratory, Stanford University</td></tr><tr><th>26</th><td>psych</td><td>Procedures for Psychological, Psychometric, and Personality Research</td></tr><tr><th>27</th><td>quantreg</td><td>Quantile Regression</td></tr><tr><th>28</th><td>reshape2</td><td>Flexibly Reshape Data: A Reboot of the Reshape Package.</td></tr><tr><th>29</th><td>robustbase</td><td>Basic Robust Statistics</td></tr><tr><th>30</th><td>rpart</td><td>Recursive Partitioning and Regression Trees</td></tr><tr><th>&vellip;</th><td>&vellip;</td><td>&vellip;</td></tr></tbody></table>"
      ],
      "text/latex": [
       "\\begin{tabular}{r|cc}\n",
       "\t& Package & Title\\\\\n",
       "\t\\hline\n",
       "\t& String & String\\\\\n",
       "\t\\hline\n",
       "\t1 & COUNT & Functions, data and code for count data. \\\\\n",
       "\t2 & Ecdat & Data sets for econometrics \\\\\n",
       "\t3 & HSAUR & A Handbook of Statistical Analyses Using R (1st Edition) \\\\\n",
       "\t4 & HistData & Data sets from the history of statistics and data visualization \\\\\n",
       "\t5 & ISLR & Data for An Introduction to Statistical Learning with Applications in R \\\\\n",
       "\t6 & KMsurv & Data sets from Klein and Moeschberger (1997), Survival Analysis \\\\\n",
       "\t7 & MASS & Support Functions and Datasets for Venables and Ripley's MASS \\\\\n",
       "\t8 & SASmixed & Data sets from \\textbackslash{}\\textbackslash{} \\\\\n",
       "\t9 & Zelig & Everyone's Statistical Software \\\\\n",
       "\t10 & adehabitatLT & Analysis of Animal Movements \\\\\n",
       "\t11 & boot & Bootstrap Functions (Originally by Angelo Canty for S) \\\\\n",
       "\t12 & car & Companion to Applied Regression \\\\\n",
       "\t13 & cluster & Cluster Analysis Extended Rousseeuw et al. \\\\\n",
       "\t14 & datasets & The R Datasets Package \\\\\n",
       "\t15 & gamair & Datasets used in the book Generalized Additive Models: An Introduction with R \\\\\n",
       "\t16 & gap & Genetic analysis package \\\\\n",
       "\t17 & ggplot2 & An Implementation of the Grammar of Graphics \\\\\n",
       "\t18 & lattice & Lattice Graphics \\\\\n",
       "\t19 & lme4 & Linear mixed-effects models using Eigen and S4 \\\\\n",
       "\t20 & mgcv & Mixed GAM Computation Vehicle with GCV/AIC/REML smoothness estimation \\\\\n",
       "\t21 & mlmRev & Examples from Multilevel Modelling Software Review \\\\\n",
       "\t22 & nlreg & Higher Order Inference for Nonlinear Heteroscedastic Models \\\\\n",
       "\t23 & plm & Linear Models for Panel Data \\\\\n",
       "\t24 & plyr & Tools for splitting, applying and combining data \\\\\n",
       "\t25 & pscl & Political Science Computational Laboratory, Stanford University \\\\\n",
       "\t26 & psych & Procedures for Psychological, Psychometric, and Personality Research \\\\\n",
       "\t27 & quantreg & Quantile Regression \\\\\n",
       "\t28 & reshape2 & Flexibly Reshape Data: A Reboot of the Reshape Package. \\\\\n",
       "\t29 & robustbase & Basic Robust Statistics \\\\\n",
       "\t30 & rpart & Recursive Partitioning and Regression Trees \\\\\n",
       "\t$\\dots$ & $\\dots$ & $\\dots$ \\\\\n",
       "\\end{tabular}\n"
      ],
      "text/plain": [
       "34×2 DataFrame. Omitted printing of 1 columns\n",
       "│ Row │ Package      │\n",
       "│     │ \u001b[90mString\u001b[39m       │\n",
       "├─────┼──────────────┤\n",
       "│ 1   │ COUNT        │\n",
       "│ 2   │ Ecdat        │\n",
       "│ 3   │ HSAUR        │\n",
       "│ 4   │ HistData     │\n",
       "│ 5   │ ISLR         │\n",
       "│ 6   │ KMsurv       │\n",
       "│ 7   │ MASS         │\n",
       "│ 8   │ SASmixed     │\n",
       "│ 9   │ Zelig        │\n",
       "│ 10  │ adehabitatLT │\n",
       "⋮\n",
       "│ 24  │ plyr         │\n",
       "│ 25  │ pscl         │\n",
       "│ 26  │ psych        │\n",
       "│ 27  │ quantreg     │\n",
       "│ 28  │ reshape2     │\n",
       "│ 29  │ robustbase   │\n",
       "│ 30  │ rpart        │\n",
       "│ 31  │ sandwich     │\n",
       "│ 32  │ sem          │\n",
       "│ 33  │ survival     │\n",
       "│ 34  │ vcd          │"
      ]
     },
     "execution_count": 16,
     "metadata": {},
     "output_type": "execute_result"
    }
   ],
   "source": [
    "RDatasets.packages()"
   ]
  },
  {
   "cell_type": "code",
   "execution_count": 17,
   "metadata": {},
   "outputs": [
    {
     "data": {
      "text/html": [
       "<table class=\"data-frame\"><thead><tr><th></th><th>Package</th><th>Dataset</th><th>Title</th></tr><tr><th></th><th>String</th><th>String</th><th>String</th></tr></thead><tbody><p>8 rows × 5 columns (omitted printing of 2 columns)</p><tr><th>1</th><td>ggplot2</td><td>diamonds</td><td>Prices of 50,000 round cut diamonds</td></tr><tr><th>2</th><td>ggplot2</td><td>economics</td><td>US economic time series.</td></tr><tr><th>3</th><td>ggplot2</td><td>midwest</td><td>Midwest demographics.</td></tr><tr><th>4</th><td>ggplot2</td><td>movies</td><td>Movie information and user ratings from IMDB.com.</td></tr><tr><th>5</th><td>ggplot2</td><td>mpg</td><td>Fuel economy data from 1999 and 2008 for 38 popular models of car</td></tr><tr><th>6</th><td>ggplot2</td><td>msleep</td><td>An updated and expanded version of the mammals sleep dataset.</td></tr><tr><th>7</th><td>ggplot2</td><td>presidential</td><td>Terms of 10 presidents from Eisenhower to Bush W.</td></tr><tr><th>8</th><td>ggplot2</td><td>seals</td><td>Vector field of seal movements.</td></tr></tbody></table>"
      ],
      "text/latex": [
       "\\begin{tabular}{r|cccc}\n",
       "\t& Package & Dataset & Title & \\\\\n",
       "\t\\hline\n",
       "\t& String & String & String & \\\\\n",
       "\t\\hline\n",
       "\t1 & ggplot2 & diamonds & Prices of 50,000 round cut diamonds & $\\dots$ \\\\\n",
       "\t2 & ggplot2 & economics & US economic time series. & $\\dots$ \\\\\n",
       "\t3 & ggplot2 & midwest & Midwest demographics. & $\\dots$ \\\\\n",
       "\t4 & ggplot2 & movies & Movie information and user ratings from IMDB.com. & $\\dots$ \\\\\n",
       "\t5 & ggplot2 & mpg & Fuel economy data from 1999 and 2008 for 38 popular models of car & $\\dots$ \\\\\n",
       "\t6 & ggplot2 & msleep & An updated and expanded version of the mammals sleep dataset. & $\\dots$ \\\\\n",
       "\t7 & ggplot2 & presidential & Terms of 10 presidents from Eisenhower to Bush W. & $\\dots$ \\\\\n",
       "\t8 & ggplot2 & seals & Vector field of seal movements. & $\\dots$ \\\\\n",
       "\\end{tabular}\n"
      ],
      "text/plain": [
       "8×5 DataFrame. Omitted printing of 3 columns\n",
       "│ Row │ Package │ Dataset      │\n",
       "│     │ \u001b[90mString\u001b[39m  │ \u001b[90mString\u001b[39m       │\n",
       "├─────┼─────────┼──────────────┤\n",
       "│ 1   │ ggplot2 │ diamonds     │\n",
       "│ 2   │ ggplot2 │ economics    │\n",
       "│ 3   │ ggplot2 │ midwest      │\n",
       "│ 4   │ ggplot2 │ movies       │\n",
       "│ 5   │ ggplot2 │ mpg          │\n",
       "│ 6   │ ggplot2 │ msleep       │\n",
       "│ 7   │ ggplot2 │ presidential │\n",
       "│ 8   │ ggplot2 │ seals        │"
      ]
     },
     "execution_count": 17,
     "metadata": {},
     "output_type": "execute_result"
    }
   ],
   "source": [
    "RDatasets.datasets(\"ggplot2\")"
   ]
  },
  {
   "cell_type": "code",
   "execution_count": 18,
   "metadata": {},
   "outputs": [
    {
     "data": {
      "text/html": [
       "<table class=\"data-frame\"><thead><tr><th></th><th>Carat</th><th>Cut</th><th>Color</th><th>Clarity</th><th>Depth</th><th>Table</th><th>Price</th><th>X</th><th>Y</th><th>Z</th></tr><tr><th></th><th>Float64</th><th>Cat…</th><th>Cat…</th><th>Cat…</th><th>Float64</th><th>Float64</th><th>Int32</th><th>Float64</th><th>Float64</th><th>Float64</th></tr></thead><tbody><p>53,940 rows × 10 columns</p><tr><th>1</th><td>0.23</td><td>Ideal</td><td>E</td><td>SI2</td><td>61.5</td><td>55.0</td><td>326</td><td>3.95</td><td>3.98</td><td>2.43</td></tr><tr><th>2</th><td>0.21</td><td>Premium</td><td>E</td><td>SI1</td><td>59.8</td><td>61.0</td><td>326</td><td>3.89</td><td>3.84</td><td>2.31</td></tr><tr><th>3</th><td>0.23</td><td>Good</td><td>E</td><td>VS1</td><td>56.9</td><td>65.0</td><td>327</td><td>4.05</td><td>4.07</td><td>2.31</td></tr><tr><th>4</th><td>0.29</td><td>Premium</td><td>I</td><td>VS2</td><td>62.4</td><td>58.0</td><td>334</td><td>4.2</td><td>4.23</td><td>2.63</td></tr><tr><th>5</th><td>0.31</td><td>Good</td><td>J</td><td>SI2</td><td>63.3</td><td>58.0</td><td>335</td><td>4.34</td><td>4.35</td><td>2.75</td></tr><tr><th>6</th><td>0.24</td><td>Very Good</td><td>J</td><td>VVS2</td><td>62.8</td><td>57.0</td><td>336</td><td>3.94</td><td>3.96</td><td>2.48</td></tr><tr><th>7</th><td>0.24</td><td>Very Good</td><td>I</td><td>VVS1</td><td>62.3</td><td>57.0</td><td>336</td><td>3.95</td><td>3.98</td><td>2.47</td></tr><tr><th>8</th><td>0.26</td><td>Very Good</td><td>H</td><td>SI1</td><td>61.9</td><td>55.0</td><td>337</td><td>4.07</td><td>4.11</td><td>2.53</td></tr><tr><th>9</th><td>0.22</td><td>Fair</td><td>E</td><td>VS2</td><td>65.1</td><td>61.0</td><td>337</td><td>3.87</td><td>3.78</td><td>2.49</td></tr><tr><th>10</th><td>0.23</td><td>Very Good</td><td>H</td><td>VS1</td><td>59.4</td><td>61.0</td><td>338</td><td>4.0</td><td>4.05</td><td>2.39</td></tr><tr><th>11</th><td>0.3</td><td>Good</td><td>J</td><td>SI1</td><td>64.0</td><td>55.0</td><td>339</td><td>4.25</td><td>4.28</td><td>2.73</td></tr><tr><th>12</th><td>0.23</td><td>Ideal</td><td>J</td><td>VS1</td><td>62.8</td><td>56.0</td><td>340</td><td>3.93</td><td>3.9</td><td>2.46</td></tr><tr><th>13</th><td>0.22</td><td>Premium</td><td>F</td><td>SI1</td><td>60.4</td><td>61.0</td><td>342</td><td>3.88</td><td>3.84</td><td>2.33</td></tr><tr><th>14</th><td>0.31</td><td>Ideal</td><td>J</td><td>SI2</td><td>62.2</td><td>54.0</td><td>344</td><td>4.35</td><td>4.37</td><td>2.71</td></tr><tr><th>15</th><td>0.2</td><td>Premium</td><td>E</td><td>SI2</td><td>60.2</td><td>62.0</td><td>345</td><td>3.79</td><td>3.75</td><td>2.27</td></tr><tr><th>16</th><td>0.32</td><td>Premium</td><td>E</td><td>I1</td><td>60.9</td><td>58.0</td><td>345</td><td>4.38</td><td>4.42</td><td>2.68</td></tr><tr><th>17</th><td>0.3</td><td>Ideal</td><td>I</td><td>SI2</td><td>62.0</td><td>54.0</td><td>348</td><td>4.31</td><td>4.34</td><td>2.68</td></tr><tr><th>18</th><td>0.3</td><td>Good</td><td>J</td><td>SI1</td><td>63.4</td><td>54.0</td><td>351</td><td>4.23</td><td>4.29</td><td>2.7</td></tr><tr><th>19</th><td>0.3</td><td>Good</td><td>J</td><td>SI1</td><td>63.8</td><td>56.0</td><td>351</td><td>4.23</td><td>4.26</td><td>2.71</td></tr><tr><th>20</th><td>0.3</td><td>Very Good</td><td>J</td><td>SI1</td><td>62.7</td><td>59.0</td><td>351</td><td>4.21</td><td>4.27</td><td>2.66</td></tr><tr><th>21</th><td>0.3</td><td>Good</td><td>I</td><td>SI2</td><td>63.3</td><td>56.0</td><td>351</td><td>4.26</td><td>4.3</td><td>2.71</td></tr><tr><th>22</th><td>0.23</td><td>Very Good</td><td>E</td><td>VS2</td><td>63.8</td><td>55.0</td><td>352</td><td>3.85</td><td>3.92</td><td>2.48</td></tr><tr><th>23</th><td>0.23</td><td>Very Good</td><td>H</td><td>VS1</td><td>61.0</td><td>57.0</td><td>353</td><td>3.94</td><td>3.96</td><td>2.41</td></tr><tr><th>24</th><td>0.31</td><td>Very Good</td><td>J</td><td>SI1</td><td>59.4</td><td>62.0</td><td>353</td><td>4.39</td><td>4.43</td><td>2.62</td></tr><tr><th>25</th><td>0.31</td><td>Very Good</td><td>J</td><td>SI1</td><td>58.1</td><td>62.0</td><td>353</td><td>4.44</td><td>4.47</td><td>2.59</td></tr><tr><th>26</th><td>0.23</td><td>Very Good</td><td>G</td><td>VVS2</td><td>60.4</td><td>58.0</td><td>354</td><td>3.97</td><td>4.01</td><td>2.41</td></tr><tr><th>27</th><td>0.24</td><td>Premium</td><td>I</td><td>VS1</td><td>62.5</td><td>57.0</td><td>355</td><td>3.97</td><td>3.94</td><td>2.47</td></tr><tr><th>28</th><td>0.3</td><td>Very Good</td><td>J</td><td>VS2</td><td>62.2</td><td>57.0</td><td>357</td><td>4.28</td><td>4.3</td><td>2.67</td></tr><tr><th>29</th><td>0.23</td><td>Very Good</td><td>D</td><td>VS2</td><td>60.5</td><td>61.0</td><td>357</td><td>3.96</td><td>3.97</td><td>2.4</td></tr><tr><th>30</th><td>0.23</td><td>Very Good</td><td>F</td><td>VS1</td><td>60.9</td><td>57.0</td><td>357</td><td>3.96</td><td>3.99</td><td>2.42</td></tr><tr><th>&vellip;</th><td>&vellip;</td><td>&vellip;</td><td>&vellip;</td><td>&vellip;</td><td>&vellip;</td><td>&vellip;</td><td>&vellip;</td><td>&vellip;</td><td>&vellip;</td><td>&vellip;</td></tr></tbody></table>"
      ],
      "text/latex": [
       "\\begin{tabular}{r|cccccccccc}\n",
       "\t& Carat & Cut & Color & Clarity & Depth & Table & Price & X & Y & Z\\\\\n",
       "\t\\hline\n",
       "\t& Float64 & Cat… & Cat… & Cat… & Float64 & Float64 & Int32 & Float64 & Float64 & Float64\\\\\n",
       "\t\\hline\n",
       "\t1 & 0.23 & Ideal & E & SI2 & 61.5 & 55.0 & 326 & 3.95 & 3.98 & 2.43 \\\\\n",
       "\t2 & 0.21 & Premium & E & SI1 & 59.8 & 61.0 & 326 & 3.89 & 3.84 & 2.31 \\\\\n",
       "\t3 & 0.23 & Good & E & VS1 & 56.9 & 65.0 & 327 & 4.05 & 4.07 & 2.31 \\\\\n",
       "\t4 & 0.29 & Premium & I & VS2 & 62.4 & 58.0 & 334 & 4.2 & 4.23 & 2.63 \\\\\n",
       "\t5 & 0.31 & Good & J & SI2 & 63.3 & 58.0 & 335 & 4.34 & 4.35 & 2.75 \\\\\n",
       "\t6 & 0.24 & Very Good & J & VVS2 & 62.8 & 57.0 & 336 & 3.94 & 3.96 & 2.48 \\\\\n",
       "\t7 & 0.24 & Very Good & I & VVS1 & 62.3 & 57.0 & 336 & 3.95 & 3.98 & 2.47 \\\\\n",
       "\t8 & 0.26 & Very Good & H & SI1 & 61.9 & 55.0 & 337 & 4.07 & 4.11 & 2.53 \\\\\n",
       "\t9 & 0.22 & Fair & E & VS2 & 65.1 & 61.0 & 337 & 3.87 & 3.78 & 2.49 \\\\\n",
       "\t10 & 0.23 & Very Good & H & VS1 & 59.4 & 61.0 & 338 & 4.0 & 4.05 & 2.39 \\\\\n",
       "\t11 & 0.3 & Good & J & SI1 & 64.0 & 55.0 & 339 & 4.25 & 4.28 & 2.73 \\\\\n",
       "\t12 & 0.23 & Ideal & J & VS1 & 62.8 & 56.0 & 340 & 3.93 & 3.9 & 2.46 \\\\\n",
       "\t13 & 0.22 & Premium & F & SI1 & 60.4 & 61.0 & 342 & 3.88 & 3.84 & 2.33 \\\\\n",
       "\t14 & 0.31 & Ideal & J & SI2 & 62.2 & 54.0 & 344 & 4.35 & 4.37 & 2.71 \\\\\n",
       "\t15 & 0.2 & Premium & E & SI2 & 60.2 & 62.0 & 345 & 3.79 & 3.75 & 2.27 \\\\\n",
       "\t16 & 0.32 & Premium & E & I1 & 60.9 & 58.0 & 345 & 4.38 & 4.42 & 2.68 \\\\\n",
       "\t17 & 0.3 & Ideal & I & SI2 & 62.0 & 54.0 & 348 & 4.31 & 4.34 & 2.68 \\\\\n",
       "\t18 & 0.3 & Good & J & SI1 & 63.4 & 54.0 & 351 & 4.23 & 4.29 & 2.7 \\\\\n",
       "\t19 & 0.3 & Good & J & SI1 & 63.8 & 56.0 & 351 & 4.23 & 4.26 & 2.71 \\\\\n",
       "\t20 & 0.3 & Very Good & J & SI1 & 62.7 & 59.0 & 351 & 4.21 & 4.27 & 2.66 \\\\\n",
       "\t21 & 0.3 & Good & I & SI2 & 63.3 & 56.0 & 351 & 4.26 & 4.3 & 2.71 \\\\\n",
       "\t22 & 0.23 & Very Good & E & VS2 & 63.8 & 55.0 & 352 & 3.85 & 3.92 & 2.48 \\\\\n",
       "\t23 & 0.23 & Very Good & H & VS1 & 61.0 & 57.0 & 353 & 3.94 & 3.96 & 2.41 \\\\\n",
       "\t24 & 0.31 & Very Good & J & SI1 & 59.4 & 62.0 & 353 & 4.39 & 4.43 & 2.62 \\\\\n",
       "\t25 & 0.31 & Very Good & J & SI1 & 58.1 & 62.0 & 353 & 4.44 & 4.47 & 2.59 \\\\\n",
       "\t26 & 0.23 & Very Good & G & VVS2 & 60.4 & 58.0 & 354 & 3.97 & 4.01 & 2.41 \\\\\n",
       "\t27 & 0.24 & Premium & I & VS1 & 62.5 & 57.0 & 355 & 3.97 & 3.94 & 2.47 \\\\\n",
       "\t28 & 0.3 & Very Good & J & VS2 & 62.2 & 57.0 & 357 & 4.28 & 4.3 & 2.67 \\\\\n",
       "\t29 & 0.23 & Very Good & D & VS2 & 60.5 & 61.0 & 357 & 3.96 & 3.97 & 2.4 \\\\\n",
       "\t30 & 0.23 & Very Good & F & VS1 & 60.9 & 57.0 & 357 & 3.96 & 3.99 & 2.42 \\\\\n",
       "\t$\\dots$ & $\\dots$ & $\\dots$ & $\\dots$ & $\\dots$ & $\\dots$ & $\\dots$ & $\\dots$ & $\\dots$ & $\\dots$ & $\\dots$ \\\\\n",
       "\\end{tabular}\n"
      ],
      "text/plain": [
       "53940×10 DataFrame. Omitted printing of 3 columns\n",
       "│ Row   │ Carat   │ Cut       │ Color │ Clarity │ Depth   │ Table   │ Price │\n",
       "│       │ \u001b[90mFloat64\u001b[39m │ \u001b[90mCat…\u001b[39m      │ \u001b[90mCat…\u001b[39m  │ \u001b[90mCat…\u001b[39m    │ \u001b[90mFloat64\u001b[39m │ \u001b[90mFloat64\u001b[39m │ \u001b[90mInt32\u001b[39m │\n",
       "├───────┼─────────┼───────────┼───────┼─────────┼─────────┼─────────┼───────┤\n",
       "│ 1     │ 0.23    │ Ideal     │ E     │ SI2     │ 61.5    │ 55.0    │ 326   │\n",
       "│ 2     │ 0.21    │ Premium   │ E     │ SI1     │ 59.8    │ 61.0    │ 326   │\n",
       "│ 3     │ 0.23    │ Good      │ E     │ VS1     │ 56.9    │ 65.0    │ 327   │\n",
       "│ 4     │ 0.29    │ Premium   │ I     │ VS2     │ 62.4    │ 58.0    │ 334   │\n",
       "│ 5     │ 0.31    │ Good      │ J     │ SI2     │ 63.3    │ 58.0    │ 335   │\n",
       "│ 6     │ 0.24    │ Very Good │ J     │ VVS2    │ 62.8    │ 57.0    │ 336   │\n",
       "│ 7     │ 0.24    │ Very Good │ I     │ VVS1    │ 62.3    │ 57.0    │ 336   │\n",
       "│ 8     │ 0.26    │ Very Good │ H     │ SI1     │ 61.9    │ 55.0    │ 337   │\n",
       "│ 9     │ 0.22    │ Fair      │ E     │ VS2     │ 65.1    │ 61.0    │ 337   │\n",
       "│ 10    │ 0.23    │ Very Good │ H     │ VS1     │ 59.4    │ 61.0    │ 338   │\n",
       "⋮\n",
       "│ 53930 │ 0.71    │ Ideal     │ G     │ VS1     │ 61.4    │ 56.0    │ 2756  │\n",
       "│ 53931 │ 0.71    │ Premium   │ E     │ SI1     │ 60.5    │ 55.0    │ 2756  │\n",
       "│ 53932 │ 0.71    │ Premium   │ F     │ SI1     │ 59.8    │ 62.0    │ 2756  │\n",
       "│ 53933 │ 0.7     │ Very Good │ E     │ VS2     │ 60.5    │ 59.0    │ 2757  │\n",
       "│ 53934 │ 0.7     │ Very Good │ E     │ VS2     │ 61.2    │ 59.0    │ 2757  │\n",
       "│ 53935 │ 0.72    │ Premium   │ D     │ SI1     │ 62.7    │ 59.0    │ 2757  │\n",
       "│ 53936 │ 0.72    │ Ideal     │ D     │ SI1     │ 60.8    │ 57.0    │ 2757  │\n",
       "│ 53937 │ 0.72    │ Good      │ D     │ SI1     │ 63.1    │ 55.0    │ 2757  │\n",
       "│ 53938 │ 0.7     │ Very Good │ D     │ SI1     │ 62.8    │ 60.0    │ 2757  │\n",
       "│ 53939 │ 0.86    │ Premium   │ H     │ SI2     │ 61.0    │ 58.0    │ 2757  │\n",
       "│ 53940 │ 0.75    │ Ideal     │ D     │ SI2     │ 62.2    │ 55.0    │ 2757  │"
      ]
     },
     "execution_count": 18,
     "metadata": {},
     "output_type": "execute_result"
    }
   ],
   "source": [
    "diamantes = dataset(\"ggplot2\",\"diamonds\")"
   ]
  },
  {
   "cell_type": "code",
   "execution_count": 19,
   "metadata": {},
   "outputs": [],
   "source": [
    "using DataFrames, CSV, Statistics"
   ]
  },
  {
   "cell_type": "code",
   "execution_count": 20,
   "metadata": {},
   "outputs": [
    {
     "data": {
      "text/plain": [
       "\"https://raw.githubusercontent.com/CSSEGISandData/COVID-19/master/csse_covid_19_data/csse_covid_19_time_series/time_series_covid19_confirmed_global.csv\""
      ]
     },
     "execution_count": 20,
     "metadata": {},
     "output_type": "execute_result"
    }
   ],
   "source": [
    "url=\"https://raw.githubusercontent.com/CSSEGISandData/COVID-19/master/csse_covid_19_data/csse_covid_19_time_series/time_series_covid19_confirmed_global.csv\""
   ]
  },
  {
   "cell_type": "code",
   "execution_count": 21,
   "metadata": {},
   "outputs": [
    {
     "data": {
      "text/plain": [
       "\"covid.csv\""
      ]
     },
     "execution_count": 21,
     "metadata": {},
     "output_type": "execute_result"
    }
   ],
   "source": [
    "download(url,\"covid.csv\")"
   ]
  },
  {
   "cell_type": "code",
   "execution_count": 22,
   "metadata": {},
   "outputs": [
    {
     "data": {
      "text/html": [
       "<table class=\"data-frame\"><thead><tr><th></th><th>Province/State</th><th>Country/Region</th><th>Lat</th><th>Long</th><th>1/22/20</th></tr><tr><th></th><th>String?</th><th>String</th><th>Float64?</th><th>Float64?</th><th>Int64</th></tr></thead><tbody><p>274 rows × 451 columns (omitted printing of 446 columns)</p><tr><th>1</th><td><em>missing</em></td><td>Afghanistan</td><td>33.9391</td><td>67.71</td><td>0</td></tr><tr><th>2</th><td><em>missing</em></td><td>Albania</td><td>41.1533</td><td>20.1683</td><td>0</td></tr><tr><th>3</th><td><em>missing</em></td><td>Algeria</td><td>28.0339</td><td>1.6596</td><td>0</td></tr><tr><th>4</th><td><em>missing</em></td><td>Andorra</td><td>42.5063</td><td>1.5218</td><td>0</td></tr><tr><th>5</th><td><em>missing</em></td><td>Angola</td><td>-11.2027</td><td>17.8739</td><td>0</td></tr><tr><th>6</th><td><em>missing</em></td><td>Antigua and Barbuda</td><td>17.0608</td><td>-61.7964</td><td>0</td></tr><tr><th>7</th><td><em>missing</em></td><td>Argentina</td><td>-38.4161</td><td>-63.6167</td><td>0</td></tr><tr><th>8</th><td><em>missing</em></td><td>Armenia</td><td>40.0691</td><td>45.0382</td><td>0</td></tr><tr><th>9</th><td>Australian Capital Territory</td><td>Australia</td><td>-35.4735</td><td>149.012</td><td>0</td></tr><tr><th>10</th><td>New South Wales</td><td>Australia</td><td>-33.8688</td><td>151.209</td><td>0</td></tr><tr><th>11</th><td>Northern Territory</td><td>Australia</td><td>-12.4634</td><td>130.846</td><td>0</td></tr><tr><th>12</th><td>Queensland</td><td>Australia</td><td>-27.4698</td><td>153.025</td><td>0</td></tr><tr><th>13</th><td>South Australia</td><td>Australia</td><td>-34.9285</td><td>138.601</td><td>0</td></tr><tr><th>14</th><td>Tasmania</td><td>Australia</td><td>-42.8821</td><td>147.327</td><td>0</td></tr><tr><th>15</th><td>Victoria</td><td>Australia</td><td>-37.8136</td><td>144.963</td><td>0</td></tr><tr><th>16</th><td>Western Australia</td><td>Australia</td><td>-31.9505</td><td>115.861</td><td>0</td></tr><tr><th>17</th><td><em>missing</em></td><td>Austria</td><td>47.5162</td><td>14.5501</td><td>0</td></tr><tr><th>18</th><td><em>missing</em></td><td>Azerbaijan</td><td>40.1431</td><td>47.5769</td><td>0</td></tr><tr><th>19</th><td><em>missing</em></td><td>Bahamas</td><td>25.0259</td><td>-78.0359</td><td>0</td></tr><tr><th>20</th><td><em>missing</em></td><td>Bahrain</td><td>26.0275</td><td>50.55</td><td>0</td></tr><tr><th>21</th><td><em>missing</em></td><td>Bangladesh</td><td>23.685</td><td>90.3563</td><td>0</td></tr><tr><th>22</th><td><em>missing</em></td><td>Barbados</td><td>13.1939</td><td>-59.5432</td><td>0</td></tr><tr><th>23</th><td><em>missing</em></td><td>Belarus</td><td>53.7098</td><td>27.9534</td><td>0</td></tr><tr><th>24</th><td><em>missing</em></td><td>Belgium</td><td>50.8333</td><td>4.46994</td><td>0</td></tr><tr><th>25</th><td><em>missing</em></td><td>Belize</td><td>17.1899</td><td>-88.4976</td><td>0</td></tr><tr><th>26</th><td><em>missing</em></td><td>Benin</td><td>9.3077</td><td>2.3158</td><td>0</td></tr><tr><th>27</th><td><em>missing</em></td><td>Bhutan</td><td>27.5142</td><td>90.4336</td><td>0</td></tr><tr><th>28</th><td><em>missing</em></td><td>Bolivia</td><td>-16.2902</td><td>-63.5887</td><td>0</td></tr><tr><th>29</th><td><em>missing</em></td><td>Bosnia and Herzegovina</td><td>43.9159</td><td>17.6791</td><td>0</td></tr><tr><th>30</th><td><em>missing</em></td><td>Botswana</td><td>-22.3285</td><td>24.6849</td><td>0</td></tr><tr><th>&vellip;</th><td>&vellip;</td><td>&vellip;</td><td>&vellip;</td><td>&vellip;</td><td>&vellip;</td></tr></tbody></table>"
      ],
      "text/latex": [
       "\\begin{tabular}{r|cccccc}\n",
       "\t& Province/State & Country/Region & Lat & Long & 1/22/20 & \\\\\n",
       "\t\\hline\n",
       "\t& String? & String & Float64? & Float64? & Int64 & \\\\\n",
       "\t\\hline\n",
       "\t1 & \\emph{missing} & Afghanistan & 33.9391 & 67.71 & 0 & $\\dots$ \\\\\n",
       "\t2 & \\emph{missing} & Albania & 41.1533 & 20.1683 & 0 & $\\dots$ \\\\\n",
       "\t3 & \\emph{missing} & Algeria & 28.0339 & 1.6596 & 0 & $\\dots$ \\\\\n",
       "\t4 & \\emph{missing} & Andorra & 42.5063 & 1.5218 & 0 & $\\dots$ \\\\\n",
       "\t5 & \\emph{missing} & Angola & -11.2027 & 17.8739 & 0 & $\\dots$ \\\\\n",
       "\t6 & \\emph{missing} & Antigua and Barbuda & 17.0608 & -61.7964 & 0 & $\\dots$ \\\\\n",
       "\t7 & \\emph{missing} & Argentina & -38.4161 & -63.6167 & 0 & $\\dots$ \\\\\n",
       "\t8 & \\emph{missing} & Armenia & 40.0691 & 45.0382 & 0 & $\\dots$ \\\\\n",
       "\t9 & Australian Capital Territory & Australia & -35.4735 & 149.012 & 0 & $\\dots$ \\\\\n",
       "\t10 & New South Wales & Australia & -33.8688 & 151.209 & 0 & $\\dots$ \\\\\n",
       "\t11 & Northern Territory & Australia & -12.4634 & 130.846 & 0 & $\\dots$ \\\\\n",
       "\t12 & Queensland & Australia & -27.4698 & 153.025 & 0 & $\\dots$ \\\\\n",
       "\t13 & South Australia & Australia & -34.9285 & 138.601 & 0 & $\\dots$ \\\\\n",
       "\t14 & Tasmania & Australia & -42.8821 & 147.327 & 0 & $\\dots$ \\\\\n",
       "\t15 & Victoria & Australia & -37.8136 & 144.963 & 0 & $\\dots$ \\\\\n",
       "\t16 & Western Australia & Australia & -31.9505 & 115.861 & 0 & $\\dots$ \\\\\n",
       "\t17 & \\emph{missing} & Austria & 47.5162 & 14.5501 & 0 & $\\dots$ \\\\\n",
       "\t18 & \\emph{missing} & Azerbaijan & 40.1431 & 47.5769 & 0 & $\\dots$ \\\\\n",
       "\t19 & \\emph{missing} & Bahamas & 25.0259 & -78.0359 & 0 & $\\dots$ \\\\\n",
       "\t20 & \\emph{missing} & Bahrain & 26.0275 & 50.55 & 0 & $\\dots$ \\\\\n",
       "\t21 & \\emph{missing} & Bangladesh & 23.685 & 90.3563 & 0 & $\\dots$ \\\\\n",
       "\t22 & \\emph{missing} & Barbados & 13.1939 & -59.5432 & 0 & $\\dots$ \\\\\n",
       "\t23 & \\emph{missing} & Belarus & 53.7098 & 27.9534 & 0 & $\\dots$ \\\\\n",
       "\t24 & \\emph{missing} & Belgium & 50.8333 & 4.46994 & 0 & $\\dots$ \\\\\n",
       "\t25 & \\emph{missing} & Belize & 17.1899 & -88.4976 & 0 & $\\dots$ \\\\\n",
       "\t26 & \\emph{missing} & Benin & 9.3077 & 2.3158 & 0 & $\\dots$ \\\\\n",
       "\t27 & \\emph{missing} & Bhutan & 27.5142 & 90.4336 & 0 & $\\dots$ \\\\\n",
       "\t28 & \\emph{missing} & Bolivia & -16.2902 & -63.5887 & 0 & $\\dots$ \\\\\n",
       "\t29 & \\emph{missing} & Bosnia and Herzegovina & 43.9159 & 17.6791 & 0 & $\\dots$ \\\\\n",
       "\t30 & \\emph{missing} & Botswana & -22.3285 & 24.6849 & 0 & $\\dots$ \\\\\n",
       "\t$\\dots$ & $\\dots$ & $\\dots$ & $\\dots$ & $\\dots$ & $\\dots$ &  \\\\\n",
       "\\end{tabular}\n"
      ],
      "text/plain": [
       "274×451 DataFrame. Omitted printing of 448 columns\n",
       "│ Row │ Province/State               │ Country/Region      │ Lat      │\n",
       "│     │ \u001b[90mUnion{Missing, String}\u001b[39m       │ \u001b[90mString\u001b[39m              │ \u001b[90mFloat64?\u001b[39m │\n",
       "├─────┼──────────────────────────────┼─────────────────────┼──────────┤\n",
       "│ 1   │ \u001b[90mmissing\u001b[39m                      │ Afghanistan         │ 33.9391  │\n",
       "│ 2   │ \u001b[90mmissing\u001b[39m                      │ Albania             │ 41.1533  │\n",
       "│ 3   │ \u001b[90mmissing\u001b[39m                      │ Algeria             │ 28.0339  │\n",
       "│ 4   │ \u001b[90mmissing\u001b[39m                      │ Andorra             │ 42.5063  │\n",
       "│ 5   │ \u001b[90mmissing\u001b[39m                      │ Angola              │ -11.2027 │\n",
       "│ 6   │ \u001b[90mmissing\u001b[39m                      │ Antigua and Barbuda │ 17.0608  │\n",
       "│ 7   │ \u001b[90mmissing\u001b[39m                      │ Argentina           │ -38.4161 │\n",
       "│ 8   │ \u001b[90mmissing\u001b[39m                      │ Armenia             │ 40.0691  │\n",
       "│ 9   │ Australian Capital Territory │ Australia           │ -35.4735 │\n",
       "│ 10  │ New South Wales              │ Australia           │ -33.8688 │\n",
       "⋮\n",
       "│ 264 │ Turks and Caicos Islands     │ United Kingdom      │ 21.694   │\n",
       "│ 265 │ \u001b[90mmissing\u001b[39m                      │ United Kingdom      │ 55.3781  │\n",
       "│ 266 │ \u001b[90mmissing\u001b[39m                      │ Uruguay             │ -32.5228 │\n",
       "│ 267 │ \u001b[90mmissing\u001b[39m                      │ Uzbekistan          │ 41.3775  │\n",
       "│ 268 │ \u001b[90mmissing\u001b[39m                      │ Vanuatu             │ -15.3767 │\n",
       "│ 269 │ \u001b[90mmissing\u001b[39m                      │ Venezuela           │ 6.4238   │\n",
       "│ 270 │ \u001b[90mmissing\u001b[39m                      │ Vietnam             │ 14.0583  │\n",
       "│ 271 │ \u001b[90mmissing\u001b[39m                      │ West Bank and Gaza  │ 31.9522  │\n",
       "│ 272 │ \u001b[90mmissing\u001b[39m                      │ Yemen               │ 15.5527  │\n",
       "│ 273 │ \u001b[90mmissing\u001b[39m                      │ Zambia              │ -13.1339 │\n",
       "│ 274 │ \u001b[90mmissing\u001b[39m                      │ Zimbabwe            │ -19.0154 │"
      ]
     },
     "execution_count": 22,
     "metadata": {},
     "output_type": "execute_result"
    }
   ],
   "source": [
    "begin\n",
    "    datos_csv = CSV.File(\"covid.csv\")\n",
    "    datos = DataFrame(datos_csv)\n",
    "end"
   ]
  },
  {
   "cell_type": "code",
   "execution_count": 23,
   "metadata": {},
   "outputs": [
    {
     "data": {
      "text/plain": [
       "451-element Array{String,1}:\n",
       " \"Province/State\"\n",
       " \"Country/Region\"\n",
       " \"Lat\"\n",
       " \"Long\"\n",
       " \"1/22/20\"\n",
       " \"1/23/20\"\n",
       " \"1/24/20\"\n",
       " \"1/25/20\"\n",
       " \"1/26/20\"\n",
       " \"1/27/20\"\n",
       " \"1/28/20\"\n",
       " \"1/29/20\"\n",
       " \"1/30/20\"\n",
       " ⋮\n",
       " \"4/1/21\"\n",
       " \"4/2/21\"\n",
       " \"4/3/21\"\n",
       " \"4/4/21\"\n",
       " \"4/5/21\"\n",
       " \"4/6/21\"\n",
       " \"4/7/21\"\n",
       " \"4/8/21\"\n",
       " \"4/9/21\"\n",
       " \"4/10/21\"\n",
       " \"4/11/21\"\n",
       " \"4/12/21\""
      ]
     },
     "execution_count": 23,
     "metadata": {},
     "output_type": "execute_result"
    }
   ],
   "source": [
    "names(datos)"
   ]
  },
  {
   "cell_type": "code",
   "execution_count": 24,
   "metadata": {},
   "outputs": [
    {
     "data": {
      "text/plain": [
       "(274, 451)"
      ]
     },
     "execution_count": 24,
     "metadata": {},
     "output_type": "execute_result"
    }
   ],
   "source": [
    "size(datos)"
   ]
  },
  {
   "cell_type": "code",
   "execution_count": 25,
   "metadata": {},
   "outputs": [
    {
     "data": {
      "text/html": [
       "<table class=\"data-frame\"><thead><tr><th></th><th>Province/State</th><th>Country/Region</th><th>Lat</th><th>Long</th><th>1/22/20</th><th>1/23/20</th><th>1/24/20</th><th>1/25/20</th></tr><tr><th></th><th>String?</th><th>String</th><th>Float64?</th><th>Float64?</th><th>Int64</th><th>Int64</th><th>Int64</th><th>Int64</th></tr></thead><tbody><p>5 rows × 451 columns (omitted printing of 443 columns)</p><tr><th>1</th><td><em>missing</em></td><td>Afghanistan</td><td>33.9391</td><td>67.71</td><td>0</td><td>0</td><td>0</td><td>0</td></tr><tr><th>2</th><td><em>missing</em></td><td>Albania</td><td>41.1533</td><td>20.1683</td><td>0</td><td>0</td><td>0</td><td>0</td></tr><tr><th>3</th><td><em>missing</em></td><td>Algeria</td><td>28.0339</td><td>1.6596</td><td>0</td><td>0</td><td>0</td><td>0</td></tr><tr><th>4</th><td><em>missing</em></td><td>Andorra</td><td>42.5063</td><td>1.5218</td><td>0</td><td>0</td><td>0</td><td>0</td></tr><tr><th>5</th><td><em>missing</em></td><td>Angola</td><td>-11.2027</td><td>17.8739</td><td>0</td><td>0</td><td>0</td><td>0</td></tr></tbody></table>"
      ],
      "text/latex": [
       "\\begin{tabular}{r|ccccccccc}\n",
       "\t& Province/State & Country/Region & Lat & Long & 1/22/20 & 1/23/20 & 1/24/20 & 1/25/20 & \\\\\n",
       "\t\\hline\n",
       "\t& String? & String & Float64? & Float64? & Int64 & Int64 & Int64 & Int64 & \\\\\n",
       "\t\\hline\n",
       "\t1 & \\emph{missing} & Afghanistan & 33.9391 & 67.71 & 0 & 0 & 0 & 0 & $\\dots$ \\\\\n",
       "\t2 & \\emph{missing} & Albania & 41.1533 & 20.1683 & 0 & 0 & 0 & 0 & $\\dots$ \\\\\n",
       "\t3 & \\emph{missing} & Algeria & 28.0339 & 1.6596 & 0 & 0 & 0 & 0 & $\\dots$ \\\\\n",
       "\t4 & \\emph{missing} & Andorra & 42.5063 & 1.5218 & 0 & 0 & 0 & 0 & $\\dots$ \\\\\n",
       "\t5 & \\emph{missing} & Angola & -11.2027 & 17.8739 & 0 & 0 & 0 & 0 & $\\dots$ \\\\\n",
       "\\end{tabular}\n"
      ],
      "text/plain": [
       "5×451 DataFrame. Omitted printing of 446 columns\n",
       "│ Row │ Province/State │ Country/Region │ Lat      │ Long     │ 1/22/20 │\n",
       "│     │ \u001b[90mString?\u001b[39m        │ \u001b[90mString\u001b[39m         │ \u001b[90mFloat64?\u001b[39m │ \u001b[90mFloat64?\u001b[39m │ \u001b[90mInt64\u001b[39m   │\n",
       "├─────┼────────────────┼────────────────┼──────────┼──────────┼─────────┤\n",
       "│ 1   │ \u001b[90mmissing\u001b[39m        │ Afghanistan    │ 33.9391  │ 67.71    │ 0       │\n",
       "│ 2   │ \u001b[90mmissing\u001b[39m        │ Albania        │ 41.1533  │ 20.1683  │ 0       │\n",
       "│ 3   │ \u001b[90mmissing\u001b[39m        │ Algeria        │ 28.0339  │ 1.6596   │ 0       │\n",
       "│ 4   │ \u001b[90mmissing\u001b[39m        │ Andorra        │ 42.5063  │ 1.5218   │ 0       │\n",
       "│ 5   │ \u001b[90mmissing\u001b[39m        │ Angola         │ -11.2027 │ 17.8739  │ 0       │"
      ]
     },
     "execution_count": 25,
     "metadata": {},
     "output_type": "execute_result"
    }
   ],
   "source": [
    "first(datos,5)"
   ]
  },
  {
   "cell_type": "code",
   "execution_count": 26,
   "metadata": {},
   "outputs": [],
   "source": [
    "rename!(datos, 1 => \"Provincia\", 2 => \"País\", 3 => \"Latitud\", 4 => \"Longitud\");\n",
    "# datos1 = rename(.....)"
   ]
  },
  {
   "cell_type": "code",
   "execution_count": 27,
   "metadata": {},
   "outputs": [
    {
     "data": {
      "text/html": [
       "<table class=\"data-frame\"><thead><tr><th></th><th>Provincia</th><th>País</th><th>Latitud</th><th>Longitud</th><th>1/22/20</th><th>1/23/20</th><th>1/24/20</th><th>1/25/20</th></tr><tr><th></th><th>String?</th><th>String</th><th>Float64?</th><th>Float64?</th><th>Int64</th><th>Int64</th><th>Int64</th><th>Int64</th></tr></thead><tbody><p>5 rows × 451 columns (omitted printing of 443 columns)</p><tr><th>1</th><td><em>missing</em></td><td>Vietnam</td><td>14.0583</td><td>108.277</td><td>0</td><td>2</td><td>2</td><td>2</td></tr><tr><th>2</th><td><em>missing</em></td><td>West Bank and Gaza</td><td>31.9522</td><td>35.2332</td><td>0</td><td>0</td><td>0</td><td>0</td></tr><tr><th>3</th><td><em>missing</em></td><td>Yemen</td><td>15.5527</td><td>48.5164</td><td>0</td><td>0</td><td>0</td><td>0</td></tr><tr><th>4</th><td><em>missing</em></td><td>Zambia</td><td>-13.1339</td><td>27.8493</td><td>0</td><td>0</td><td>0</td><td>0</td></tr><tr><th>5</th><td><em>missing</em></td><td>Zimbabwe</td><td>-19.0154</td><td>29.1549</td><td>0</td><td>0</td><td>0</td><td>0</td></tr></tbody></table>"
      ],
      "text/latex": [
       "\\begin{tabular}{r|ccccccccc}\n",
       "\t& Provincia & País & Latitud & Longitud & 1/22/20 & 1/23/20 & 1/24/20 & 1/25/20 & \\\\\n",
       "\t\\hline\n",
       "\t& String? & String & Float64? & Float64? & Int64 & Int64 & Int64 & Int64 & \\\\\n",
       "\t\\hline\n",
       "\t1 & \\emph{missing} & Vietnam & 14.0583 & 108.277 & 0 & 2 & 2 & 2 & $\\dots$ \\\\\n",
       "\t2 & \\emph{missing} & West Bank and Gaza & 31.9522 & 35.2332 & 0 & 0 & 0 & 0 & $\\dots$ \\\\\n",
       "\t3 & \\emph{missing} & Yemen & 15.5527 & 48.5164 & 0 & 0 & 0 & 0 & $\\dots$ \\\\\n",
       "\t4 & \\emph{missing} & Zambia & -13.1339 & 27.8493 & 0 & 0 & 0 & 0 & $\\dots$ \\\\\n",
       "\t5 & \\emph{missing} & Zimbabwe & -19.0154 & 29.1549 & 0 & 0 & 0 & 0 & $\\dots$ \\\\\n",
       "\\end{tabular}\n"
      ],
      "text/plain": [
       "5×451 DataFrame. Omitted printing of 446 columns\n",
       "│ Row │ Provincia │ País               │ Latitud  │ Longitud │ 1/22/20 │\n",
       "│     │ \u001b[90mString?\u001b[39m   │ \u001b[90mString\u001b[39m             │ \u001b[90mFloat64?\u001b[39m │ \u001b[90mFloat64?\u001b[39m │ \u001b[90mInt64\u001b[39m   │\n",
       "├─────┼───────────┼────────────────────┼──────────┼──────────┼─────────┤\n",
       "│ 1   │ \u001b[90mmissing\u001b[39m   │ Vietnam            │ 14.0583  │ 108.277  │ 0       │\n",
       "│ 2   │ \u001b[90mmissing\u001b[39m   │ West Bank and Gaza │ 31.9522  │ 35.2332  │ 0       │\n",
       "│ 3   │ \u001b[90mmissing\u001b[39m   │ Yemen              │ 15.5527  │ 48.5164  │ 0       │\n",
       "│ 4   │ \u001b[90mmissing\u001b[39m   │ Zambia             │ -13.1339 │ 27.8493  │ 0       │\n",
       "│ 5   │ \u001b[90mmissing\u001b[39m   │ Zimbabwe           │ -19.0154 │ 29.1549  │ 0       │"
      ]
     },
     "execution_count": 27,
     "metadata": {},
     "output_type": "execute_result"
    }
   ],
   "source": [
    "last(datos,5)"
   ]
  },
  {
   "cell_type": "code",
   "execution_count": 28,
   "metadata": {},
   "outputs": [
    {
     "ename": "LoadError",
     "evalue": "\u001b[91mMethodError: no method matching getindex(::DataFrame)\u001b[39m\n\u001b[91m\u001b[0mClosest candidates are:\u001b[39m\n\u001b[91m\u001b[0m  getindex(::DataFrame, \u001b[91m::typeof(!)\u001b[39m, \u001b[91m::Union{Signed, Unsigned}\u001b[39m) at /Users/carloslesmes/.julia/packages/DataFrames/GtZ1l/src/dataframe/dataframe.jl:426\u001b[39m\n\u001b[91m\u001b[0m  getindex(::DataFrame, \u001b[91m::typeof(!)\u001b[39m, \u001b[91m::Union{AbstractString, Symbol}\u001b[39m) at /Users/carloslesmes/.julia/packages/DataFrames/GtZ1l/src/dataframe/dataframe.jl:434\u001b[39m\n\u001b[91m\u001b[0m  getindex(::DataFrame, \u001b[91m::typeof(!)\u001b[39m, \u001b[91m::Union{Colon, Regex, AbstractArray{T,1} where T, All, Between, InvertedIndex}\u001b[39m) at /Users/carloslesmes/.julia/packages/DataFrames/GtZ1l/src/dataframe/dataframe.jl:473\u001b[39m\n\u001b[91m\u001b[0m  ...\u001b[39m",
     "output_type": "error",
     "traceback": [
      "\u001b[91mMethodError: no method matching getindex(::DataFrame)\u001b[39m\n\u001b[91m\u001b[0mClosest candidates are:\u001b[39m\n\u001b[91m\u001b[0m  getindex(::DataFrame, \u001b[91m::typeof(!)\u001b[39m, \u001b[91m::Union{Signed, Unsigned}\u001b[39m) at /Users/carloslesmes/.julia/packages/DataFrames/GtZ1l/src/dataframe/dataframe.jl:426\u001b[39m\n\u001b[91m\u001b[0m  getindex(::DataFrame, \u001b[91m::typeof(!)\u001b[39m, \u001b[91m::Union{AbstractString, Symbol}\u001b[39m) at /Users/carloslesmes/.julia/packages/DataFrames/GtZ1l/src/dataframe/dataframe.jl:434\u001b[39m\n\u001b[91m\u001b[0m  getindex(::DataFrame, \u001b[91m::typeof(!)\u001b[39m, \u001b[91m::Union{Colon, Regex, AbstractArray{T,1} where T, All, Between, InvertedIndex}\u001b[39m) at /Users/carloslesmes/.julia/packages/DataFrames/GtZ1l/src/dataframe/dataframe.jl:473\u001b[39m\n\u001b[91m\u001b[0m  ...\u001b[39m",
      "",
      "Stacktrace:",
      " [1] top-level scope at In[28]:1",
      " [2] include_string(::Function, ::Module, ::String, ::String) at ./loading.jl:1091"
     ]
    }
   ],
   "source": [
    "datos[]"
   ]
  },
  {
   "cell_type": "code",
   "execution_count": 29,
   "metadata": {},
   "outputs": [
    {
     "data": {
      "text/plain": [
       "274-element Array{String,1}:\n",
       " \"Afghanistan\"\n",
       " \"Albania\"\n",
       " \"Algeria\"\n",
       " \"Andorra\"\n",
       " \"Angola\"\n",
       " \"Antigua and Barbuda\"\n",
       " \"Argentina\"\n",
       " \"Armenia\"\n",
       " \"Australia\"\n",
       " \"Australia\"\n",
       " \"Australia\"\n",
       " \"Australia\"\n",
       " \"Australia\"\n",
       " ⋮\n",
       " \"United Kingdom\"\n",
       " \"United Kingdom\"\n",
       " \"United Kingdom\"\n",
       " \"Uruguay\"\n",
       " \"Uzbekistan\"\n",
       " \"Vanuatu\"\n",
       " \"Venezuela\"\n",
       " \"Vietnam\"\n",
       " \"West Bank and Gaza\"\n",
       " \"Yemen\"\n",
       " \"Zambia\"\n",
       " \"Zimbabwe\""
      ]
     },
     "execution_count": 29,
     "metadata": {},
     "output_type": "execute_result"
    }
   ],
   "source": [
    "paises = datos[:,\"País\"] "
   ]
  },
  {
   "cell_type": "code",
   "execution_count": 30,
   "metadata": {},
   "outputs": [
    {
     "data": {
      "text/plain": [
       "274-element Array{String,1}:\n",
       " \"Afghanistan\"\n",
       " \"Albania\"\n",
       " \"Algeria\"\n",
       " \"Andorra\"\n",
       " \"Angola\"\n",
       " \"Antigua and Barbuda\"\n",
       " \"Argentina\"\n",
       " \"Armenia\"\n",
       " \"Australia\"\n",
       " \"Australia\"\n",
       " \"Australia\"\n",
       " \"Australia\"\n",
       " \"Australia\"\n",
       " ⋮\n",
       " \"United Kingdom\"\n",
       " \"United Kingdom\"\n",
       " \"United Kingdom\"\n",
       " \"Uruguay\"\n",
       " \"Uzbekistan\"\n",
       " \"Vanuatu\"\n",
       " \"Venezuela\"\n",
       " \"Vietnam\"\n",
       " \"West Bank and Gaza\"\n",
       " \"Yemen\"\n",
       " \"Zambia\"\n",
       " \"Zimbabwe\""
      ]
     },
     "execution_count": 30,
     "metadata": {},
     "output_type": "execute_result"
    }
   ],
   "source": [
    "paises1 = datos[:,:País]"
   ]
  },
  {
   "cell_type": "code",
   "execution_count": 31,
   "metadata": {},
   "outputs": [
    {
     "data": {
      "text/plain": [
       "192-element Array{String,1}:\n",
       " \"Afghanistan\"\n",
       " \"Albania\"\n",
       " \"Algeria\"\n",
       " \"Andorra\"\n",
       " \"Angola\"\n",
       " \"Antigua and Barbuda\"\n",
       " \"Argentina\"\n",
       " \"Armenia\"\n",
       " \"Australia\"\n",
       " \"Austria\"\n",
       " \"Azerbaijan\"\n",
       " \"Bahamas\"\n",
       " \"Bahrain\"\n",
       " ⋮\n",
       " \"Ukraine\"\n",
       " \"United Arab Emirates\"\n",
       " \"United Kingdom\"\n",
       " \"Uruguay\"\n",
       " \"Uzbekistan\"\n",
       " \"Vanuatu\"\n",
       " \"Venezuela\"\n",
       " \"Vietnam\"\n",
       " \"West Bank and Gaza\"\n",
       " \"Yemen\"\n",
       " \"Zambia\"\n",
       " \"Zimbabwe\""
      ]
     },
     "execution_count": 31,
     "metadata": {},
     "output_type": "execute_result"
    }
   ],
   "source": [
    "unique(paises1)"
   ]
  },
  {
   "cell_type": "code",
   "execution_count": 32,
   "metadata": {},
   "outputs": [
    {
     "data": {
      "text/plain": [
       "274-element Array{String,1}:\n",
       " \"Afghanistan\"\n",
       " \"Albania\"\n",
       " \"Algeria\"\n",
       " \"Andorra\"\n",
       " \"Angola\"\n",
       " \"Antigua and Barbuda\"\n",
       " \"Argentina\"\n",
       " \"Armenia\"\n",
       " \"Australia\"\n",
       " \"Australia\"\n",
       " \"Australia\"\n",
       " \"Australia\"\n",
       " \"Australia\"\n",
       " ⋮\n",
       " \"United Kingdom\"\n",
       " \"United Kingdom\"\n",
       " \"United Kingdom\"\n",
       " \"Uruguay\"\n",
       " \"Uzbekistan\"\n",
       " \"Vanuatu\"\n",
       " \"Venezuela\"\n",
       " \"Vietnam\"\n",
       " \"West Bank and Gaza\"\n",
       " \"Yemen\"\n",
       " \"Zambia\"\n",
       " \"Zimbabwe\""
      ]
     },
     "execution_count": 32,
     "metadata": {},
     "output_type": "execute_result"
    }
   ],
   "source": [
    "paises2 = datos[:,2]"
   ]
  },
  {
   "cell_type": "code",
   "execution_count": 33,
   "metadata": {},
   "outputs": [
    {
     "data": {
      "text/plain": [
       "92"
      ]
     },
     "execution_count": 33,
     "metadata": {},
     "output_type": "execute_result"
    }
   ],
   "source": [
    "fila = findfirst(==(\"Colombia\"), paises)"
   ]
  },
  {
   "cell_type": "code",
   "execution_count": 34,
   "metadata": {},
   "outputs": [
    {
     "data": {
      "text/html": [
       "<table class=\"data-frame\"><thead><tr><th></th><th>Provincia</th><th>País</th><th>Latitud</th><th>Longitud</th><th>1/22/20</th><th>1/23/20</th><th>1/24/20</th><th>1/25/20</th><th>1/26/20</th></tr><tr><th></th><th>String?</th><th>String</th><th>Float64?</th><th>Float64?</th><th>Int64</th><th>Int64</th><th>Int64</th><th>Int64</th><th>Int64</th></tr></thead><tbody><p>1 rows × 451 columns (omitted printing of 442 columns)</p><tr><th>1</th><td><em>missing</em></td><td>Colombia</td><td>4.5709</td><td>-74.2973</td><td>0</td><td>0</td><td>0</td><td>0</td><td>0</td></tr></tbody></table>"
      ],
      "text/latex": [
       "\\begin{tabular}{r|cccccccccc}\n",
       "\t& Provincia & País & Latitud & Longitud & 1/22/20 & 1/23/20 & 1/24/20 & 1/25/20 & 1/26/20 & \\\\\n",
       "\t\\hline\n",
       "\t& String? & String & Float64? & Float64? & Int64 & Int64 & Int64 & Int64 & Int64 & \\\\\n",
       "\t\\hline\n",
       "\t1 & \\emph{missing} & Colombia & 4.5709 & -74.2973 & 0 & 0 & 0 & 0 & 0 & $\\dots$ \\\\\n",
       "\\end{tabular}\n"
      ],
      "text/plain": [
       "1×451 DataFrame. Omitted printing of 445 columns\n",
       "│ Row │ Provincia │ País     │ Latitud  │ Longitud │ 1/22/20 │ 1/23/20 │\n",
       "│     │ \u001b[90mString?\u001b[39m   │ \u001b[90mString\u001b[39m   │ \u001b[90mFloat64?\u001b[39m │ \u001b[90mFloat64?\u001b[39m │ \u001b[90mInt64\u001b[39m   │ \u001b[90mInt64\u001b[39m   │\n",
       "├─────┼───────────┼──────────┼──────────┼──────────┼─────────┼─────────┤\n",
       "│ 1   │ \u001b[90mmissing\u001b[39m   │ Colombia │ 4.5709   │ -74.2973 │ 0       │ 0       │"
      ]
     },
     "execution_count": 34,
     "metadata": {},
     "output_type": "execute_result"
    }
   ],
   "source": [
    "datos_Col = filter( x -> x.País == \"Colombia\", datos)"
   ]
  },
  {
   "cell_type": "code",
   "execution_count": 35,
   "metadata": {},
   "outputs": [
    {
     "name": "stderr",
     "output_type": "stream",
     "text": [
      "┌ Info: Precompiling Plots [91a5bcdd-55d7-5caf-9e0b-520d859cae80]\n",
      "└ @ Base loading.jl:1278\n"
     ]
    }
   ],
   "source": [
    "using Plots"
   ]
  },
  {
   "cell_type": "code",
   "execution_count": 36,
   "metadata": {},
   "outputs": [
    {
     "data": {
      "text/plain": [
       "447-element Array{Int64,1}:\n",
       "       0\n",
       "       0\n",
       "       0\n",
       "       0\n",
       "       0\n",
       "       0\n",
       "       0\n",
       "       0\n",
       "       0\n",
       "       0\n",
       "       0\n",
       "       0\n",
       "       0\n",
       "       ⋮\n",
       " 2417826\n",
       " 2428048\n",
       " 2437197\n",
       " 2446219\n",
       " 2456409\n",
       " 2468236\n",
       " 2479617\n",
       " 2492081\n",
       " 2504206\n",
       " 2518715\n",
       " 2536198\n",
       " 2552937"
      ]
     },
     "execution_count": 36,
     "metadata": {},
     "output_type": "execute_result"
    }
   ],
   "source": [
    "datos_COL = Vector(datos_Col[1, 5:end])"
   ]
  },
  {
   "cell_type": "code",
   "execution_count": 37,
   "metadata": {},
   "outputs": [
    {
     "data": {
      "image/svg+xml": [
       "<?xml version=\"1.0\" encoding=\"utf-8\"?>\n",
       "<svg xmlns=\"http://www.w3.org/2000/svg\" xmlns:xlink=\"http://www.w3.org/1999/xlink\" width=\"600\" height=\"400\" viewBox=\"0 0 2400 1600\">\n",
       "<defs>\n",
       "  <clipPath id=\"clip110\">\n",
       "    <rect x=\"0\" y=\"0\" width=\"2400\" height=\"1600\"/>\n",
       "  </clipPath>\n",
       "</defs>\n",
       "<path clip-path=\"url(#clip110)\" d=\"\n",
       "M0 1600 L2400 1600 L2400 0 L0 0  Z\n",
       "  \" fill=\"#ffffff\" fill-rule=\"evenodd\" fill-opacity=\"1\"/>\n",
       "<defs>\n",
       "  <clipPath id=\"clip111\">\n",
       "    <rect x=\"480\" y=\"0\" width=\"1681\" height=\"1600\"/>\n",
       "  </clipPath>\n",
       "</defs>\n",
       "<path clip-path=\"url(#clip110)\" d=\"\n",
       "M275.201 1486.45 L2352.76 1486.45 L2352.76 47.2441 L275.201 47.2441  Z\n",
       "  \" fill=\"#ffffff\" fill-rule=\"evenodd\" fill-opacity=\"1\"/>\n",
       "<defs>\n",
       "  <clipPath id=\"clip112\">\n",
       "    <rect x=\"275\" y=\"47\" width=\"2079\" height=\"1440\"/>\n",
       "  </clipPath>\n",
       "</defs>\n",
       "<polyline clip-path=\"url(#clip112)\" style=\"stroke:#000000; stroke-width:2; stroke-opacity:0.1; fill:none\" points=\"\n",
       "  329.606,1486.45 329.606,47.2441 \n",
       "  \"/>\n",
       "<polyline clip-path=\"url(#clip112)\" style=\"stroke:#000000; stroke-width:2; stroke-opacity:0.1; fill:none\" points=\"\n",
       "  769.058,1486.45 769.058,47.2441 \n",
       "  \"/>\n",
       "<polyline clip-path=\"url(#clip112)\" style=\"stroke:#000000; stroke-width:2; stroke-opacity:0.1; fill:none\" points=\"\n",
       "  1208.51,1486.45 1208.51,47.2441 \n",
       "  \"/>\n",
       "<polyline clip-path=\"url(#clip112)\" style=\"stroke:#000000; stroke-width:2; stroke-opacity:0.1; fill:none\" points=\"\n",
       "  1647.96,1486.45 1647.96,47.2441 \n",
       "  \"/>\n",
       "<polyline clip-path=\"url(#clip112)\" style=\"stroke:#000000; stroke-width:2; stroke-opacity:0.1; fill:none\" points=\"\n",
       "  2087.41,1486.45 2087.41,47.2441 \n",
       "  \"/>\n",
       "<polyline clip-path=\"url(#clip110)\" style=\"stroke:#000000; stroke-width:4; stroke-opacity:1; fill:none\" points=\"\n",
       "  275.201,1486.45 2352.76,1486.45 \n",
       "  \"/>\n",
       "<polyline clip-path=\"url(#clip110)\" style=\"stroke:#000000; stroke-width:4; stroke-opacity:1; fill:none\" points=\"\n",
       "  329.606,1486.45 329.606,1469.18 \n",
       "  \"/>\n",
       "<polyline clip-path=\"url(#clip110)\" style=\"stroke:#000000; stroke-width:4; stroke-opacity:1; fill:none\" points=\"\n",
       "  769.058,1486.45 769.058,1469.18 \n",
       "  \"/>\n",
       "<polyline clip-path=\"url(#clip110)\" style=\"stroke:#000000; stroke-width:4; stroke-opacity:1; fill:none\" points=\"\n",
       "  1208.51,1486.45 1208.51,1469.18 \n",
       "  \"/>\n",
       "<polyline clip-path=\"url(#clip110)\" style=\"stroke:#000000; stroke-width:4; stroke-opacity:1; fill:none\" points=\"\n",
       "  1647.96,1486.45 1647.96,1469.18 \n",
       "  \"/>\n",
       "<polyline clip-path=\"url(#clip110)\" style=\"stroke:#000000; stroke-width:4; stroke-opacity:1; fill:none\" points=\"\n",
       "  2087.41,1486.45 2087.41,1469.18 \n",
       "  \"/>\n",
       "<path clip-path=\"url(#clip110)\" d=\"M 0 0 M329.606 1515.64 Q325.995 1515.64 324.166 1519.2 Q322.36 1522.75 322.36 1529.87 Q322.36 1536.98 324.166 1540.55 Q325.995 1544.09 329.606 1544.09 Q333.24 1544.09 335.045 1540.55 Q336.874 1536.98 336.874 1529.87 Q336.874 1522.75 335.045 1519.2 Q333.24 1515.64 329.606 1515.64 M329.606 1511.93 Q335.416 1511.93 338.471 1516.54 Q341.55 1521.12 341.55 1529.87 Q341.55 1538.6 338.471 1543.21 Q335.416 1547.79 329.606 1547.79 Q323.796 1547.79 320.717 1543.21 Q317.661 1538.6 317.661 1529.87 Q317.661 1521.12 320.717 1516.54 Q323.796 1511.93 329.606 1511.93 Z\" fill=\"#000000\" fill-rule=\"evenodd\" fill-opacity=\"1\" /><path clip-path=\"url(#clip110)\" d=\"M 0 0 M728.665 1543.18 L736.303 1543.18 L736.303 1516.82 L727.993 1518.49 L727.993 1514.23 L736.257 1512.56 L740.933 1512.56 L740.933 1543.18 L748.572 1543.18 L748.572 1547.12 L728.665 1547.12 L728.665 1543.18 Z\" fill=\"#000000\" fill-rule=\"evenodd\" fill-opacity=\"1\" /><path clip-path=\"url(#clip110)\" d=\"M 0 0 M768.016 1515.64 Q764.405 1515.64 762.576 1519.2 Q760.771 1522.75 760.771 1529.87 Q760.771 1536.98 762.576 1540.55 Q764.405 1544.09 768.016 1544.09 Q771.65 1544.09 773.456 1540.55 Q775.285 1536.98 775.285 1529.87 Q775.285 1522.75 773.456 1519.2 Q771.65 1515.64 768.016 1515.64 M768.016 1511.93 Q773.826 1511.93 776.882 1516.54 Q779.961 1521.12 779.961 1529.87 Q779.961 1538.6 776.882 1543.21 Q773.826 1547.79 768.016 1547.79 Q762.206 1547.79 759.127 1543.21 Q756.072 1538.6 756.072 1529.87 Q756.072 1521.12 759.127 1516.54 Q762.206 1511.93 768.016 1511.93 Z\" fill=\"#000000\" fill-rule=\"evenodd\" fill-opacity=\"1\" /><path clip-path=\"url(#clip110)\" d=\"M 0 0 M798.178 1515.64 Q794.567 1515.64 792.738 1519.2 Q790.933 1522.75 790.933 1529.87 Q790.933 1536.98 792.738 1540.55 Q794.567 1544.09 798.178 1544.09 Q801.812 1544.09 803.618 1540.55 Q805.447 1536.98 805.447 1529.87 Q805.447 1522.75 803.618 1519.2 Q801.812 1515.64 798.178 1515.64 M798.178 1511.93 Q803.988 1511.93 807.044 1516.54 Q810.123 1521.12 810.123 1529.87 Q810.123 1538.6 807.044 1543.21 Q803.988 1547.79 798.178 1547.79 Q792.368 1547.79 789.289 1543.21 Q786.234 1538.6 786.234 1529.87 Q786.234 1521.12 789.289 1516.54 Q792.368 1511.93 798.178 1511.93 Z\" fill=\"#000000\" fill-rule=\"evenodd\" fill-opacity=\"1\" /><path clip-path=\"url(#clip110)\" d=\"M 0 0 M1172.2 1543.18 L1188.52 1543.18 L1188.52 1547.12 L1166.58 1547.12 L1166.58 1543.18 Q1169.24 1540.43 1173.82 1535.8 Q1178.43 1531.15 1179.61 1529.81 Q1181.86 1527.28 1182.73 1525.55 Q1183.64 1523.79 1183.64 1522.1 Q1183.64 1519.34 1181.69 1517.61 Q1179.77 1515.87 1176.67 1515.87 Q1174.47 1515.87 1172.02 1516.63 Q1169.59 1517.4 1166.81 1518.95 L1166.81 1514.23 Q1169.63 1513.09 1172.09 1512.51 Q1174.54 1511.93 1176.58 1511.93 Q1181.95 1511.93 1185.14 1514.62 Q1188.34 1517.31 1188.34 1521.8 Q1188.34 1523.93 1187.53 1525.85 Q1186.74 1527.74 1184.63 1530.34 Q1184.05 1531.01 1180.95 1534.23 Q1177.85 1537.42 1172.2 1543.18 Z\" fill=\"#000000\" fill-rule=\"evenodd\" fill-opacity=\"1\" /><path clip-path=\"url(#clip110)\" d=\"M 0 0 M1208.34 1515.64 Q1204.73 1515.64 1202.9 1519.2 Q1201.09 1522.75 1201.09 1529.87 Q1201.09 1536.98 1202.9 1540.55 Q1204.73 1544.09 1208.34 1544.09 Q1211.97 1544.09 1213.78 1540.55 Q1215.61 1536.98 1215.61 1529.87 Q1215.61 1522.75 1213.78 1519.2 Q1211.97 1515.64 1208.34 1515.64 M1208.34 1511.93 Q1214.15 1511.93 1217.2 1516.54 Q1220.28 1521.12 1220.28 1529.87 Q1220.28 1538.6 1217.2 1543.21 Q1214.15 1547.79 1208.34 1547.79 Q1202.53 1547.79 1199.45 1543.21 Q1196.39 1538.6 1196.39 1529.87 Q1196.39 1521.12 1199.45 1516.54 Q1202.53 1511.93 1208.34 1511.93 Z\" fill=\"#000000\" fill-rule=\"evenodd\" fill-opacity=\"1\" /><path clip-path=\"url(#clip110)\" d=\"M 0 0 M1238.5 1515.64 Q1234.89 1515.64 1233.06 1519.2 Q1231.25 1522.75 1231.25 1529.87 Q1231.25 1536.98 1233.06 1540.55 Q1234.89 1544.09 1238.5 1544.09 Q1242.13 1544.09 1243.94 1540.55 Q1245.77 1536.98 1245.77 1529.87 Q1245.77 1522.75 1243.94 1519.2 Q1242.13 1515.64 1238.5 1515.64 M1238.5 1511.93 Q1244.31 1511.93 1247.36 1516.54 Q1250.44 1521.12 1250.44 1529.87 Q1250.44 1538.6 1247.36 1543.21 Q1244.31 1547.79 1238.5 1547.79 Q1232.69 1547.79 1229.61 1543.21 Q1226.55 1538.6 1226.55 1529.87 Q1226.55 1521.12 1229.61 1516.54 Q1232.69 1511.93 1238.5 1511.93 Z\" fill=\"#000000\" fill-rule=\"evenodd\" fill-opacity=\"1\" /><path clip-path=\"url(#clip110)\" d=\"M 0 0 M1621.72 1528.49 Q1625.08 1529.2 1626.96 1531.47 Q1628.85 1533.74 1628.85 1537.07 Q1628.85 1542.19 1625.34 1544.99 Q1621.82 1547.79 1615.34 1547.79 Q1613.16 1547.79 1610.84 1547.35 Q1608.55 1546.93 1606.1 1546.08 L1606.1 1541.56 Q1608.04 1542.7 1610.36 1543.28 Q1612.67 1543.86 1615.2 1543.86 Q1619.59 1543.86 1621.89 1542.12 Q1624.2 1540.38 1624.2 1537.07 Q1624.2 1534.02 1622.05 1532.31 Q1619.92 1530.57 1616.1 1530.57 L1612.07 1530.57 L1612.07 1526.73 L1616.28 1526.73 Q1619.73 1526.73 1621.56 1525.36 Q1623.39 1523.97 1623.39 1521.38 Q1623.39 1518.72 1621.49 1517.31 Q1619.62 1515.87 1616.1 1515.87 Q1614.18 1515.87 1611.98 1516.29 Q1609.78 1516.7 1607.14 1517.58 L1607.14 1513.42 Q1609.8 1512.68 1612.12 1512.31 Q1614.46 1511.93 1616.52 1511.93 Q1621.84 1511.93 1624.94 1514.37 Q1628.04 1516.77 1628.04 1520.89 Q1628.04 1523.76 1626.4 1525.75 Q1624.76 1527.72 1621.72 1528.49 Z\" fill=\"#000000\" fill-rule=\"evenodd\" fill-opacity=\"1\" /><path clip-path=\"url(#clip110)\" d=\"M 0 0 M1647.72 1515.64 Q1644.11 1515.64 1642.28 1519.2 Q1640.47 1522.75 1640.47 1529.87 Q1640.47 1536.98 1642.28 1540.55 Q1644.11 1544.09 1647.72 1544.09 Q1651.35 1544.09 1653.16 1540.55 Q1654.99 1536.98 1654.99 1529.87 Q1654.99 1522.75 1653.16 1519.2 Q1651.35 1515.64 1647.72 1515.64 M1647.72 1511.93 Q1653.53 1511.93 1656.59 1516.54 Q1659.66 1521.12 1659.66 1529.87 Q1659.66 1538.6 1656.59 1543.21 Q1653.53 1547.79 1647.72 1547.79 Q1641.91 1547.79 1638.83 1543.21 Q1635.77 1538.6 1635.77 1529.87 Q1635.77 1521.12 1638.83 1516.54 Q1641.91 1511.93 1647.72 1511.93 Z\" fill=\"#000000\" fill-rule=\"evenodd\" fill-opacity=\"1\" /><path clip-path=\"url(#clip110)\" d=\"M 0 0 M1677.88 1515.64 Q1674.27 1515.64 1672.44 1519.2 Q1670.64 1522.75 1670.64 1529.87 Q1670.64 1536.98 1672.44 1540.55 Q1674.27 1544.09 1677.88 1544.09 Q1681.52 1544.09 1683.32 1540.55 Q1685.15 1536.98 1685.15 1529.87 Q1685.15 1522.75 1683.32 1519.2 Q1681.52 1515.64 1677.88 1515.64 M1677.88 1511.93 Q1683.69 1511.93 1686.75 1516.54 Q1689.83 1521.12 1689.83 1529.87 Q1689.83 1538.6 1686.75 1543.21 Q1683.69 1547.79 1677.88 1547.79 Q1672.07 1547.79 1668.99 1543.21 Q1665.94 1538.6 1665.94 1529.87 Q1665.94 1521.12 1668.99 1516.54 Q1672.07 1511.93 1677.88 1511.93 Z\" fill=\"#000000\" fill-rule=\"evenodd\" fill-opacity=\"1\" /><path clip-path=\"url(#clip110)\" d=\"M 0 0 M2060.51 1516.63 L2048.7 1535.08 L2060.51 1535.08 L2060.51 1516.63 M2059.28 1512.56 L2065.16 1512.56 L2065.16 1535.08 L2070.09 1535.08 L2070.09 1538.97 L2065.16 1538.97 L2065.16 1547.12 L2060.51 1547.12 L2060.51 1538.97 L2044.9 1538.97 L2044.9 1534.46 L2059.28 1512.56 Z\" fill=\"#000000\" fill-rule=\"evenodd\" fill-opacity=\"1\" /><path clip-path=\"url(#clip110)\" d=\"M 0 0 M2087.82 1515.64 Q2084.21 1515.64 2082.38 1519.2 Q2080.57 1522.75 2080.57 1529.87 Q2080.57 1536.98 2082.38 1540.55 Q2084.21 1544.09 2087.82 1544.09 Q2091.45 1544.09 2093.26 1540.55 Q2095.09 1536.98 2095.09 1529.87 Q2095.09 1522.75 2093.26 1519.2 Q2091.45 1515.64 2087.82 1515.64 M2087.82 1511.93 Q2093.63 1511.93 2096.69 1516.54 Q2099.76 1521.12 2099.76 1529.87 Q2099.76 1538.6 2096.69 1543.21 Q2093.63 1547.79 2087.82 1547.79 Q2082.01 1547.79 2078.93 1543.21 Q2075.88 1538.6 2075.88 1529.87 Q2075.88 1521.12 2078.93 1516.54 Q2082.01 1511.93 2087.82 1511.93 Z\" fill=\"#000000\" fill-rule=\"evenodd\" fill-opacity=\"1\" /><path clip-path=\"url(#clip110)\" d=\"M 0 0 M2117.98 1515.64 Q2114.37 1515.64 2112.54 1519.2 Q2110.74 1522.75 2110.74 1529.87 Q2110.74 1536.98 2112.54 1540.55 Q2114.37 1544.09 2117.98 1544.09 Q2121.62 1544.09 2123.42 1540.55 Q2125.25 1536.98 2125.25 1529.87 Q2125.25 1522.75 2123.42 1519.2 Q2121.62 1515.64 2117.98 1515.64 M2117.98 1511.93 Q2123.79 1511.93 2126.85 1516.54 Q2129.93 1521.12 2129.93 1529.87 Q2129.93 1538.6 2126.85 1543.21 Q2123.79 1547.79 2117.98 1547.79 Q2112.17 1547.79 2109.09 1543.21 Q2106.04 1538.6 2106.04 1529.87 Q2106.04 1521.12 2109.09 1516.54 Q2112.17 1511.93 2117.98 1511.93 Z\" fill=\"#000000\" fill-rule=\"evenodd\" fill-opacity=\"1\" /><polyline clip-path=\"url(#clip112)\" style=\"stroke:#000000; stroke-width:2; stroke-opacity:0.1; fill:none\" points=\"\n",
       "  275.201,1445.72 2352.76,1445.72 \n",
       "  \"/>\n",
       "<polyline clip-path=\"url(#clip112)\" style=\"stroke:#000000; stroke-width:2; stroke-opacity:0.1; fill:none\" points=\"\n",
       "  275.201,1179.8 2352.76,1179.8 \n",
       "  \"/>\n",
       "<polyline clip-path=\"url(#clip112)\" style=\"stroke:#000000; stroke-width:2; stroke-opacity:0.1; fill:none\" points=\"\n",
       "  275.201,913.881 2352.76,913.881 \n",
       "  \"/>\n",
       "<polyline clip-path=\"url(#clip112)\" style=\"stroke:#000000; stroke-width:2; stroke-opacity:0.1; fill:none\" points=\"\n",
       "  275.201,647.964 2352.76,647.964 \n",
       "  \"/>\n",
       "<polyline clip-path=\"url(#clip112)\" style=\"stroke:#000000; stroke-width:2; stroke-opacity:0.1; fill:none\" points=\"\n",
       "  275.201,382.047 2352.76,382.047 \n",
       "  \"/>\n",
       "<polyline clip-path=\"url(#clip112)\" style=\"stroke:#000000; stroke-width:2; stroke-opacity:0.1; fill:none\" points=\"\n",
       "  275.201,116.13 2352.76,116.13 \n",
       "  \"/>\n",
       "<polyline clip-path=\"url(#clip110)\" style=\"stroke:#000000; stroke-width:4; stroke-opacity:1; fill:none\" points=\"\n",
       "  275.201,1486.45 275.201,47.2441 \n",
       "  \"/>\n",
       "<polyline clip-path=\"url(#clip110)\" style=\"stroke:#000000; stroke-width:4; stroke-opacity:1; fill:none\" points=\"\n",
       "  275.201,1445.72 300.132,1445.72 \n",
       "  \"/>\n",
       "<polyline clip-path=\"url(#clip110)\" style=\"stroke:#000000; stroke-width:4; stroke-opacity:1; fill:none\" points=\"\n",
       "  275.201,1179.8 300.132,1179.8 \n",
       "  \"/>\n",
       "<polyline clip-path=\"url(#clip110)\" style=\"stroke:#000000; stroke-width:4; stroke-opacity:1; fill:none\" points=\"\n",
       "  275.201,913.881 300.132,913.881 \n",
       "  \"/>\n",
       "<polyline clip-path=\"url(#clip110)\" style=\"stroke:#000000; stroke-width:4; stroke-opacity:1; fill:none\" points=\"\n",
       "  275.201,647.964 300.132,647.964 \n",
       "  \"/>\n",
       "<polyline clip-path=\"url(#clip110)\" style=\"stroke:#000000; stroke-width:4; stroke-opacity:1; fill:none\" points=\"\n",
       "  275.201,382.047 300.132,382.047 \n",
       "  \"/>\n",
       "<polyline clip-path=\"url(#clip110)\" style=\"stroke:#000000; stroke-width:4; stroke-opacity:1; fill:none\" points=\"\n",
       "  275.201,116.13 300.132,116.13 \n",
       "  \"/>\n",
       "<path clip-path=\"url(#clip110)\" d=\"M 0 0 M227.257 1431.51 Q223.646 1431.51 221.817 1435.08 Q220.012 1438.62 220.012 1445.75 Q220.012 1452.86 221.817 1456.42 Q223.646 1459.96 227.257 1459.96 Q230.891 1459.96 232.697 1456.42 Q234.526 1452.86 234.526 1445.75 Q234.526 1438.62 232.697 1435.08 Q230.891 1431.51 227.257 1431.51 M227.257 1427.81 Q233.067 1427.81 236.123 1432.42 Q239.201 1437 239.201 1445.75 Q239.201 1454.48 236.123 1459.08 Q233.067 1463.67 227.257 1463.67 Q221.447 1463.67 218.368 1459.08 Q215.313 1454.48 215.313 1445.75 Q215.313 1437 218.368 1432.42 Q221.447 1427.81 227.257 1427.81 Z\" fill=\"#000000\" fill-rule=\"evenodd\" fill-opacity=\"1\" /><path clip-path=\"url(#clip110)\" d=\"M 0 0 M53.8581 1168.97 L72.2145 1168.97 L72.2145 1172.9 L58.1405 1172.9 L58.1405 1181.37 Q59.159 1181.03 60.1776 1180.86 Q61.1961 1180.68 62.2146 1180.68 Q68.0016 1180.68 71.3812 1183.85 Q74.7608 1187.02 74.7608 1192.44 Q74.7608 1198.02 71.2886 1201.12 Q67.8164 1204.2 61.497 1204.2 Q59.3211 1204.2 57.0526 1203.83 Q54.8072 1203.46 52.3998 1202.72 L52.3998 1198.02 Q54.4831 1199.15 56.7053 1199.71 Q58.9276 1200.26 61.4044 1200.26 Q65.409 1200.26 67.747 1198.16 Q70.0849 1196.05 70.0849 1192.44 Q70.0849 1188.83 67.747 1186.72 Q65.409 1184.61 61.4044 1184.61 Q59.5294 1184.61 57.6544 1185.03 Q55.8026 1185.45 53.8581 1186.33 L53.8581 1168.97 Z\" fill=\"#000000\" fill-rule=\"evenodd\" fill-opacity=\"1\" /><path clip-path=\"url(#clip110)\" d=\"M 0 0 M83.9737 1197.65 L88.858 1197.65 L88.858 1203.53 L83.9737 1203.53 L83.9737 1197.65 Z\" fill=\"#000000\" fill-rule=\"evenodd\" fill-opacity=\"1\" /><path clip-path=\"url(#clip110)\" d=\"M 0 0 M109.043 1172.04 Q105.432 1172.04 103.603 1175.61 Q101.798 1179.15 101.798 1186.28 Q101.798 1193.39 103.603 1196.95 Q105.432 1200.49 109.043 1200.49 Q112.677 1200.49 114.483 1196.95 Q116.312 1193.39 116.312 1186.28 Q116.312 1179.15 114.483 1175.61 Q112.677 1172.04 109.043 1172.04 M109.043 1168.34 Q114.853 1168.34 117.909 1172.95 Q120.987 1177.53 120.987 1186.28 Q120.987 1195.01 117.909 1199.61 Q114.853 1204.2 109.043 1204.2 Q103.233 1204.2 100.154 1199.61 Q97.0986 1195.01 97.0986 1186.28 Q97.0986 1177.53 100.154 1172.95 Q103.233 1168.34 109.043 1168.34 Z\" fill=\"#000000\" fill-rule=\"evenodd\" fill-opacity=\"1\" /><path clip-path=\"url(#clip110)\" d=\"M 0 0 M157.376 1178.06 L146.797 1188.69 L157.376 1199.27 L154.621 1202.07 L143.997 1191.44 L133.372 1202.07 L130.64 1199.27 L141.196 1188.69 L130.64 1178.06 L133.372 1175.26 L143.997 1185.89 L154.621 1175.26 L157.376 1178.06 Z\" fill=\"#000000\" fill-rule=\"evenodd\" fill-opacity=\"1\" /><path clip-path=\"url(#clip110)\" d=\"M 0 0 M169.737 1199.59 L177.376 1199.59 L177.376 1173.23 L169.066 1174.89 L169.066 1170.63 L177.33 1168.97 L182.006 1168.97 L182.006 1199.59 L189.644 1199.59 L189.644 1203.53 L169.737 1203.53 L169.737 1199.59 Z\" fill=\"#000000\" fill-rule=\"evenodd\" fill-opacity=\"1\" /><path clip-path=\"url(#clip110)\" d=\"M 0 0 M209.089 1172.04 Q205.478 1172.04 203.649 1175.61 Q201.843 1179.15 201.843 1186.28 Q201.843 1193.39 203.649 1196.95 Q205.478 1200.49 209.089 1200.49 Q212.723 1200.49 214.529 1196.95 Q216.357 1193.39 216.357 1186.28 Q216.357 1179.15 214.529 1175.61 Q212.723 1172.04 209.089 1172.04 M209.089 1168.34 Q214.899 1168.34 217.954 1172.95 Q221.033 1177.53 221.033 1186.28 Q221.033 1195.01 217.954 1199.61 Q214.899 1204.2 209.089 1204.2 Q203.279 1204.2 200.2 1199.61 Q197.144 1195.01 197.144 1186.28 Q197.144 1177.53 200.2 1172.95 Q203.279 1168.34 209.089 1168.34 Z\" fill=\"#000000\" fill-rule=\"evenodd\" fill-opacity=\"1\" /><path clip-path=\"url(#clip110)\" d=\"M 0 0 M222.218 1148.04 L237.133 1148.04 L237.133 1151.23 L225.697 1151.23 L225.697 1158.12 Q226.525 1157.83 227.353 1157.7 Q228.18 1157.55 229.008 1157.55 Q233.71 1157.55 236.456 1160.13 Q239.201 1162.71 239.201 1167.11 Q239.201 1171.64 236.38 1174.16 Q233.559 1176.66 228.425 1176.66 Q226.657 1176.66 224.814 1176.36 Q222.989 1176.06 221.033 1175.46 L221.033 1171.64 Q222.726 1172.56 224.531 1173.01 Q226.337 1173.46 228.349 1173.46 Q231.603 1173.46 233.503 1171.75 Q235.402 1170.04 235.402 1167.11 Q235.402 1164.17 233.503 1162.46 Q231.603 1160.75 228.349 1160.75 Q226.826 1160.75 225.303 1161.09 Q223.798 1161.43 222.218 1162.14 L222.218 1148.04 Z\" fill=\"#000000\" fill-rule=\"evenodd\" fill-opacity=\"1\" /><path clip-path=\"url(#clip110)\" d=\"M 0 0 M53.3995 933.674 L61.0384 933.674 L61.0384 907.308 L52.7282 908.975 L52.7282 904.716 L60.9921 903.049 L65.668 903.049 L65.668 933.674 L73.3068 933.674 L73.3068 937.609 L53.3995 937.609 L53.3995 933.674 Z\" fill=\"#000000\" fill-rule=\"evenodd\" fill-opacity=\"1\" /><path clip-path=\"url(#clip110)\" d=\"M 0 0 M82.7512 931.729 L87.6354 931.729 L87.6354 937.609 L82.7512 937.609 L82.7512 931.729 Z\" fill=\"#000000\" fill-rule=\"evenodd\" fill-opacity=\"1\" /><path clip-path=\"url(#clip110)\" d=\"M 0 0 M107.821 906.128 Q104.209 906.128 102.381 909.692 Q100.575 913.234 100.575 920.364 Q100.575 927.47 102.381 931.035 Q104.209 934.577 107.821 934.577 Q111.455 934.577 113.26 931.035 Q115.089 927.47 115.089 920.364 Q115.089 913.234 113.26 909.692 Q111.455 906.128 107.821 906.128 M107.821 902.424 Q113.631 902.424 116.686 907.03 Q119.765 911.614 119.765 920.364 Q119.765 929.091 116.686 933.697 Q113.631 938.28 107.821 938.28 Q102.01 938.28 98.9317 933.697 Q95.8761 929.091 95.8761 920.364 Q95.8761 911.614 98.9317 907.03 Q102.01 902.424 107.821 902.424 Z\" fill=\"#000000\" fill-rule=\"evenodd\" fill-opacity=\"1\" /><path clip-path=\"url(#clip110)\" d=\"M 0 0 M156.154 912.146 L145.575 922.771 L156.154 933.35 L153.399 936.151 L142.774 925.526 L132.149 936.151 L129.418 933.35 L139.973 922.771 L129.418 912.146 L132.149 909.345 L142.774 919.97 L153.399 909.345 L156.154 912.146 Z\" fill=\"#000000\" fill-rule=\"evenodd\" fill-opacity=\"1\" /><path clip-path=\"url(#clip110)\" d=\"M 0 0 M168.515 933.674 L176.153 933.674 L176.153 907.308 L167.843 908.975 L167.843 904.716 L176.107 903.049 L180.783 903.049 L180.783 933.674 L188.422 933.674 L188.422 937.609 L168.515 937.609 L168.515 933.674 Z\" fill=\"#000000\" fill-rule=\"evenodd\" fill-opacity=\"1\" /><path clip-path=\"url(#clip110)\" d=\"M 0 0 M207.866 906.128 Q204.255 906.128 202.426 909.692 Q200.621 913.234 200.621 920.364 Q200.621 927.47 202.426 931.035 Q204.255 934.577 207.866 934.577 Q211.501 934.577 213.306 931.035 Q215.135 927.47 215.135 920.364 Q215.135 913.234 213.306 909.692 Q211.501 906.128 207.866 906.128 M207.866 902.424 Q213.676 902.424 216.732 907.03 Q219.811 911.614 219.811 920.364 Q219.811 929.091 216.732 933.697 Q213.676 938.28 207.866 938.28 Q202.056 938.28 198.977 933.697 Q195.922 929.091 195.922 920.364 Q195.922 911.614 198.977 907.03 Q202.056 902.424 207.866 902.424 Z\" fill=\"#000000\" fill-rule=\"evenodd\" fill-opacity=\"1\" /><path clip-path=\"url(#clip110)\" d=\"M 0 0 M229.835 894.645 Q227.277 894.645 225.773 896.394 Q224.287 898.143 224.287 901.19 Q224.287 904.218 225.773 905.986 Q227.277 907.735 229.835 907.735 Q232.393 907.735 233.879 905.986 Q235.383 904.218 235.383 901.19 Q235.383 898.143 233.879 896.394 Q232.393 894.645 229.835 894.645 M237.377 882.739 L237.377 886.2 Q235.948 885.523 234.481 885.165 Q233.033 884.808 231.603 884.808 Q227.842 884.808 225.848 887.347 Q223.873 889.886 223.591 895.021 Q224.701 893.384 226.375 892.519 Q228.048 891.635 230.061 891.635 Q234.293 891.635 236.738 894.212 Q239.201 896.77 239.201 901.19 Q239.201 905.515 236.644 908.13 Q234.086 910.744 229.835 910.744 Q224.964 910.744 222.387 907.02 Q219.811 903.277 219.811 896.187 Q219.811 889.529 222.97 885.579 Q226.13 881.611 231.453 881.611 Q232.882 881.611 234.33 881.893 Q235.797 882.175 237.377 882.739 Z\" fill=\"#000000\" fill-rule=\"evenodd\" fill-opacity=\"1\" /><path clip-path=\"url(#clip110)\" d=\"M 0 0 M53.3995 667.757 L61.0384 667.757 L61.0384 641.391 L52.7282 643.058 L52.7282 638.799 L60.9921 637.132 L65.668 637.132 L65.668 667.757 L73.3068 667.757 L73.3068 671.692 L53.3995 671.692 L53.3995 667.757 Z\" fill=\"#000000\" fill-rule=\"evenodd\" fill-opacity=\"1\" /><path clip-path=\"url(#clip110)\" d=\"M 0 0 M82.7512 665.812 L87.6354 665.812 L87.6354 671.692 L82.7512 671.692 L82.7512 665.812 Z\" fill=\"#000000\" fill-rule=\"evenodd\" fill-opacity=\"1\" /><path clip-path=\"url(#clip110)\" d=\"M 0 0 M97.8669 637.132 L116.223 637.132 L116.223 641.067 L102.149 641.067 L102.149 649.539 Q103.168 649.192 104.186 649.03 Q105.205 648.845 106.223 648.845 Q112.01 648.845 115.39 652.016 Q118.77 655.187 118.77 660.604 Q118.77 666.183 115.297 669.284 Q111.825 672.363 105.506 672.363 Q103.33 672.363 101.061 671.993 Q98.8159 671.622 96.4085 670.882 L96.4085 666.183 Q98.4919 667.317 100.714 667.872 Q102.936 668.428 105.413 668.428 Q109.418 668.428 111.756 666.322 Q114.094 664.215 114.094 660.604 Q114.094 656.993 111.756 654.886 Q109.418 652.78 105.413 652.78 Q103.538 652.78 101.663 653.197 Q99.8113 653.613 97.8669 654.493 L97.8669 637.132 Z\" fill=\"#000000\" fill-rule=\"evenodd\" fill-opacity=\"1\" /><path clip-path=\"url(#clip110)\" d=\"M 0 0 M156.154 646.229 L145.575 656.854 L156.154 667.433 L153.399 670.234 L142.774 659.609 L132.149 670.234 L129.418 667.433 L139.973 656.854 L129.418 646.229 L132.149 643.428 L142.774 654.053 L153.399 643.428 L156.154 646.229 Z\" fill=\"#000000\" fill-rule=\"evenodd\" fill-opacity=\"1\" /><path clip-path=\"url(#clip110)\" d=\"M 0 0 M168.515 667.757 L176.153 667.757 L176.153 641.391 L167.843 643.058 L167.843 638.799 L176.107 637.132 L180.783 637.132 L180.783 667.757 L188.422 667.757 L188.422 671.692 L168.515 671.692 L168.515 667.757 Z\" fill=\"#000000\" fill-rule=\"evenodd\" fill-opacity=\"1\" /><path clip-path=\"url(#clip110)\" d=\"M 0 0 M207.866 640.211 Q204.255 640.211 202.426 643.775 Q200.621 647.317 200.621 654.447 Q200.621 661.553 202.426 665.118 Q204.255 668.659 207.866 668.659 Q211.501 668.659 213.306 665.118 Q215.135 661.553 215.135 654.447 Q215.135 647.317 213.306 643.775 Q211.501 640.211 207.866 640.211 M207.866 636.507 Q213.676 636.507 216.732 641.113 Q219.811 645.697 219.811 654.447 Q219.811 663.173 216.732 667.78 Q213.676 672.363 207.866 672.363 Q202.056 672.363 198.977 667.78 Q195.922 663.173 195.922 654.447 Q195.922 645.697 198.977 641.113 Q202.056 636.507 207.866 636.507 Z\" fill=\"#000000\" fill-rule=\"evenodd\" fill-opacity=\"1\" /><path clip-path=\"url(#clip110)\" d=\"M 0 0 M229.835 628.727 Q227.277 628.727 225.773 630.477 Q224.287 632.226 224.287 635.273 Q224.287 638.301 225.773 640.069 Q227.277 641.818 229.835 641.818 Q232.393 641.818 233.879 640.069 Q235.383 638.301 235.383 635.273 Q235.383 632.226 233.879 630.477 Q232.393 628.727 229.835 628.727 M237.377 616.822 L237.377 620.283 Q235.948 619.606 234.481 619.248 Q233.033 618.891 231.603 618.891 Q227.842 618.891 225.848 621.43 Q223.873 623.969 223.591 629.104 Q224.701 627.467 226.375 626.602 Q228.048 625.718 230.061 625.718 Q234.293 625.718 236.738 628.295 Q239.201 630.853 239.201 635.273 Q239.201 639.598 236.644 642.213 Q234.086 644.827 229.835 644.827 Q224.964 644.827 222.387 641.103 Q219.811 637.36 219.811 630.27 Q219.811 623.612 222.97 619.662 Q226.13 615.694 231.453 615.694 Q232.882 615.694 234.33 615.976 Q235.797 616.258 237.377 616.822 Z\" fill=\"#000000\" fill-rule=\"evenodd\" fill-opacity=\"1\" /><path clip-path=\"url(#clip110)\" d=\"M 0 0 M56.6171 401.84 L72.9365 401.84 L72.9365 405.775 L50.9921 405.775 L50.9921 401.84 Q53.6541 399.085 58.2375 394.455 Q62.8439 389.803 64.0245 388.46 Q66.2698 385.937 67.1494 384.201 Q68.0522 382.442 68.0522 380.752 Q68.0522 377.997 66.1078 376.261 Q64.1865 374.525 61.0847 374.525 Q58.8856 374.525 56.4319 375.289 Q54.0014 376.053 51.2236 377.604 L51.2236 372.881 Q54.0477 371.747 56.5014 371.168 Q58.955 370.59 60.9921 370.59 Q66.3624 370.59 69.5568 373.275 Q72.7513 375.96 72.7513 380.451 Q72.7513 382.58 71.9411 384.502 Q71.1541 386.4 69.0476 388.992 Q68.4689 389.664 65.367 392.881 Q62.2652 396.076 56.6171 401.84 Z\" fill=\"#000000\" fill-rule=\"evenodd\" fill-opacity=\"1\" /><path clip-path=\"url(#clip110)\" d=\"M 0 0 M82.7512 399.895 L87.6354 399.895 L87.6354 405.775 L82.7512 405.775 L82.7512 399.895 Z\" fill=\"#000000\" fill-rule=\"evenodd\" fill-opacity=\"1\" /><path clip-path=\"url(#clip110)\" d=\"M 0 0 M107.821 374.293 Q104.209 374.293 102.381 377.858 Q100.575 381.4 100.575 388.529 Q100.575 395.636 102.381 399.201 Q104.209 402.742 107.821 402.742 Q111.455 402.742 113.26 399.201 Q115.089 395.636 115.089 388.529 Q115.089 381.4 113.26 377.858 Q111.455 374.293 107.821 374.293 M107.821 370.59 Q113.631 370.59 116.686 375.196 Q119.765 379.779 119.765 388.529 Q119.765 397.256 116.686 401.863 Q113.631 406.446 107.821 406.446 Q102.01 406.446 98.9317 401.863 Q95.8761 397.256 95.8761 388.529 Q95.8761 379.779 98.9317 375.196 Q102.01 370.59 107.821 370.59 Z\" fill=\"#000000\" fill-rule=\"evenodd\" fill-opacity=\"1\" /><path clip-path=\"url(#clip110)\" d=\"M 0 0 M156.154 380.312 L145.575 390.937 L156.154 401.515 L153.399 404.316 L142.774 393.691 L132.149 404.316 L129.418 401.515 L139.973 390.937 L129.418 380.312 L132.149 377.511 L142.774 388.136 L153.399 377.511 L156.154 380.312 Z\" fill=\"#000000\" fill-rule=\"evenodd\" fill-opacity=\"1\" /><path clip-path=\"url(#clip110)\" d=\"M 0 0 M168.515 401.84 L176.153 401.84 L176.153 375.474 L167.843 377.141 L167.843 372.881 L176.107 371.215 L180.783 371.215 L180.783 401.84 L188.422 401.84 L188.422 405.775 L168.515 405.775 L168.515 401.84 Z\" fill=\"#000000\" fill-rule=\"evenodd\" fill-opacity=\"1\" /><path clip-path=\"url(#clip110)\" d=\"M 0 0 M207.866 374.293 Q204.255 374.293 202.426 377.858 Q200.621 381.4 200.621 388.529 Q200.621 395.636 202.426 399.201 Q204.255 402.742 207.866 402.742 Q211.501 402.742 213.306 399.201 Q215.135 395.636 215.135 388.529 Q215.135 381.4 213.306 377.858 Q211.501 374.293 207.866 374.293 M207.866 370.59 Q213.676 370.59 216.732 375.196 Q219.811 379.779 219.811 388.529 Q219.811 397.256 216.732 401.863 Q213.676 406.446 207.866 406.446 Q202.056 406.446 198.977 401.863 Q195.922 397.256 195.922 388.529 Q195.922 379.779 198.977 375.196 Q202.056 370.59 207.866 370.59 Z\" fill=\"#000000\" fill-rule=\"evenodd\" fill-opacity=\"1\" /><path clip-path=\"url(#clip110)\" d=\"M 0 0 M229.835 362.81 Q227.277 362.81 225.773 364.559 Q224.287 366.309 224.287 369.355 Q224.287 372.383 225.773 374.151 Q227.277 375.901 229.835 375.901 Q232.393 375.901 233.879 374.151 Q235.383 372.383 235.383 369.355 Q235.383 366.309 233.879 364.559 Q232.393 362.81 229.835 362.81 M237.377 350.905 L237.377 354.366 Q235.948 353.689 234.481 353.331 Q233.033 352.974 231.603 352.974 Q227.842 352.974 225.848 355.513 Q223.873 358.052 223.591 363.186 Q224.701 361.55 226.375 360.685 Q228.048 359.801 230.061 359.801 Q234.293 359.801 236.738 362.378 Q239.201 364.936 239.201 369.355 Q239.201 373.681 236.644 376.295 Q234.086 378.91 229.835 378.91 Q224.964 378.91 222.387 375.186 Q219.811 371.443 219.811 364.353 Q219.811 357.695 222.97 353.745 Q226.13 349.777 231.453 349.777 Q232.882 349.777 234.33 350.059 Q235.797 350.341 237.377 350.905 Z\" fill=\"#000000\" fill-rule=\"evenodd\" fill-opacity=\"1\" /><path clip-path=\"url(#clip110)\" d=\"M 0 0 M56.6171 135.922 L72.9365 135.922 L72.9365 139.858 L50.9921 139.858 L50.9921 135.922 Q53.6541 133.168 58.2375 128.538 Q62.8439 123.885 64.0245 122.543 Q66.2698 120.02 67.1494 118.284 Q68.0522 116.524 68.0522 114.835 Q68.0522 112.08 66.1078 110.344 Q64.1865 108.608 61.0847 108.608 Q58.8856 108.608 56.4319 109.372 Q54.0014 110.136 51.2236 111.686 L51.2236 106.964 Q54.0477 105.83 56.5014 105.251 Q58.955 104.673 60.9921 104.673 Q66.3624 104.673 69.5568 107.358 Q72.7513 110.043 72.7513 114.534 Q72.7513 116.663 71.9411 118.585 Q71.1541 120.483 69.0476 123.075 Q68.4689 123.747 65.367 126.964 Q62.2652 130.159 56.6171 135.922 Z\" fill=\"#000000\" fill-rule=\"evenodd\" fill-opacity=\"1\" /><path clip-path=\"url(#clip110)\" d=\"M 0 0 M82.7512 133.978 L87.6354 133.978 L87.6354 139.858 L82.7512 139.858 L82.7512 133.978 Z\" fill=\"#000000\" fill-rule=\"evenodd\" fill-opacity=\"1\" /><path clip-path=\"url(#clip110)\" d=\"M 0 0 M97.8669 105.298 L116.223 105.298 L116.223 109.233 L102.149 109.233 L102.149 117.705 Q103.168 117.358 104.186 117.196 Q105.205 117.01 106.223 117.01 Q112.01 117.01 115.39 120.182 Q118.77 123.353 118.77 128.77 Q118.77 134.348 115.297 137.45 Q111.825 140.529 105.506 140.529 Q103.33 140.529 101.061 140.159 Q98.8159 139.788 96.4085 139.047 L96.4085 134.348 Q98.4919 135.483 100.714 136.038 Q102.936 136.594 105.413 136.594 Q109.418 136.594 111.756 134.487 Q114.094 132.381 114.094 128.77 Q114.094 125.159 111.756 123.052 Q109.418 120.946 105.413 120.946 Q103.538 120.946 101.663 121.362 Q99.8113 121.779 97.8669 122.659 L97.8669 105.298 Z\" fill=\"#000000\" fill-rule=\"evenodd\" fill-opacity=\"1\" /><path clip-path=\"url(#clip110)\" d=\"M 0 0 M156.154 114.395 L145.575 125.02 L156.154 135.598 L153.399 138.399 L142.774 127.774 L132.149 138.399 L129.418 135.598 L139.973 125.02 L129.418 114.395 L132.149 111.594 L142.774 122.219 L153.399 111.594 L156.154 114.395 Z\" fill=\"#000000\" fill-rule=\"evenodd\" fill-opacity=\"1\" /><path clip-path=\"url(#clip110)\" d=\"M 0 0 M168.515 135.922 L176.153 135.922 L176.153 109.557 L167.843 111.223 L167.843 106.964 L176.107 105.298 L180.783 105.298 L180.783 135.922 L188.422 135.922 L188.422 139.858 L168.515 139.858 L168.515 135.922 Z\" fill=\"#000000\" fill-rule=\"evenodd\" fill-opacity=\"1\" /><path clip-path=\"url(#clip110)\" d=\"M 0 0 M207.866 108.376 Q204.255 108.376 202.426 111.941 Q200.621 115.483 200.621 122.612 Q200.621 129.719 202.426 133.284 Q204.255 136.825 207.866 136.825 Q211.501 136.825 213.306 133.284 Q215.135 129.719 215.135 122.612 Q215.135 115.483 213.306 111.941 Q211.501 108.376 207.866 108.376 M207.866 104.673 Q213.676 104.673 216.732 109.279 Q219.811 113.862 219.811 122.612 Q219.811 131.339 216.732 135.946 Q213.676 140.529 207.866 140.529 Q202.056 140.529 198.977 135.946 Q195.922 131.339 195.922 122.612 Q195.922 113.862 198.977 109.279 Q202.056 104.673 207.866 104.673 Z\" fill=\"#000000\" fill-rule=\"evenodd\" fill-opacity=\"1\" /><path clip-path=\"url(#clip110)\" d=\"M 0 0 M229.835 96.8932 Q227.277 96.8932 225.773 98.6423 Q224.287 100.391 224.287 103.438 Q224.287 106.466 225.773 108.234 Q227.277 109.983 229.835 109.983 Q232.393 109.983 233.879 108.234 Q235.383 106.466 235.383 103.438 Q235.383 100.391 233.879 98.6423 Q232.393 96.8932 229.835 96.8932 M237.377 84.9878 L237.377 88.4485 Q235.948 87.7714 234.481 87.414 Q233.033 87.0567 231.603 87.0567 Q227.842 87.0567 225.848 89.5957 Q223.873 92.1348 223.591 97.2693 Q224.701 95.633 226.375 94.7679 Q228.048 93.8839 230.061 93.8839 Q234.293 93.8839 236.738 96.4606 Q239.201 99.0184 239.201 103.438 Q239.201 107.764 236.644 110.378 Q234.086 112.993 229.835 112.993 Q224.964 112.993 222.387 109.269 Q219.811 105.526 219.811 98.4354 Q219.811 91.7774 222.97 87.8278 Q226.13 83.8594 231.453 83.8594 Q232.882 83.8594 234.33 84.1415 Q235.797 84.4236 237.377 84.9878 Z\" fill=\"#000000\" fill-rule=\"evenodd\" fill-opacity=\"1\" /><circle clip-path=\"url(#clip112)\" cx=\"334\" cy=\"1445.72\" r=\"14\" fill=\"#009af9\" fill-rule=\"evenodd\" fill-opacity=\"1\" stroke=\"#000000\" stroke-opacity=\"1\" stroke-width=\"3.2\"/>\n",
       "<circle clip-path=\"url(#clip112)\" cx=\"338.395\" cy=\"1445.72\" r=\"14\" fill=\"#009af9\" fill-rule=\"evenodd\" fill-opacity=\"1\" stroke=\"#000000\" stroke-opacity=\"1\" stroke-width=\"3.2\"/>\n",
       "<circle clip-path=\"url(#clip112)\" cx=\"342.789\" cy=\"1445.72\" r=\"14\" fill=\"#009af9\" fill-rule=\"evenodd\" fill-opacity=\"1\" stroke=\"#000000\" stroke-opacity=\"1\" stroke-width=\"3.2\"/>\n",
       "<circle clip-path=\"url(#clip112)\" cx=\"347.184\" cy=\"1445.72\" r=\"14\" fill=\"#009af9\" fill-rule=\"evenodd\" fill-opacity=\"1\" stroke=\"#000000\" stroke-opacity=\"1\" stroke-width=\"3.2\"/>\n",
       "<circle clip-path=\"url(#clip112)\" cx=\"351.578\" cy=\"1445.72\" r=\"14\" fill=\"#009af9\" fill-rule=\"evenodd\" fill-opacity=\"1\" stroke=\"#000000\" stroke-opacity=\"1\" stroke-width=\"3.2\"/>\n",
       "<circle clip-path=\"url(#clip112)\" cx=\"355.973\" cy=\"1445.72\" r=\"14\" fill=\"#009af9\" fill-rule=\"evenodd\" fill-opacity=\"1\" stroke=\"#000000\" stroke-opacity=\"1\" stroke-width=\"3.2\"/>\n",
       "<circle clip-path=\"url(#clip112)\" cx=\"360.367\" cy=\"1445.72\" r=\"14\" fill=\"#009af9\" fill-rule=\"evenodd\" fill-opacity=\"1\" stroke=\"#000000\" stroke-opacity=\"1\" stroke-width=\"3.2\"/>\n",
       "<circle clip-path=\"url(#clip112)\" cx=\"364.762\" cy=\"1445.72\" r=\"14\" fill=\"#009af9\" fill-rule=\"evenodd\" fill-opacity=\"1\" stroke=\"#000000\" stroke-opacity=\"1\" stroke-width=\"3.2\"/>\n",
       "<circle clip-path=\"url(#clip112)\" cx=\"369.156\" cy=\"1445.72\" r=\"14\" fill=\"#009af9\" fill-rule=\"evenodd\" fill-opacity=\"1\" stroke=\"#000000\" stroke-opacity=\"1\" stroke-width=\"3.2\"/>\n",
       "<circle clip-path=\"url(#clip112)\" cx=\"373.551\" cy=\"1445.72\" r=\"14\" fill=\"#009af9\" fill-rule=\"evenodd\" fill-opacity=\"1\" stroke=\"#000000\" stroke-opacity=\"1\" stroke-width=\"3.2\"/>\n",
       "<circle clip-path=\"url(#clip112)\" cx=\"377.945\" cy=\"1445.72\" r=\"14\" fill=\"#009af9\" fill-rule=\"evenodd\" fill-opacity=\"1\" stroke=\"#000000\" stroke-opacity=\"1\" stroke-width=\"3.2\"/>\n",
       "<circle clip-path=\"url(#clip112)\" cx=\"382.34\" cy=\"1445.72\" r=\"14\" fill=\"#009af9\" fill-rule=\"evenodd\" fill-opacity=\"1\" stroke=\"#000000\" stroke-opacity=\"1\" stroke-width=\"3.2\"/>\n",
       "<circle clip-path=\"url(#clip112)\" cx=\"386.734\" cy=\"1445.72\" r=\"14\" fill=\"#009af9\" fill-rule=\"evenodd\" fill-opacity=\"1\" stroke=\"#000000\" stroke-opacity=\"1\" stroke-width=\"3.2\"/>\n",
       "<circle clip-path=\"url(#clip112)\" cx=\"391.129\" cy=\"1445.72\" r=\"14\" fill=\"#009af9\" fill-rule=\"evenodd\" fill-opacity=\"1\" stroke=\"#000000\" stroke-opacity=\"1\" stroke-width=\"3.2\"/>\n",
       "<circle clip-path=\"url(#clip112)\" cx=\"395.524\" cy=\"1445.72\" r=\"14\" fill=\"#009af9\" fill-rule=\"evenodd\" fill-opacity=\"1\" stroke=\"#000000\" stroke-opacity=\"1\" stroke-width=\"3.2\"/>\n",
       "<circle clip-path=\"url(#clip112)\" cx=\"399.918\" cy=\"1445.72\" r=\"14\" fill=\"#009af9\" fill-rule=\"evenodd\" fill-opacity=\"1\" stroke=\"#000000\" stroke-opacity=\"1\" stroke-width=\"3.2\"/>\n",
       "<circle clip-path=\"url(#clip112)\" cx=\"404.313\" cy=\"1445.72\" r=\"14\" fill=\"#009af9\" fill-rule=\"evenodd\" fill-opacity=\"1\" stroke=\"#000000\" stroke-opacity=\"1\" stroke-width=\"3.2\"/>\n",
       "<circle clip-path=\"url(#clip112)\" cx=\"408.707\" cy=\"1445.72\" r=\"14\" fill=\"#009af9\" fill-rule=\"evenodd\" fill-opacity=\"1\" stroke=\"#000000\" stroke-opacity=\"1\" stroke-width=\"3.2\"/>\n",
       "<circle clip-path=\"url(#clip112)\" cx=\"413.102\" cy=\"1445.72\" r=\"14\" fill=\"#009af9\" fill-rule=\"evenodd\" fill-opacity=\"1\" stroke=\"#000000\" stroke-opacity=\"1\" stroke-width=\"3.2\"/>\n",
       "<circle clip-path=\"url(#clip112)\" cx=\"417.496\" cy=\"1445.72\" r=\"14\" fill=\"#009af9\" fill-rule=\"evenodd\" fill-opacity=\"1\" stroke=\"#000000\" stroke-opacity=\"1\" stroke-width=\"3.2\"/>\n",
       "<circle clip-path=\"url(#clip112)\" cx=\"421.891\" cy=\"1445.72\" r=\"14\" fill=\"#009af9\" fill-rule=\"evenodd\" fill-opacity=\"1\" stroke=\"#000000\" stroke-opacity=\"1\" stroke-width=\"3.2\"/>\n",
       "<circle clip-path=\"url(#clip112)\" cx=\"426.285\" cy=\"1445.72\" r=\"14\" fill=\"#009af9\" fill-rule=\"evenodd\" fill-opacity=\"1\" stroke=\"#000000\" stroke-opacity=\"1\" stroke-width=\"3.2\"/>\n",
       "<circle clip-path=\"url(#clip112)\" cx=\"430.68\" cy=\"1445.72\" r=\"14\" fill=\"#009af9\" fill-rule=\"evenodd\" fill-opacity=\"1\" stroke=\"#000000\" stroke-opacity=\"1\" stroke-width=\"3.2\"/>\n",
       "<circle clip-path=\"url(#clip112)\" cx=\"435.074\" cy=\"1445.72\" r=\"14\" fill=\"#009af9\" fill-rule=\"evenodd\" fill-opacity=\"1\" stroke=\"#000000\" stroke-opacity=\"1\" stroke-width=\"3.2\"/>\n",
       "<circle clip-path=\"url(#clip112)\" cx=\"439.469\" cy=\"1445.72\" r=\"14\" fill=\"#009af9\" fill-rule=\"evenodd\" fill-opacity=\"1\" stroke=\"#000000\" stroke-opacity=\"1\" stroke-width=\"3.2\"/>\n",
       "<circle clip-path=\"url(#clip112)\" cx=\"443.863\" cy=\"1445.72\" r=\"14\" fill=\"#009af9\" fill-rule=\"evenodd\" fill-opacity=\"1\" stroke=\"#000000\" stroke-opacity=\"1\" stroke-width=\"3.2\"/>\n",
       "<circle clip-path=\"url(#clip112)\" cx=\"448.258\" cy=\"1445.72\" r=\"14\" fill=\"#009af9\" fill-rule=\"evenodd\" fill-opacity=\"1\" stroke=\"#000000\" stroke-opacity=\"1\" stroke-width=\"3.2\"/>\n",
       "<circle clip-path=\"url(#clip112)\" cx=\"452.652\" cy=\"1445.72\" r=\"14\" fill=\"#009af9\" fill-rule=\"evenodd\" fill-opacity=\"1\" stroke=\"#000000\" stroke-opacity=\"1\" stroke-width=\"3.2\"/>\n",
       "<circle clip-path=\"url(#clip112)\" cx=\"457.047\" cy=\"1445.72\" r=\"14\" fill=\"#009af9\" fill-rule=\"evenodd\" fill-opacity=\"1\" stroke=\"#000000\" stroke-opacity=\"1\" stroke-width=\"3.2\"/>\n",
       "<circle clip-path=\"url(#clip112)\" cx=\"461.441\" cy=\"1445.72\" r=\"14\" fill=\"#009af9\" fill-rule=\"evenodd\" fill-opacity=\"1\" stroke=\"#000000\" stroke-opacity=\"1\" stroke-width=\"3.2\"/>\n",
       "<circle clip-path=\"url(#clip112)\" cx=\"465.836\" cy=\"1445.72\" r=\"14\" fill=\"#009af9\" fill-rule=\"evenodd\" fill-opacity=\"1\" stroke=\"#000000\" stroke-opacity=\"1\" stroke-width=\"3.2\"/>\n",
       "<circle clip-path=\"url(#clip112)\" cx=\"470.23\" cy=\"1445.72\" r=\"14\" fill=\"#009af9\" fill-rule=\"evenodd\" fill-opacity=\"1\" stroke=\"#000000\" stroke-opacity=\"1\" stroke-width=\"3.2\"/>\n",
       "<circle clip-path=\"url(#clip112)\" cx=\"474.625\" cy=\"1445.72\" r=\"14\" fill=\"#009af9\" fill-rule=\"evenodd\" fill-opacity=\"1\" stroke=\"#000000\" stroke-opacity=\"1\" stroke-width=\"3.2\"/>\n",
       "<circle clip-path=\"url(#clip112)\" cx=\"479.019\" cy=\"1445.72\" r=\"14\" fill=\"#009af9\" fill-rule=\"evenodd\" fill-opacity=\"1\" stroke=\"#000000\" stroke-opacity=\"1\" stroke-width=\"3.2\"/>\n",
       "<circle clip-path=\"url(#clip112)\" cx=\"483.414\" cy=\"1445.72\" r=\"14\" fill=\"#009af9\" fill-rule=\"evenodd\" fill-opacity=\"1\" stroke=\"#000000\" stroke-opacity=\"1\" stroke-width=\"3.2\"/>\n",
       "<circle clip-path=\"url(#clip112)\" cx=\"487.808\" cy=\"1445.72\" r=\"14\" fill=\"#009af9\" fill-rule=\"evenodd\" fill-opacity=\"1\" stroke=\"#000000\" stroke-opacity=\"1\" stroke-width=\"3.2\"/>\n",
       "<circle clip-path=\"url(#clip112)\" cx=\"492.203\" cy=\"1445.72\" r=\"14\" fill=\"#009af9\" fill-rule=\"evenodd\" fill-opacity=\"1\" stroke=\"#000000\" stroke-opacity=\"1\" stroke-width=\"3.2\"/>\n",
       "<circle clip-path=\"url(#clip112)\" cx=\"496.598\" cy=\"1445.72\" r=\"14\" fill=\"#009af9\" fill-rule=\"evenodd\" fill-opacity=\"1\" stroke=\"#000000\" stroke-opacity=\"1\" stroke-width=\"3.2\"/>\n",
       "<circle clip-path=\"url(#clip112)\" cx=\"500.992\" cy=\"1445.72\" r=\"14\" fill=\"#009af9\" fill-rule=\"evenodd\" fill-opacity=\"1\" stroke=\"#000000\" stroke-opacity=\"1\" stroke-width=\"3.2\"/>\n",
       "<circle clip-path=\"url(#clip112)\" cx=\"505.387\" cy=\"1445.72\" r=\"14\" fill=\"#009af9\" fill-rule=\"evenodd\" fill-opacity=\"1\" stroke=\"#000000\" stroke-opacity=\"1\" stroke-width=\"3.2\"/>\n",
       "<circle clip-path=\"url(#clip112)\" cx=\"509.781\" cy=\"1445.72\" r=\"14\" fill=\"#009af9\" fill-rule=\"evenodd\" fill-opacity=\"1\" stroke=\"#000000\" stroke-opacity=\"1\" stroke-width=\"3.2\"/>\n",
       "<circle clip-path=\"url(#clip112)\" cx=\"514.176\" cy=\"1445.72\" r=\"14\" fill=\"#009af9\" fill-rule=\"evenodd\" fill-opacity=\"1\" stroke=\"#000000\" stroke-opacity=\"1\" stroke-width=\"3.2\"/>\n",
       "<circle clip-path=\"url(#clip112)\" cx=\"518.57\" cy=\"1445.72\" r=\"14\" fill=\"#009af9\" fill-rule=\"evenodd\" fill-opacity=\"1\" stroke=\"#000000\" stroke-opacity=\"1\" stroke-width=\"3.2\"/>\n",
       "<circle clip-path=\"url(#clip112)\" cx=\"522.965\" cy=\"1445.72\" r=\"14\" fill=\"#009af9\" fill-rule=\"evenodd\" fill-opacity=\"1\" stroke=\"#000000\" stroke-opacity=\"1\" stroke-width=\"3.2\"/>\n",
       "<circle clip-path=\"url(#clip112)\" cx=\"527.359\" cy=\"1445.72\" r=\"14\" fill=\"#009af9\" fill-rule=\"evenodd\" fill-opacity=\"1\" stroke=\"#000000\" stroke-opacity=\"1\" stroke-width=\"3.2\"/>\n",
       "<circle clip-path=\"url(#clip112)\" cx=\"531.754\" cy=\"1445.72\" r=\"14\" fill=\"#009af9\" fill-rule=\"evenodd\" fill-opacity=\"1\" stroke=\"#000000\" stroke-opacity=\"1\" stroke-width=\"3.2\"/>\n",
       "<circle clip-path=\"url(#clip112)\" cx=\"536.148\" cy=\"1445.72\" r=\"14\" fill=\"#009af9\" fill-rule=\"evenodd\" fill-opacity=\"1\" stroke=\"#000000\" stroke-opacity=\"1\" stroke-width=\"3.2\"/>\n",
       "<circle clip-path=\"url(#clip112)\" cx=\"540.543\" cy=\"1445.72\" r=\"14\" fill=\"#009af9\" fill-rule=\"evenodd\" fill-opacity=\"1\" stroke=\"#000000\" stroke-opacity=\"1\" stroke-width=\"3.2\"/>\n",
       "<circle clip-path=\"url(#clip112)\" cx=\"544.937\" cy=\"1445.71\" r=\"14\" fill=\"#009af9\" fill-rule=\"evenodd\" fill-opacity=\"1\" stroke=\"#000000\" stroke-opacity=\"1\" stroke-width=\"3.2\"/>\n",
       "<circle clip-path=\"url(#clip112)\" cx=\"549.332\" cy=\"1445.71\" r=\"14\" fill=\"#009af9\" fill-rule=\"evenodd\" fill-opacity=\"1\" stroke=\"#000000\" stroke-opacity=\"1\" stroke-width=\"3.2\"/>\n",
       "<circle clip-path=\"url(#clip112)\" cx=\"553.726\" cy=\"1445.71\" r=\"14\" fill=\"#009af9\" fill-rule=\"evenodd\" fill-opacity=\"1\" stroke=\"#000000\" stroke-opacity=\"1\" stroke-width=\"3.2\"/>\n",
       "<circle clip-path=\"url(#clip112)\" cx=\"558.121\" cy=\"1445.71\" r=\"14\" fill=\"#009af9\" fill-rule=\"evenodd\" fill-opacity=\"1\" stroke=\"#000000\" stroke-opacity=\"1\" stroke-width=\"3.2\"/>\n",
       "<circle clip-path=\"url(#clip112)\" cx=\"562.515\" cy=\"1445.7\" r=\"14\" fill=\"#009af9\" fill-rule=\"evenodd\" fill-opacity=\"1\" stroke=\"#000000\" stroke-opacity=\"1\" stroke-width=\"3.2\"/>\n",
       "<circle clip-path=\"url(#clip112)\" cx=\"566.91\" cy=\"1445.7\" r=\"14\" fill=\"#009af9\" fill-rule=\"evenodd\" fill-opacity=\"1\" stroke=\"#000000\" stroke-opacity=\"1\" stroke-width=\"3.2\"/>\n",
       "<circle clip-path=\"url(#clip112)\" cx=\"571.304\" cy=\"1445.69\" r=\"14\" fill=\"#009af9\" fill-rule=\"evenodd\" fill-opacity=\"1\" stroke=\"#000000\" stroke-opacity=\"1\" stroke-width=\"3.2\"/>\n",
       "<circle clip-path=\"url(#clip112)\" cx=\"575.699\" cy=\"1445.68\" r=\"14\" fill=\"#009af9\" fill-rule=\"evenodd\" fill-opacity=\"1\" stroke=\"#000000\" stroke-opacity=\"1\" stroke-width=\"3.2\"/>\n",
       "<circle clip-path=\"url(#clip112)\" cx=\"580.093\" cy=\"1445.66\" r=\"14\" fill=\"#009af9\" fill-rule=\"evenodd\" fill-opacity=\"1\" stroke=\"#000000\" stroke-opacity=\"1\" stroke-width=\"3.2\"/>\n",
       "<circle clip-path=\"url(#clip112)\" cx=\"584.488\" cy=\"1445.66\" r=\"14\" fill=\"#009af9\" fill-rule=\"evenodd\" fill-opacity=\"1\" stroke=\"#000000\" stroke-opacity=\"1\" stroke-width=\"3.2\"/>\n",
       "<circle clip-path=\"url(#clip112)\" cx=\"588.882\" cy=\"1445.63\" r=\"14\" fill=\"#009af9\" fill-rule=\"evenodd\" fill-opacity=\"1\" stroke=\"#000000\" stroke-opacity=\"1\" stroke-width=\"3.2\"/>\n",
       "<circle clip-path=\"url(#clip112)\" cx=\"593.277\" cy=\"1445.61\" r=\"14\" fill=\"#009af9\" fill-rule=\"evenodd\" fill-opacity=\"1\" stroke=\"#000000\" stroke-opacity=\"1\" stroke-width=\"3.2\"/>\n",
       "<circle clip-path=\"url(#clip112)\" cx=\"597.672\" cy=\"1445.59\" r=\"14\" fill=\"#009af9\" fill-rule=\"evenodd\" fill-opacity=\"1\" stroke=\"#000000\" stroke-opacity=\"1\" stroke-width=\"3.2\"/>\n",
       "<circle clip-path=\"url(#clip112)\" cx=\"602.066\" cy=\"1445.57\" r=\"14\" fill=\"#009af9\" fill-rule=\"evenodd\" fill-opacity=\"1\" stroke=\"#000000\" stroke-opacity=\"1\" stroke-width=\"3.2\"/>\n",
       "<circle clip-path=\"url(#clip112)\" cx=\"606.461\" cy=\"1445.51\" r=\"14\" fill=\"#009af9\" fill-rule=\"evenodd\" fill-opacity=\"1\" stroke=\"#000000\" stroke-opacity=\"1\" stroke-width=\"3.2\"/>\n",
       "<circle clip-path=\"url(#clip112)\" cx=\"610.855\" cy=\"1445.47\" r=\"14\" fill=\"#009af9\" fill-rule=\"evenodd\" fill-opacity=\"1\" stroke=\"#000000\" stroke-opacity=\"1\" stroke-width=\"3.2\"/>\n",
       "<circle clip-path=\"url(#clip112)\" cx=\"615.25\" cy=\"1445.45\" r=\"14\" fill=\"#009af9\" fill-rule=\"evenodd\" fill-opacity=\"1\" stroke=\"#000000\" stroke-opacity=\"1\" stroke-width=\"3.2\"/>\n",
       "<circle clip-path=\"url(#clip112)\" cx=\"619.644\" cy=\"1445.43\" r=\"14\" fill=\"#009af9\" fill-rule=\"evenodd\" fill-opacity=\"1\" stroke=\"#000000\" stroke-opacity=\"1\" stroke-width=\"3.2\"/>\n",
       "<circle clip-path=\"url(#clip112)\" cx=\"624.039\" cy=\"1445.39\" r=\"14\" fill=\"#009af9\" fill-rule=\"evenodd\" fill-opacity=\"1\" stroke=\"#000000\" stroke-opacity=\"1\" stroke-width=\"3.2\"/>\n",
       "<circle clip-path=\"url(#clip112)\" cx=\"628.433\" cy=\"1445.34\" r=\"14\" fill=\"#009af9\" fill-rule=\"evenodd\" fill-opacity=\"1\" stroke=\"#000000\" stroke-opacity=\"1\" stroke-width=\"3.2\"/>\n",
       "<circle clip-path=\"url(#clip112)\" cx=\"632.828\" cy=\"1445.29\" r=\"14\" fill=\"#009af9\" fill-rule=\"evenodd\" fill-opacity=\"1\" stroke=\"#000000\" stroke-opacity=\"1\" stroke-width=\"3.2\"/>\n",
       "<circle clip-path=\"url(#clip112)\" cx=\"637.222\" cy=\"1445.23\" r=\"14\" fill=\"#009af9\" fill-rule=\"evenodd\" fill-opacity=\"1\" stroke=\"#000000\" stroke-opacity=\"1\" stroke-width=\"3.2\"/>\n",
       "<circle clip-path=\"url(#clip112)\" cx=\"641.617\" cy=\"1445.15\" r=\"14\" fill=\"#009af9\" fill-rule=\"evenodd\" fill-opacity=\"1\" stroke=\"#000000\" stroke-opacity=\"1\" stroke-width=\"3.2\"/>\n",
       "<circle clip-path=\"url(#clip112)\" cx=\"646.011\" cy=\"1445.1\" r=\"14\" fill=\"#009af9\" fill-rule=\"evenodd\" fill-opacity=\"1\" stroke=\"#000000\" stroke-opacity=\"1\" stroke-width=\"3.2\"/>\n",
       "<circle clip-path=\"url(#clip112)\" cx=\"650.406\" cy=\"1445.04\" r=\"14\" fill=\"#009af9\" fill-rule=\"evenodd\" fill-opacity=\"1\" stroke=\"#000000\" stroke-opacity=\"1\" stroke-width=\"3.2\"/>\n",
       "<circle clip-path=\"url(#clip112)\" cx=\"654.8\" cy=\"1444.97\" r=\"14\" fill=\"#009af9\" fill-rule=\"evenodd\" fill-opacity=\"1\" stroke=\"#000000\" stroke-opacity=\"1\" stroke-width=\"3.2\"/>\n",
       "<circle clip-path=\"url(#clip112)\" cx=\"659.195\" cy=\"1444.93\" r=\"14\" fill=\"#009af9\" fill-rule=\"evenodd\" fill-opacity=\"1\" stroke=\"#000000\" stroke-opacity=\"1\" stroke-width=\"3.2\"/>\n",
       "<circle clip-path=\"url(#clip112)\" cx=\"663.589\" cy=\"1444.88\" r=\"14\" fill=\"#009af9\" fill-rule=\"evenodd\" fill-opacity=\"1\" stroke=\"#000000\" stroke-opacity=\"1\" stroke-width=\"3.2\"/>\n",
       "<circle clip-path=\"url(#clip112)\" cx=\"667.984\" cy=\"1444.77\" r=\"14\" fill=\"#009af9\" fill-rule=\"evenodd\" fill-opacity=\"1\" stroke=\"#000000\" stroke-opacity=\"1\" stroke-width=\"3.2\"/>\n",
       "<circle clip-path=\"url(#clip112)\" cx=\"672.378\" cy=\"1444.62\" r=\"14\" fill=\"#009af9\" fill-rule=\"evenodd\" fill-opacity=\"1\" stroke=\"#000000\" stroke-opacity=\"1\" stroke-width=\"3.2\"/>\n",
       "<circle clip-path=\"url(#clip112)\" cx=\"676.773\" cy=\"1444.53\" r=\"14\" fill=\"#009af9\" fill-rule=\"evenodd\" fill-opacity=\"1\" stroke=\"#000000\" stroke-opacity=\"1\" stroke-width=\"3.2\"/>\n",
       "<circle clip-path=\"url(#clip112)\" cx=\"681.167\" cy=\"1444.4\" r=\"14\" fill=\"#009af9\" fill-rule=\"evenodd\" fill-opacity=\"1\" stroke=\"#000000\" stroke-opacity=\"1\" stroke-width=\"3.2\"/>\n",
       "<circle clip-path=\"url(#clip112)\" cx=\"685.562\" cy=\"1444.27\" r=\"14\" fill=\"#009af9\" fill-rule=\"evenodd\" fill-opacity=\"1\" stroke=\"#000000\" stroke-opacity=\"1\" stroke-width=\"3.2\"/>\n",
       "<circle clip-path=\"url(#clip112)\" cx=\"689.957\" cy=\"1444.24\" r=\"14\" fill=\"#009af9\" fill-rule=\"evenodd\" fill-opacity=\"1\" stroke=\"#000000\" stroke-opacity=\"1\" stroke-width=\"3.2\"/>\n",
       "<circle clip-path=\"url(#clip112)\" cx=\"694.351\" cy=\"1444.2\" r=\"14\" fill=\"#009af9\" fill-rule=\"evenodd\" fill-opacity=\"1\" stroke=\"#000000\" stroke-opacity=\"1\" stroke-width=\"3.2\"/>\n",
       "<circle clip-path=\"url(#clip112)\" cx=\"698.746\" cy=\"1444.13\" r=\"14\" fill=\"#009af9\" fill-rule=\"evenodd\" fill-opacity=\"1\" stroke=\"#000000\" stroke-opacity=\"1\" stroke-width=\"3.2\"/>\n",
       "<circle clip-path=\"url(#clip112)\" cx=\"703.14\" cy=\"1444.06\" r=\"14\" fill=\"#009af9\" fill-rule=\"evenodd\" fill-opacity=\"1\" stroke=\"#000000\" stroke-opacity=\"1\" stroke-width=\"3.2\"/>\n",
       "<circle clip-path=\"url(#clip112)\" cx=\"707.535\" cy=\"1444\" r=\"14\" fill=\"#009af9\" fill-rule=\"evenodd\" fill-opacity=\"1\" stroke=\"#000000\" stroke-opacity=\"1\" stroke-width=\"3.2\"/>\n",
       "<circle clip-path=\"url(#clip112)\" cx=\"711.929\" cy=\"1443.89\" r=\"14\" fill=\"#009af9\" fill-rule=\"evenodd\" fill-opacity=\"1\" stroke=\"#000000\" stroke-opacity=\"1\" stroke-width=\"3.2\"/>\n",
       "<circle clip-path=\"url(#clip112)\" cx=\"716.324\" cy=\"1443.79\" r=\"14\" fill=\"#009af9\" fill-rule=\"evenodd\" fill-opacity=\"1\" stroke=\"#000000\" stroke-opacity=\"1\" stroke-width=\"3.2\"/>\n",
       "<circle clip-path=\"url(#clip112)\" cx=\"720.718\" cy=\"1443.7\" r=\"14\" fill=\"#009af9\" fill-rule=\"evenodd\" fill-opacity=\"1\" stroke=\"#000000\" stroke-opacity=\"1\" stroke-width=\"3.2\"/>\n",
       "<circle clip-path=\"url(#clip112)\" cx=\"725.113\" cy=\"1443.6\" r=\"14\" fill=\"#009af9\" fill-rule=\"evenodd\" fill-opacity=\"1\" stroke=\"#000000\" stroke-opacity=\"1\" stroke-width=\"3.2\"/>\n",
       "<circle clip-path=\"url(#clip112)\" cx=\"729.507\" cy=\"1443.51\" r=\"14\" fill=\"#009af9\" fill-rule=\"evenodd\" fill-opacity=\"1\" stroke=\"#000000\" stroke-opacity=\"1\" stroke-width=\"3.2\"/>\n",
       "<circle clip-path=\"url(#clip112)\" cx=\"733.902\" cy=\"1443.4\" r=\"14\" fill=\"#009af9\" fill-rule=\"evenodd\" fill-opacity=\"1\" stroke=\"#000000\" stroke-opacity=\"1\" stroke-width=\"3.2\"/>\n",
       "<circle clip-path=\"url(#clip112)\" cx=\"738.296\" cy=\"1443.29\" r=\"14\" fill=\"#009af9\" fill-rule=\"evenodd\" fill-opacity=\"1\" stroke=\"#000000\" stroke-opacity=\"1\" stroke-width=\"3.2\"/>\n",
       "<circle clip-path=\"url(#clip112)\" cx=\"742.691\" cy=\"1443.12\" r=\"14\" fill=\"#009af9\" fill-rule=\"evenodd\" fill-opacity=\"1\" stroke=\"#000000\" stroke-opacity=\"1\" stroke-width=\"3.2\"/>\n",
       "<circle clip-path=\"url(#clip112)\" cx=\"747.085\" cy=\"1442.98\" r=\"14\" fill=\"#009af9\" fill-rule=\"evenodd\" fill-opacity=\"1\" stroke=\"#000000\" stroke-opacity=\"1\" stroke-width=\"3.2\"/>\n",
       "<circle clip-path=\"url(#clip112)\" cx=\"751.48\" cy=\"1442.85\" r=\"14\" fill=\"#009af9\" fill-rule=\"evenodd\" fill-opacity=\"1\" stroke=\"#000000\" stroke-opacity=\"1\" stroke-width=\"3.2\"/>\n",
       "<circle clip-path=\"url(#clip112)\" cx=\"755.874\" cy=\"1442.74\" r=\"14\" fill=\"#009af9\" fill-rule=\"evenodd\" fill-opacity=\"1\" stroke=\"#000000\" stroke-opacity=\"1\" stroke-width=\"3.2\"/>\n",
       "<circle clip-path=\"url(#clip112)\" cx=\"760.269\" cy=\"1442.55\" r=\"14\" fill=\"#009af9\" fill-rule=\"evenodd\" fill-opacity=\"1\" stroke=\"#000000\" stroke-opacity=\"1\" stroke-width=\"3.2\"/>\n",
       "<circle clip-path=\"url(#clip112)\" cx=\"764.663\" cy=\"1442.41\" r=\"14\" fill=\"#009af9\" fill-rule=\"evenodd\" fill-opacity=\"1\" stroke=\"#000000\" stroke-opacity=\"1\" stroke-width=\"3.2\"/>\n",
       "<circle clip-path=\"url(#clip112)\" cx=\"769.058\" cy=\"1442.26\" r=\"14\" fill=\"#009af9\" fill-rule=\"evenodd\" fill-opacity=\"1\" stroke=\"#000000\" stroke-opacity=\"1\" stroke-width=\"3.2\"/>\n",
       "<circle clip-path=\"url(#clip112)\" cx=\"773.452\" cy=\"1441.99\" r=\"14\" fill=\"#009af9\" fill-rule=\"evenodd\" fill-opacity=\"1\" stroke=\"#000000\" stroke-opacity=\"1\" stroke-width=\"3.2\"/>\n",
       "<circle clip-path=\"url(#clip112)\" cx=\"777.847\" cy=\"1441.84\" r=\"14\" fill=\"#009af9\" fill-rule=\"evenodd\" fill-opacity=\"1\" stroke=\"#000000\" stroke-opacity=\"1\" stroke-width=\"3.2\"/>\n",
       "<circle clip-path=\"url(#clip112)\" cx=\"782.241\" cy=\"1441.64\" r=\"14\" fill=\"#009af9\" fill-rule=\"evenodd\" fill-opacity=\"1\" stroke=\"#000000\" stroke-opacity=\"1\" stroke-width=\"3.2\"/>\n",
       "<circle clip-path=\"url(#clip112)\" cx=\"786.636\" cy=\"1441.48\" r=\"14\" fill=\"#009af9\" fill-rule=\"evenodd\" fill-opacity=\"1\" stroke=\"#000000\" stroke-opacity=\"1\" stroke-width=\"3.2\"/>\n",
       "<circle clip-path=\"url(#clip112)\" cx=\"791.031\" cy=\"1441.14\" r=\"14\" fill=\"#009af9\" fill-rule=\"evenodd\" fill-opacity=\"1\" stroke=\"#000000\" stroke-opacity=\"1\" stroke-width=\"3.2\"/>\n",
       "<circle clip-path=\"url(#clip112)\" cx=\"795.425\" cy=\"1440.95\" r=\"14\" fill=\"#009af9\" fill-rule=\"evenodd\" fill-opacity=\"1\" stroke=\"#000000\" stroke-opacity=\"1\" stroke-width=\"3.2\"/>\n",
       "<circle clip-path=\"url(#clip112)\" cx=\"799.82\" cy=\"1440.69\" r=\"14\" fill=\"#009af9\" fill-rule=\"evenodd\" fill-opacity=\"1\" stroke=\"#000000\" stroke-opacity=\"1\" stroke-width=\"3.2\"/>\n",
       "<circle clip-path=\"url(#clip112)\" cx=\"804.214\" cy=\"1440.37\" r=\"14\" fill=\"#009af9\" fill-rule=\"evenodd\" fill-opacity=\"1\" stroke=\"#000000\" stroke-opacity=\"1\" stroke-width=\"3.2\"/>\n",
       "<circle clip-path=\"url(#clip112)\" cx=\"808.609\" cy=\"1440.13\" r=\"14\" fill=\"#009af9\" fill-rule=\"evenodd\" fill-opacity=\"1\" stroke=\"#000000\" stroke-opacity=\"1\" stroke-width=\"3.2\"/>\n",
       "<circle clip-path=\"url(#clip112)\" cx=\"813.003\" cy=\"1439.83\" r=\"14\" fill=\"#009af9\" fill-rule=\"evenodd\" fill-opacity=\"1\" stroke=\"#000000\" stroke-opacity=\"1\" stroke-width=\"3.2\"/>\n",
       "<circle clip-path=\"url(#clip112)\" cx=\"817.398\" cy=\"1439.54\" r=\"14\" fill=\"#009af9\" fill-rule=\"evenodd\" fill-opacity=\"1\" stroke=\"#000000\" stroke-opacity=\"1\" stroke-width=\"3.2\"/>\n",
       "<circle clip-path=\"url(#clip112)\" cx=\"821.792\" cy=\"1439.19\" r=\"14\" fill=\"#009af9\" fill-rule=\"evenodd\" fill-opacity=\"1\" stroke=\"#000000\" stroke-opacity=\"1\" stroke-width=\"3.2\"/>\n",
       "<circle clip-path=\"url(#clip112)\" cx=\"826.187\" cy=\"1438.84\" r=\"14\" fill=\"#009af9\" fill-rule=\"evenodd\" fill-opacity=\"1\" stroke=\"#000000\" stroke-opacity=\"1\" stroke-width=\"3.2\"/>\n",
       "<circle clip-path=\"url(#clip112)\" cx=\"830.581\" cy=\"1438.48\" r=\"14\" fill=\"#009af9\" fill-rule=\"evenodd\" fill-opacity=\"1\" stroke=\"#000000\" stroke-opacity=\"1\" stroke-width=\"3.2\"/>\n",
       "<circle clip-path=\"url(#clip112)\" cx=\"834.976\" cy=\"1438.16\" r=\"14\" fill=\"#009af9\" fill-rule=\"evenodd\" fill-opacity=\"1\" stroke=\"#000000\" stroke-opacity=\"1\" stroke-width=\"3.2\"/>\n",
       "<circle clip-path=\"url(#clip112)\" cx=\"839.37\" cy=\"1437.77\" r=\"14\" fill=\"#009af9\" fill-rule=\"evenodd\" fill-opacity=\"1\" stroke=\"#000000\" stroke-opacity=\"1\" stroke-width=\"3.2\"/>\n",
       "<circle clip-path=\"url(#clip112)\" cx=\"843.765\" cy=\"1437.43\" r=\"14\" fill=\"#009af9\" fill-rule=\"evenodd\" fill-opacity=\"1\" stroke=\"#000000\" stroke-opacity=\"1\" stroke-width=\"3.2\"/>\n",
       "<circle clip-path=\"url(#clip112)\" cx=\"848.159\" cy=\"1437.05\" r=\"14\" fill=\"#009af9\" fill-rule=\"evenodd\" fill-opacity=\"1\" stroke=\"#000000\" stroke-opacity=\"1\" stroke-width=\"3.2\"/>\n",
       "<circle clip-path=\"url(#clip112)\" cx=\"852.554\" cy=\"1436.71\" r=\"14\" fill=\"#009af9\" fill-rule=\"evenodd\" fill-opacity=\"1\" stroke=\"#000000\" stroke-opacity=\"1\" stroke-width=\"3.2\"/>\n",
       "<circle clip-path=\"url(#clip112)\" cx=\"856.948\" cy=\"1436.31\" r=\"14\" fill=\"#009af9\" fill-rule=\"evenodd\" fill-opacity=\"1\" stroke=\"#000000\" stroke-opacity=\"1\" stroke-width=\"3.2\"/>\n",
       "<circle clip-path=\"url(#clip112)\" cx=\"861.343\" cy=\"1435.97\" r=\"14\" fill=\"#009af9\" fill-rule=\"evenodd\" fill-opacity=\"1\" stroke=\"#000000\" stroke-opacity=\"1\" stroke-width=\"3.2\"/>\n",
       "<circle clip-path=\"url(#clip112)\" cx=\"865.737\" cy=\"1435.54\" r=\"14\" fill=\"#009af9\" fill-rule=\"evenodd\" fill-opacity=\"1\" stroke=\"#000000\" stroke-opacity=\"1\" stroke-width=\"3.2\"/>\n",
       "<circle clip-path=\"url(#clip112)\" cx=\"870.132\" cy=\"1434.98\" r=\"14\" fill=\"#009af9\" fill-rule=\"evenodd\" fill-opacity=\"1\" stroke=\"#000000\" stroke-opacity=\"1\" stroke-width=\"3.2\"/>\n",
       "<circle clip-path=\"url(#clip112)\" cx=\"874.526\" cy=\"1434.45\" r=\"14\" fill=\"#009af9\" fill-rule=\"evenodd\" fill-opacity=\"1\" stroke=\"#000000\" stroke-opacity=\"1\" stroke-width=\"3.2\"/>\n",
       "<circle clip-path=\"url(#clip112)\" cx=\"878.921\" cy=\"1434.03\" r=\"14\" fill=\"#009af9\" fill-rule=\"evenodd\" fill-opacity=\"1\" stroke=\"#000000\" stroke-opacity=\"1\" stroke-width=\"3.2\"/>\n",
       "<circle clip-path=\"url(#clip112)\" cx=\"883.315\" cy=\"1433.48\" r=\"14\" fill=\"#009af9\" fill-rule=\"evenodd\" fill-opacity=\"1\" stroke=\"#000000\" stroke-opacity=\"1\" stroke-width=\"3.2\"/>\n",
       "<circle clip-path=\"url(#clip112)\" cx=\"887.71\" cy=\"1432.9\" r=\"14\" fill=\"#009af9\" fill-rule=\"evenodd\" fill-opacity=\"1\" stroke=\"#000000\" stroke-opacity=\"1\" stroke-width=\"3.2\"/>\n",
       "<circle clip-path=\"url(#clip112)\" cx=\"892.105\" cy=\"1432.23\" r=\"14\" fill=\"#009af9\" fill-rule=\"evenodd\" fill-opacity=\"1\" stroke=\"#000000\" stroke-opacity=\"1\" stroke-width=\"3.2\"/>\n",
       "<circle clip-path=\"url(#clip112)\" cx=\"896.499\" cy=\"1431.52\" r=\"14\" fill=\"#009af9\" fill-rule=\"evenodd\" fill-opacity=\"1\" stroke=\"#000000\" stroke-opacity=\"1\" stroke-width=\"3.2\"/>\n",
       "<circle clip-path=\"url(#clip112)\" cx=\"900.894\" cy=\"1430.7\" r=\"14\" fill=\"#009af9\" fill-rule=\"evenodd\" fill-opacity=\"1\" stroke=\"#000000\" stroke-opacity=\"1\" stroke-width=\"3.2\"/>\n",
       "<circle clip-path=\"url(#clip112)\" cx=\"905.288\" cy=\"1430.09\" r=\"14\" fill=\"#009af9\" fill-rule=\"evenodd\" fill-opacity=\"1\" stroke=\"#000000\" stroke-opacity=\"1\" stroke-width=\"3.2\"/>\n",
       "<circle clip-path=\"url(#clip112)\" cx=\"909.683\" cy=\"1429.5\" r=\"14\" fill=\"#009af9\" fill-rule=\"evenodd\" fill-opacity=\"1\" stroke=\"#000000\" stroke-opacity=\"1\" stroke-width=\"3.2\"/>\n",
       "<circle clip-path=\"url(#clip112)\" cx=\"914.077\" cy=\"1428.79\" r=\"14\" fill=\"#009af9\" fill-rule=\"evenodd\" fill-opacity=\"1\" stroke=\"#000000\" stroke-opacity=\"1\" stroke-width=\"3.2\"/>\n",
       "<circle clip-path=\"url(#clip112)\" cx=\"918.472\" cy=\"1427.98\" r=\"14\" fill=\"#009af9\" fill-rule=\"evenodd\" fill-opacity=\"1\" stroke=\"#000000\" stroke-opacity=\"1\" stroke-width=\"3.2\"/>\n",
       "<circle clip-path=\"url(#clip112)\" cx=\"922.866\" cy=\"1427.04\" r=\"14\" fill=\"#009af9\" fill-rule=\"evenodd\" fill-opacity=\"1\" stroke=\"#000000\" stroke-opacity=\"1\" stroke-width=\"3.2\"/>\n",
       "<circle clip-path=\"url(#clip112)\" cx=\"927.261\" cy=\"1426.23\" r=\"14\" fill=\"#009af9\" fill-rule=\"evenodd\" fill-opacity=\"1\" stroke=\"#000000\" stroke-opacity=\"1\" stroke-width=\"3.2\"/>\n",
       "<circle clip-path=\"url(#clip112)\" cx=\"931.655\" cy=\"1425.49\" r=\"14\" fill=\"#009af9\" fill-rule=\"evenodd\" fill-opacity=\"1\" stroke=\"#000000\" stroke-opacity=\"1\" stroke-width=\"3.2\"/>\n",
       "<circle clip-path=\"url(#clip112)\" cx=\"936.05\" cy=\"1424.85\" r=\"14\" fill=\"#009af9\" fill-rule=\"evenodd\" fill-opacity=\"1\" stroke=\"#000000\" stroke-opacity=\"1\" stroke-width=\"3.2\"/>\n",
       "<circle clip-path=\"url(#clip112)\" cx=\"940.444\" cy=\"1424.06\" r=\"14\" fill=\"#009af9\" fill-rule=\"evenodd\" fill-opacity=\"1\" stroke=\"#000000\" stroke-opacity=\"1\" stroke-width=\"3.2\"/>\n",
       "<circle clip-path=\"url(#clip112)\" cx=\"944.839\" cy=\"1423.34\" r=\"14\" fill=\"#009af9\" fill-rule=\"evenodd\" fill-opacity=\"1\" stroke=\"#000000\" stroke-opacity=\"1\" stroke-width=\"3.2\"/>\n",
       "<circle clip-path=\"url(#clip112)\" cx=\"949.233\" cy=\"1422.48\" r=\"14\" fill=\"#009af9\" fill-rule=\"evenodd\" fill-opacity=\"1\" stroke=\"#000000\" stroke-opacity=\"1\" stroke-width=\"3.2\"/>\n",
       "<circle clip-path=\"url(#clip112)\" cx=\"953.628\" cy=\"1421.67\" r=\"14\" fill=\"#009af9\" fill-rule=\"evenodd\" fill-opacity=\"1\" stroke=\"#000000\" stroke-opacity=\"1\" stroke-width=\"3.2\"/>\n",
       "<circle clip-path=\"url(#clip112)\" cx=\"958.022\" cy=\"1420.8\" r=\"14\" fill=\"#009af9\" fill-rule=\"evenodd\" fill-opacity=\"1\" stroke=\"#000000\" stroke-opacity=\"1\" stroke-width=\"3.2\"/>\n",
       "<circle clip-path=\"url(#clip112)\" cx=\"962.417\" cy=\"1419.79\" r=\"14\" fill=\"#009af9\" fill-rule=\"evenodd\" fill-opacity=\"1\" stroke=\"#000000\" stroke-opacity=\"1\" stroke-width=\"3.2\"/>\n",
       "<circle clip-path=\"url(#clip112)\" cx=\"966.811\" cy=\"1418.62\" r=\"14\" fill=\"#009af9\" fill-rule=\"evenodd\" fill-opacity=\"1\" stroke=\"#000000\" stroke-opacity=\"1\" stroke-width=\"3.2\"/>\n",
       "<circle clip-path=\"url(#clip112)\" cx=\"971.206\" cy=\"1417.49\" r=\"14\" fill=\"#009af9\" fill-rule=\"evenodd\" fill-opacity=\"1\" stroke=\"#000000\" stroke-opacity=\"1\" stroke-width=\"3.2\"/>\n",
       "<circle clip-path=\"url(#clip112)\" cx=\"975.6\" cy=\"1416.5\" r=\"14\" fill=\"#009af9\" fill-rule=\"evenodd\" fill-opacity=\"1\" stroke=\"#000000\" stroke-opacity=\"1\" stroke-width=\"3.2\"/>\n",
       "<circle clip-path=\"url(#clip112)\" cx=\"979.995\" cy=\"1415.38\" r=\"14\" fill=\"#009af9\" fill-rule=\"evenodd\" fill-opacity=\"1\" stroke=\"#000000\" stroke-opacity=\"1\" stroke-width=\"3.2\"/>\n",
       "<circle clip-path=\"url(#clip112)\" cx=\"984.39\" cy=\"1413.69\" r=\"14\" fill=\"#009af9\" fill-rule=\"evenodd\" fill-opacity=\"1\" stroke=\"#000000\" stroke-opacity=\"1\" stroke-width=\"3.2\"/>\n",
       "<circle clip-path=\"url(#clip112)\" cx=\"988.784\" cy=\"1412.06\" r=\"14\" fill=\"#009af9\" fill-rule=\"evenodd\" fill-opacity=\"1\" stroke=\"#000000\" stroke-opacity=\"1\" stroke-width=\"3.2\"/>\n",
       "<circle clip-path=\"url(#clip112)\" cx=\"993.179\" cy=\"1410.81\" r=\"14\" fill=\"#009af9\" fill-rule=\"evenodd\" fill-opacity=\"1\" stroke=\"#000000\" stroke-opacity=\"1\" stroke-width=\"3.2\"/>\n",
       "<circle clip-path=\"url(#clip112)\" cx=\"997.573\" cy=\"1409.2\" r=\"14\" fill=\"#009af9\" fill-rule=\"evenodd\" fill-opacity=\"1\" stroke=\"#000000\" stroke-opacity=\"1\" stroke-width=\"3.2\"/>\n",
       "<circle clip-path=\"url(#clip112)\" cx=\"1001.97\" cy=\"1407.86\" r=\"14\" fill=\"#009af9\" fill-rule=\"evenodd\" fill-opacity=\"1\" stroke=\"#000000\" stroke-opacity=\"1\" stroke-width=\"3.2\"/>\n",
       "<circle clip-path=\"url(#clip112)\" cx=\"1006.36\" cy=\"1406.59\" r=\"14\" fill=\"#009af9\" fill-rule=\"evenodd\" fill-opacity=\"1\" stroke=\"#000000\" stroke-opacity=\"1\" stroke-width=\"3.2\"/>\n",
       "<circle clip-path=\"url(#clip112)\" cx=\"1010.76\" cy=\"1404.7\" r=\"14\" fill=\"#009af9\" fill-rule=\"evenodd\" fill-opacity=\"1\" stroke=\"#000000\" stroke-opacity=\"1\" stroke-width=\"3.2\"/>\n",
       "<circle clip-path=\"url(#clip112)\" cx=\"1015.15\" cy=\"1402.85\" r=\"14\" fill=\"#009af9\" fill-rule=\"evenodd\" fill-opacity=\"1\" stroke=\"#000000\" stroke-opacity=\"1\" stroke-width=\"3.2\"/>\n",
       "<circle clip-path=\"url(#clip112)\" cx=\"1019.55\" cy=\"1400.81\" r=\"14\" fill=\"#009af9\" fill-rule=\"evenodd\" fill-opacity=\"1\" stroke=\"#000000\" stroke-opacity=\"1\" stroke-width=\"3.2\"/>\n",
       "<circle clip-path=\"url(#clip112)\" cx=\"1023.94\" cy=\"1398.6\" r=\"14\" fill=\"#009af9\" fill-rule=\"evenodd\" fill-opacity=\"1\" stroke=\"#000000\" stroke-opacity=\"1\" stroke-width=\"3.2\"/>\n",
       "<circle clip-path=\"url(#clip112)\" cx=\"1028.33\" cy=\"1396.91\" r=\"14\" fill=\"#009af9\" fill-rule=\"evenodd\" fill-opacity=\"1\" stroke=\"#000000\" stroke-opacity=\"1\" stroke-width=\"3.2\"/>\n",
       "<circle clip-path=\"url(#clip112)\" cx=\"1032.73\" cy=\"1395.17\" r=\"14\" fill=\"#009af9\" fill-rule=\"evenodd\" fill-opacity=\"1\" stroke=\"#000000\" stroke-opacity=\"1\" stroke-width=\"3.2\"/>\n",
       "<circle clip-path=\"url(#clip112)\" cx=\"1037.12\" cy=\"1393.68\" r=\"14\" fill=\"#009af9\" fill-rule=\"evenodd\" fill-opacity=\"1\" stroke=\"#000000\" stroke-opacity=\"1\" stroke-width=\"3.2\"/>\n",
       "<circle clip-path=\"url(#clip112)\" cx=\"1041.52\" cy=\"1391.46\" r=\"14\" fill=\"#009af9\" fill-rule=\"evenodd\" fill-opacity=\"1\" stroke=\"#000000\" stroke-opacity=\"1\" stroke-width=\"3.2\"/>\n",
       "<circle clip-path=\"url(#clip112)\" cx=\"1045.91\" cy=\"1389.28\" r=\"14\" fill=\"#009af9\" fill-rule=\"evenodd\" fill-opacity=\"1\" stroke=\"#000000\" stroke-opacity=\"1\" stroke-width=\"3.2\"/>\n",
       "<circle clip-path=\"url(#clip112)\" cx=\"1050.31\" cy=\"1387.48\" r=\"14\" fill=\"#009af9\" fill-rule=\"evenodd\" fill-opacity=\"1\" stroke=\"#000000\" stroke-opacity=\"1\" stroke-width=\"3.2\"/>\n",
       "<circle clip-path=\"url(#clip112)\" cx=\"1054.7\" cy=\"1385.41\" r=\"14\" fill=\"#009af9\" fill-rule=\"evenodd\" fill-opacity=\"1\" stroke=\"#000000\" stroke-opacity=\"1\" stroke-width=\"3.2\"/>\n",
       "<circle clip-path=\"url(#clip112)\" cx=\"1059.1\" cy=\"1383.43\" r=\"14\" fill=\"#009af9\" fill-rule=\"evenodd\" fill-opacity=\"1\" stroke=\"#000000\" stroke-opacity=\"1\" stroke-width=\"3.2\"/>\n",
       "<circle clip-path=\"url(#clip112)\" cx=\"1063.49\" cy=\"1381.75\" r=\"14\" fill=\"#009af9\" fill-rule=\"evenodd\" fill-opacity=\"1\" stroke=\"#000000\" stroke-opacity=\"1\" stroke-width=\"3.2\"/>\n",
       "<circle clip-path=\"url(#clip112)\" cx=\"1067.89\" cy=\"1379.51\" r=\"14\" fill=\"#009af9\" fill-rule=\"evenodd\" fill-opacity=\"1\" stroke=\"#000000\" stroke-opacity=\"1\" stroke-width=\"3.2\"/>\n",
       "<circle clip-path=\"url(#clip112)\" cx=\"1072.28\" cy=\"1377.3\" r=\"14\" fill=\"#009af9\" fill-rule=\"evenodd\" fill-opacity=\"1\" stroke=\"#000000\" stroke-opacity=\"1\" stroke-width=\"3.2\"/>\n",
       "<circle clip-path=\"url(#clip112)\" cx=\"1076.67\" cy=\"1374.46\" r=\"14\" fill=\"#009af9\" fill-rule=\"evenodd\" fill-opacity=\"1\" stroke=\"#000000\" stroke-opacity=\"1\" stroke-width=\"3.2\"/>\n",
       "<circle clip-path=\"url(#clip112)\" cx=\"1081.07\" cy=\"1370.85\" r=\"14\" fill=\"#009af9\" fill-rule=\"evenodd\" fill-opacity=\"1\" stroke=\"#000000\" stroke-opacity=\"1\" stroke-width=\"3.2\"/>\n",
       "<circle clip-path=\"url(#clip112)\" cx=\"1085.46\" cy=\"1368.26\" r=\"14\" fill=\"#009af9\" fill-rule=\"evenodd\" fill-opacity=\"1\" stroke=\"#000000\" stroke-opacity=\"1\" stroke-width=\"3.2\"/>\n",
       "<circle clip-path=\"url(#clip112)\" cx=\"1089.86\" cy=\"1365.7\" r=\"14\" fill=\"#009af9\" fill-rule=\"evenodd\" fill-opacity=\"1\" stroke=\"#000000\" stroke-opacity=\"1\" stroke-width=\"3.2\"/>\n",
       "<circle clip-path=\"url(#clip112)\" cx=\"1094.25\" cy=\"1363.67\" r=\"14\" fill=\"#009af9\" fill-rule=\"evenodd\" fill-opacity=\"1\" stroke=\"#000000\" stroke-opacity=\"1\" stroke-width=\"3.2\"/>\n",
       "<circle clip-path=\"url(#clip112)\" cx=\"1098.65\" cy=\"1360.68\" r=\"14\" fill=\"#009af9\" fill-rule=\"evenodd\" fill-opacity=\"1\" stroke=\"#000000\" stroke-opacity=\"1\" stroke-width=\"3.2\"/>\n",
       "<circle clip-path=\"url(#clip112)\" cx=\"1103.04\" cy=\"1357.87\" r=\"14\" fill=\"#009af9\" fill-rule=\"evenodd\" fill-opacity=\"1\" stroke=\"#000000\" stroke-opacity=\"1\" stroke-width=\"3.2\"/>\n",
       "<circle clip-path=\"url(#clip112)\" cx=\"1107.44\" cy=\"1353.6\" r=\"14\" fill=\"#009af9\" fill-rule=\"evenodd\" fill-opacity=\"1\" stroke=\"#000000\" stroke-opacity=\"1\" stroke-width=\"3.2\"/>\n",
       "<circle clip-path=\"url(#clip112)\" cx=\"1111.83\" cy=\"1348.85\" r=\"14\" fill=\"#009af9\" fill-rule=\"evenodd\" fill-opacity=\"1\" stroke=\"#000000\" stroke-opacity=\"1\" stroke-width=\"3.2\"/>\n",
       "<circle clip-path=\"url(#clip112)\" cx=\"1116.23\" cy=\"1344.29\" r=\"14\" fill=\"#009af9\" fill-rule=\"evenodd\" fill-opacity=\"1\" stroke=\"#000000\" stroke-opacity=\"1\" stroke-width=\"3.2\"/>\n",
       "<circle clip-path=\"url(#clip112)\" cx=\"1120.62\" cy=\"1340.8\" r=\"14\" fill=\"#009af9\" fill-rule=\"evenodd\" fill-opacity=\"1\" stroke=\"#000000\" stroke-opacity=\"1\" stroke-width=\"3.2\"/>\n",
       "<circle clip-path=\"url(#clip112)\" cx=\"1125.01\" cy=\"1337.22\" r=\"14\" fill=\"#009af9\" fill-rule=\"evenodd\" fill-opacity=\"1\" stroke=\"#000000\" stroke-opacity=\"1\" stroke-width=\"3.2\"/>\n",
       "<circle clip-path=\"url(#clip112)\" cx=\"1129.41\" cy=\"1333.48\" r=\"14\" fill=\"#009af9\" fill-rule=\"evenodd\" fill-opacity=\"1\" stroke=\"#000000\" stroke-opacity=\"1\" stroke-width=\"3.2\"/>\n",
       "<circle clip-path=\"url(#clip112)\" cx=\"1133.8\" cy=\"1329.55\" r=\"14\" fill=\"#009af9\" fill-rule=\"evenodd\" fill-opacity=\"1\" stroke=\"#000000\" stroke-opacity=\"1\" stroke-width=\"3.2\"/>\n",
       "<circle clip-path=\"url(#clip112)\" cx=\"1138.2\" cy=\"1325.32\" r=\"14\" fill=\"#009af9\" fill-rule=\"evenodd\" fill-opacity=\"1\" stroke=\"#000000\" stroke-opacity=\"1\" stroke-width=\"3.2\"/>\n",
       "<circle clip-path=\"url(#clip112)\" cx=\"1142.59\" cy=\"1321.51\" r=\"14\" fill=\"#009af9\" fill-rule=\"evenodd\" fill-opacity=\"1\" stroke=\"#000000\" stroke-opacity=\"1\" stroke-width=\"3.2\"/>\n",
       "<circle clip-path=\"url(#clip112)\" cx=\"1146.99\" cy=\"1317.65\" r=\"14\" fill=\"#009af9\" fill-rule=\"evenodd\" fill-opacity=\"1\" stroke=\"#000000\" stroke-opacity=\"1\" stroke-width=\"3.2\"/>\n",
       "<circle clip-path=\"url(#clip112)\" cx=\"1151.38\" cy=\"1313.3\" r=\"14\" fill=\"#009af9\" fill-rule=\"evenodd\" fill-opacity=\"1\" stroke=\"#000000\" stroke-opacity=\"1\" stroke-width=\"3.2\"/>\n",
       "<circle clip-path=\"url(#clip112)\" cx=\"1155.78\" cy=\"1308.98\" r=\"14\" fill=\"#009af9\" fill-rule=\"evenodd\" fill-opacity=\"1\" stroke=\"#000000\" stroke-opacity=\"1\" stroke-width=\"3.2\"/>\n",
       "<circle clip-path=\"url(#clip112)\" cx=\"1160.17\" cy=\"1303.51\" r=\"14\" fill=\"#009af9\" fill-rule=\"evenodd\" fill-opacity=\"1\" stroke=\"#000000\" stroke-opacity=\"1\" stroke-width=\"3.2\"/>\n",
       "<circle clip-path=\"url(#clip112)\" cx=\"1164.56\" cy=\"1298.9\" r=\"14\" fill=\"#009af9\" fill-rule=\"evenodd\" fill-opacity=\"1\" stroke=\"#000000\" stroke-opacity=\"1\" stroke-width=\"3.2\"/>\n",
       "<circle clip-path=\"url(#clip112)\" cx=\"1168.96\" cy=\"1293.6\" r=\"14\" fill=\"#009af9\" fill-rule=\"evenodd\" fill-opacity=\"1\" stroke=\"#000000\" stroke-opacity=\"1\" stroke-width=\"3.2\"/>\n",
       "<circle clip-path=\"url(#clip112)\" cx=\"1173.35\" cy=\"1288.55\" r=\"14\" fill=\"#009af9\" fill-rule=\"evenodd\" fill-opacity=\"1\" stroke=\"#000000\" stroke-opacity=\"1\" stroke-width=\"3.2\"/>\n",
       "<circle clip-path=\"url(#clip112)\" cx=\"1177.75\" cy=\"1282.88\" r=\"14\" fill=\"#009af9\" fill-rule=\"evenodd\" fill-opacity=\"1\" stroke=\"#000000\" stroke-opacity=\"1\" stroke-width=\"3.2\"/>\n",
       "<circle clip-path=\"url(#clip112)\" cx=\"1182.14\" cy=\"1276.78\" r=\"14\" fill=\"#009af9\" fill-rule=\"evenodd\" fill-opacity=\"1\" stroke=\"#000000\" stroke-opacity=\"1\" stroke-width=\"3.2\"/>\n",
       "<circle clip-path=\"url(#clip112)\" cx=\"1186.54\" cy=\"1271.35\" r=\"14\" fill=\"#009af9\" fill-rule=\"evenodd\" fill-opacity=\"1\" stroke=\"#000000\" stroke-opacity=\"1\" stroke-width=\"3.2\"/>\n",
       "<circle clip-path=\"url(#clip112)\" cx=\"1190.93\" cy=\"1267.56\" r=\"14\" fill=\"#009af9\" fill-rule=\"evenodd\" fill-opacity=\"1\" stroke=\"#000000\" stroke-opacity=\"1\" stroke-width=\"3.2\"/>\n",
       "<circle clip-path=\"url(#clip112)\" cx=\"1195.33\" cy=\"1261.85\" r=\"14\" fill=\"#009af9\" fill-rule=\"evenodd\" fill-opacity=\"1\" stroke=\"#000000\" stroke-opacity=\"1\" stroke-width=\"3.2\"/>\n",
       "<circle clip-path=\"url(#clip112)\" cx=\"1199.72\" cy=\"1255.47\" r=\"14\" fill=\"#009af9\" fill-rule=\"evenodd\" fill-opacity=\"1\" stroke=\"#000000\" stroke-opacity=\"1\" stroke-width=\"3.2\"/>\n",
       "<circle clip-path=\"url(#clip112)\" cx=\"1204.12\" cy=\"1250.42\" r=\"14\" fill=\"#009af9\" fill-rule=\"evenodd\" fill-opacity=\"1\" stroke=\"#000000\" stroke-opacity=\"1\" stroke-width=\"3.2\"/>\n",
       "<circle clip-path=\"url(#clip112)\" cx=\"1208.51\" cy=\"1245.28\" r=\"14\" fill=\"#009af9\" fill-rule=\"evenodd\" fill-opacity=\"1\" stroke=\"#000000\" stroke-opacity=\"1\" stroke-width=\"3.2\"/>\n",
       "<circle clip-path=\"url(#clip112)\" cx=\"1212.9\" cy=\"1239.64\" r=\"14\" fill=\"#009af9\" fill-rule=\"evenodd\" fill-opacity=\"1\" stroke=\"#000000\" stroke-opacity=\"1\" stroke-width=\"3.2\"/>\n",
       "<circle clip-path=\"url(#clip112)\" cx=\"1217.3\" cy=\"1234.25\" r=\"14\" fill=\"#009af9\" fill-rule=\"evenodd\" fill-opacity=\"1\" stroke=\"#000000\" stroke-opacity=\"1\" stroke-width=\"3.2\"/>\n",
       "<circle clip-path=\"url(#clip112)\" cx=\"1221.69\" cy=\"1227.42\" r=\"14\" fill=\"#009af9\" fill-rule=\"evenodd\" fill-opacity=\"1\" stroke=\"#000000\" stroke-opacity=\"1\" stroke-width=\"3.2\"/>\n",
       "<circle clip-path=\"url(#clip112)\" cx=\"1226.09\" cy=\"1221.01\" r=\"14\" fill=\"#009af9\" fill-rule=\"evenodd\" fill-opacity=\"1\" stroke=\"#000000\" stroke-opacity=\"1\" stroke-width=\"3.2\"/>\n",
       "<circle clip-path=\"url(#clip112)\" cx=\"1230.48\" cy=\"1215\" r=\"14\" fill=\"#009af9\" fill-rule=\"evenodd\" fill-opacity=\"1\" stroke=\"#000000\" stroke-opacity=\"1\" stroke-width=\"3.2\"/>\n",
       "<circle clip-path=\"url(#clip112)\" cx=\"1234.88\" cy=\"1208.99\" r=\"14\" fill=\"#009af9\" fill-rule=\"evenodd\" fill-opacity=\"1\" stroke=\"#000000\" stroke-opacity=\"1\" stroke-width=\"3.2\"/>\n",
       "<circle clip-path=\"url(#clip112)\" cx=\"1239.27\" cy=\"1202.83\" r=\"14\" fill=\"#009af9\" fill-rule=\"evenodd\" fill-opacity=\"1\" stroke=\"#000000\" stroke-opacity=\"1\" stroke-width=\"3.2\"/>\n",
       "<circle clip-path=\"url(#clip112)\" cx=\"1243.67\" cy=\"1196.64\" r=\"14\" fill=\"#009af9\" fill-rule=\"evenodd\" fill-opacity=\"1\" stroke=\"#000000\" stroke-opacity=\"1\" stroke-width=\"3.2\"/>\n",
       "<circle clip-path=\"url(#clip112)\" cx=\"1248.06\" cy=\"1192.21\" r=\"14\" fill=\"#009af9\" fill-rule=\"evenodd\" fill-opacity=\"1\" stroke=\"#000000\" stroke-opacity=\"1\" stroke-width=\"3.2\"/>\n",
       "<circle clip-path=\"url(#clip112)\" cx=\"1252.46\" cy=\"1185.58\" r=\"14\" fill=\"#009af9\" fill-rule=\"evenodd\" fill-opacity=\"1\" stroke=\"#000000\" stroke-opacity=\"1\" stroke-width=\"3.2\"/>\n",
       "<circle clip-path=\"url(#clip112)\" cx=\"1256.85\" cy=\"1178.64\" r=\"14\" fill=\"#009af9\" fill-rule=\"evenodd\" fill-opacity=\"1\" stroke=\"#000000\" stroke-opacity=\"1\" stroke-width=\"3.2\"/>\n",
       "<circle clip-path=\"url(#clip112)\" cx=\"1261.24\" cy=\"1172.5\" r=\"14\" fill=\"#009af9\" fill-rule=\"evenodd\" fill-opacity=\"1\" stroke=\"#000000\" stroke-opacity=\"1\" stroke-width=\"3.2\"/>\n",
       "<circle clip-path=\"url(#clip112)\" cx=\"1265.64\" cy=\"1168.02\" r=\"14\" fill=\"#009af9\" fill-rule=\"evenodd\" fill-opacity=\"1\" stroke=\"#000000\" stroke-opacity=\"1\" stroke-width=\"3.2\"/>\n",
       "<circle clip-path=\"url(#clip112)\" cx=\"1270.03\" cy=\"1162.19\" r=\"14\" fill=\"#009af9\" fill-rule=\"evenodd\" fill-opacity=\"1\" stroke=\"#000000\" stroke-opacity=\"1\" stroke-width=\"3.2\"/>\n",
       "<circle clip-path=\"url(#clip112)\" cx=\"1274.43\" cy=\"1157.92\" r=\"14\" fill=\"#009af9\" fill-rule=\"evenodd\" fill-opacity=\"1\" stroke=\"#000000\" stroke-opacity=\"1\" stroke-width=\"3.2\"/>\n",
       "<circle clip-path=\"url(#clip112)\" cx=\"1278.82\" cy=\"1152.31\" r=\"14\" fill=\"#009af9\" fill-rule=\"evenodd\" fill-opacity=\"1\" stroke=\"#000000\" stroke-opacity=\"1\" stroke-width=\"3.2\"/>\n",
       "<circle clip-path=\"url(#clip112)\" cx=\"1283.22\" cy=\"1146.76\" r=\"14\" fill=\"#009af9\" fill-rule=\"evenodd\" fill-opacity=\"1\" stroke=\"#000000\" stroke-opacity=\"1\" stroke-width=\"3.2\"/>\n",
       "<circle clip-path=\"url(#clip112)\" cx=\"1287.61\" cy=\"1141.38\" r=\"14\" fill=\"#009af9\" fill-rule=\"evenodd\" fill-opacity=\"1\" stroke=\"#000000\" stroke-opacity=\"1\" stroke-width=\"3.2\"/>\n",
       "<circle clip-path=\"url(#clip112)\" cx=\"1292.01\" cy=\"1136.19\" r=\"14\" fill=\"#009af9\" fill-rule=\"evenodd\" fill-opacity=\"1\" stroke=\"#000000\" stroke-opacity=\"1\" stroke-width=\"3.2\"/>\n",
       "<circle clip-path=\"url(#clip112)\" cx=\"1296.4\" cy=\"1131.67\" r=\"14\" fill=\"#009af9\" fill-rule=\"evenodd\" fill-opacity=\"1\" stroke=\"#000000\" stroke-opacity=\"1\" stroke-width=\"3.2\"/>\n",
       "<circle clip-path=\"url(#clip112)\" cx=\"1300.8\" cy=\"1126.68\" r=\"14\" fill=\"#009af9\" fill-rule=\"evenodd\" fill-opacity=\"1\" stroke=\"#000000\" stroke-opacity=\"1\" stroke-width=\"3.2\"/>\n",
       "<circle clip-path=\"url(#clip112)\" cx=\"1305.19\" cy=\"1122.41\" r=\"14\" fill=\"#009af9\" fill-rule=\"evenodd\" fill-opacity=\"1\" stroke=\"#000000\" stroke-opacity=\"1\" stroke-width=\"3.2\"/>\n",
       "<circle clip-path=\"url(#clip112)\" cx=\"1309.58\" cy=\"1118.59\" r=\"14\" fill=\"#009af9\" fill-rule=\"evenodd\" fill-opacity=\"1\" stroke=\"#000000\" stroke-opacity=\"1\" stroke-width=\"3.2\"/>\n",
       "<circle clip-path=\"url(#clip112)\" cx=\"1313.98\" cy=\"1113.84\" r=\"14\" fill=\"#009af9\" fill-rule=\"evenodd\" fill-opacity=\"1\" stroke=\"#000000\" stroke-opacity=\"1\" stroke-width=\"3.2\"/>\n",
       "<circle clip-path=\"url(#clip112)\" cx=\"1318.37\" cy=\"1108.89\" r=\"14\" fill=\"#009af9\" fill-rule=\"evenodd\" fill-opacity=\"1\" stroke=\"#000000\" stroke-opacity=\"1\" stroke-width=\"3.2\"/>\n",
       "<circle clip-path=\"url(#clip112)\" cx=\"1322.77\" cy=\"1104.5\" r=\"14\" fill=\"#009af9\" fill-rule=\"evenodd\" fill-opacity=\"1\" stroke=\"#000000\" stroke-opacity=\"1\" stroke-width=\"3.2\"/>\n",
       "<circle clip-path=\"url(#clip112)\" cx=\"1327.16\" cy=\"1099.99\" r=\"14\" fill=\"#009af9\" fill-rule=\"evenodd\" fill-opacity=\"1\" stroke=\"#000000\" stroke-opacity=\"1\" stroke-width=\"3.2\"/>\n",
       "<circle clip-path=\"url(#clip112)\" cx=\"1331.56\" cy=\"1095.53\" r=\"14\" fill=\"#009af9\" fill-rule=\"evenodd\" fill-opacity=\"1\" stroke=\"#000000\" stroke-opacity=\"1\" stroke-width=\"3.2\"/>\n",
       "<circle clip-path=\"url(#clip112)\" cx=\"1335.95\" cy=\"1091.24\" r=\"14\" fill=\"#009af9\" fill-rule=\"evenodd\" fill-opacity=\"1\" stroke=\"#000000\" stroke-opacity=\"1\" stroke-width=\"3.2\"/>\n",
       "<circle clip-path=\"url(#clip112)\" cx=\"1340.35\" cy=\"1088.4\" r=\"14\" fill=\"#009af9\" fill-rule=\"evenodd\" fill-opacity=\"1\" stroke=\"#000000\" stroke-opacity=\"1\" stroke-width=\"3.2\"/>\n",
       "<circle clip-path=\"url(#clip112)\" cx=\"1344.74\" cy=\"1084.33\" r=\"14\" fill=\"#009af9\" fill-rule=\"evenodd\" fill-opacity=\"1\" stroke=\"#000000\" stroke-opacity=\"1\" stroke-width=\"3.2\"/>\n",
       "<circle clip-path=\"url(#clip112)\" cx=\"1349.13\" cy=\"1080.42\" r=\"14\" fill=\"#009af9\" fill-rule=\"evenodd\" fill-opacity=\"1\" stroke=\"#000000\" stroke-opacity=\"1\" stroke-width=\"3.2\"/>\n",
       "<circle clip-path=\"url(#clip112)\" cx=\"1353.53\" cy=\"1076.27\" r=\"14\" fill=\"#009af9\" fill-rule=\"evenodd\" fill-opacity=\"1\" stroke=\"#000000\" stroke-opacity=\"1\" stroke-width=\"3.2\"/>\n",
       "<circle clip-path=\"url(#clip112)\" cx=\"1357.92\" cy=\"1072.32\" r=\"14\" fill=\"#009af9\" fill-rule=\"evenodd\" fill-opacity=\"1\" stroke=\"#000000\" stroke-opacity=\"1\" stroke-width=\"3.2\"/>\n",
       "<circle clip-path=\"url(#clip112)\" cx=\"1362.32\" cy=\"1068.66\" r=\"14\" fill=\"#009af9\" fill-rule=\"evenodd\" fill-opacity=\"1\" stroke=\"#000000\" stroke-opacity=\"1\" stroke-width=\"3.2\"/>\n",
       "<circle clip-path=\"url(#clip112)\" cx=\"1366.71\" cy=\"1064.75\" r=\"14\" fill=\"#009af9\" fill-rule=\"evenodd\" fill-opacity=\"1\" stroke=\"#000000\" stroke-opacity=\"1\" stroke-width=\"3.2\"/>\n",
       "<circle clip-path=\"url(#clip112)\" cx=\"1371.11\" cy=\"1061.79\" r=\"14\" fill=\"#009af9\" fill-rule=\"evenodd\" fill-opacity=\"1\" stroke=\"#000000\" stroke-opacity=\"1\" stroke-width=\"3.2\"/>\n",
       "<circle clip-path=\"url(#clip112)\" cx=\"1375.5\" cy=\"1058.23\" r=\"14\" fill=\"#009af9\" fill-rule=\"evenodd\" fill-opacity=\"1\" stroke=\"#000000\" stroke-opacity=\"1\" stroke-width=\"3.2\"/>\n",
       "<circle clip-path=\"url(#clip112)\" cx=\"1379.9\" cy=\"1054.09\" r=\"14\" fill=\"#009af9\" fill-rule=\"evenodd\" fill-opacity=\"1\" stroke=\"#000000\" stroke-opacity=\"1\" stroke-width=\"3.2\"/>\n",
       "<circle clip-path=\"url(#clip112)\" cx=\"1384.29\" cy=\"1050.06\" r=\"14\" fill=\"#009af9\" fill-rule=\"evenodd\" fill-opacity=\"1\" stroke=\"#000000\" stroke-opacity=\"1\" stroke-width=\"3.2\"/>\n",
       "<circle clip-path=\"url(#clip112)\" cx=\"1388.69\" cy=\"1046.59\" r=\"14\" fill=\"#009af9\" fill-rule=\"evenodd\" fill-opacity=\"1\" stroke=\"#000000\" stroke-opacity=\"1\" stroke-width=\"3.2\"/>\n",
       "<circle clip-path=\"url(#clip112)\" cx=\"1393.08\" cy=\"1042.37\" r=\"14\" fill=\"#009af9\" fill-rule=\"evenodd\" fill-opacity=\"1\" stroke=\"#000000\" stroke-opacity=\"1\" stroke-width=\"3.2\"/>\n",
       "<circle clip-path=\"url(#clip112)\" cx=\"1397.47\" cy=\"1038.82\" r=\"14\" fill=\"#009af9\" fill-rule=\"evenodd\" fill-opacity=\"1\" stroke=\"#000000\" stroke-opacity=\"1\" stroke-width=\"3.2\"/>\n",
       "<circle clip-path=\"url(#clip112)\" cx=\"1401.87\" cy=\"1035.97\" r=\"14\" fill=\"#009af9\" fill-rule=\"evenodd\" fill-opacity=\"1\" stroke=\"#000000\" stroke-opacity=\"1\" stroke-width=\"3.2\"/>\n",
       "<circle clip-path=\"url(#clip112)\" cx=\"1406.26\" cy=\"1032.19\" r=\"14\" fill=\"#009af9\" fill-rule=\"evenodd\" fill-opacity=\"1\" stroke=\"#000000\" stroke-opacity=\"1\" stroke-width=\"3.2\"/>\n",
       "<circle clip-path=\"url(#clip112)\" cx=\"1410.66\" cy=\"1028.62\" r=\"14\" fill=\"#009af9\" fill-rule=\"evenodd\" fill-opacity=\"1\" stroke=\"#000000\" stroke-opacity=\"1\" stroke-width=\"3.2\"/>\n",
       "<circle clip-path=\"url(#clip112)\" cx=\"1415.05\" cy=\"1025.13\" r=\"14\" fill=\"#009af9\" fill-rule=\"evenodd\" fill-opacity=\"1\" stroke=\"#000000\" stroke-opacity=\"1\" stroke-width=\"3.2\"/>\n",
       "<circle clip-path=\"url(#clip112)\" cx=\"1419.45\" cy=\"1021.14\" r=\"14\" fill=\"#009af9\" fill-rule=\"evenodd\" fill-opacity=\"1\" stroke=\"#000000\" stroke-opacity=\"1\" stroke-width=\"3.2\"/>\n",
       "<circle clip-path=\"url(#clip112)\" cx=\"1423.84\" cy=\"1017.04\" r=\"14\" fill=\"#009af9\" fill-rule=\"evenodd\" fill-opacity=\"1\" stroke=\"#000000\" stroke-opacity=\"1\" stroke-width=\"3.2\"/>\n",
       "<circle clip-path=\"url(#clip112)\" cx=\"1428.24\" cy=\"1013.3\" r=\"14\" fill=\"#009af9\" fill-rule=\"evenodd\" fill-opacity=\"1\" stroke=\"#000000\" stroke-opacity=\"1\" stroke-width=\"3.2\"/>\n",
       "<circle clip-path=\"url(#clip112)\" cx=\"1432.63\" cy=\"1010.57\" r=\"14\" fill=\"#009af9\" fill-rule=\"evenodd\" fill-opacity=\"1\" stroke=\"#000000\" stroke-opacity=\"1\" stroke-width=\"3.2\"/>\n",
       "<circle clip-path=\"url(#clip112)\" cx=\"1437.03\" cy=\"1007.46\" r=\"14\" fill=\"#009af9\" fill-rule=\"evenodd\" fill-opacity=\"1\" stroke=\"#000000\" stroke-opacity=\"1\" stroke-width=\"3.2\"/>\n",
       "<circle clip-path=\"url(#clip112)\" cx=\"1441.42\" cy=\"1004.46\" r=\"14\" fill=\"#009af9\" fill-rule=\"evenodd\" fill-opacity=\"1\" stroke=\"#000000\" stroke-opacity=\"1\" stroke-width=\"3.2\"/>\n",
       "<circle clip-path=\"url(#clip112)\" cx=\"1445.81\" cy=\"1001.45\" r=\"14\" fill=\"#009af9\" fill-rule=\"evenodd\" fill-opacity=\"1\" stroke=\"#000000\" stroke-opacity=\"1\" stroke-width=\"3.2\"/>\n",
       "<circle clip-path=\"url(#clip112)\" cx=\"1450.21\" cy=\"998.16\" r=\"14\" fill=\"#009af9\" fill-rule=\"evenodd\" fill-opacity=\"1\" stroke=\"#000000\" stroke-opacity=\"1\" stroke-width=\"3.2\"/>\n",
       "<circle clip-path=\"url(#clip112)\" cx=\"1454.6\" cy=\"994.642\" r=\"14\" fill=\"#009af9\" fill-rule=\"evenodd\" fill-opacity=\"1\" stroke=\"#000000\" stroke-opacity=\"1\" stroke-width=\"3.2\"/>\n",
       "<circle clip-path=\"url(#clip112)\" cx=\"1459\" cy=\"990.97\" r=\"14\" fill=\"#009af9\" fill-rule=\"evenodd\" fill-opacity=\"1\" stroke=\"#000000\" stroke-opacity=\"1\" stroke-width=\"3.2\"/>\n",
       "<circle clip-path=\"url(#clip112)\" cx=\"1463.39\" cy=\"987.191\" r=\"14\" fill=\"#009af9\" fill-rule=\"evenodd\" fill-opacity=\"1\" stroke=\"#000000\" stroke-opacity=\"1\" stroke-width=\"3.2\"/>\n",
       "<circle clip-path=\"url(#clip112)\" cx=\"1467.79\" cy=\"983.122\" r=\"14\" fill=\"#009af9\" fill-rule=\"evenodd\" fill-opacity=\"1\" stroke=\"#000000\" stroke-opacity=\"1\" stroke-width=\"3.2\"/>\n",
       "<circle clip-path=\"url(#clip112)\" cx=\"1472.18\" cy=\"978.933\" r=\"14\" fill=\"#009af9\" fill-rule=\"evenodd\" fill-opacity=\"1\" stroke=\"#000000\" stroke-opacity=\"1\" stroke-width=\"3.2\"/>\n",
       "<circle clip-path=\"url(#clip112)\" cx=\"1476.58\" cy=\"974.415\" r=\"14\" fill=\"#009af9\" fill-rule=\"evenodd\" fill-opacity=\"1\" stroke=\"#000000\" stroke-opacity=\"1\" stroke-width=\"3.2\"/>\n",
       "<circle clip-path=\"url(#clip112)\" cx=\"1480.97\" cy=\"970.096\" r=\"14\" fill=\"#009af9\" fill-rule=\"evenodd\" fill-opacity=\"1\" stroke=\"#000000\" stroke-opacity=\"1\" stroke-width=\"3.2\"/>\n",
       "<circle clip-path=\"url(#clip112)\" cx=\"1485.37\" cy=\"965.604\" r=\"14\" fill=\"#009af9\" fill-rule=\"evenodd\" fill-opacity=\"1\" stroke=\"#000000\" stroke-opacity=\"1\" stroke-width=\"3.2\"/>\n",
       "<circle clip-path=\"url(#clip112)\" cx=\"1489.76\" cy=\"961.047\" r=\"14\" fill=\"#009af9\" fill-rule=\"evenodd\" fill-opacity=\"1\" stroke=\"#000000\" stroke-opacity=\"1\" stroke-width=\"3.2\"/>\n",
       "<circle clip-path=\"url(#clip112)\" cx=\"1494.15\" cy=\"956.915\" r=\"14\" fill=\"#009af9\" fill-rule=\"evenodd\" fill-opacity=\"1\" stroke=\"#000000\" stroke-opacity=\"1\" stroke-width=\"3.2\"/>\n",
       "<circle clip-path=\"url(#clip112)\" cx=\"1498.55\" cy=\"954.249\" r=\"14\" fill=\"#009af9\" fill-rule=\"evenodd\" fill-opacity=\"1\" stroke=\"#000000\" stroke-opacity=\"1\" stroke-width=\"3.2\"/>\n",
       "<circle clip-path=\"url(#clip112)\" cx=\"1502.94\" cy=\"951.025\" r=\"14\" fill=\"#009af9\" fill-rule=\"evenodd\" fill-opacity=\"1\" stroke=\"#000000\" stroke-opacity=\"1\" stroke-width=\"3.2\"/>\n",
       "<circle clip-path=\"url(#clip112)\" cx=\"1507.34\" cy=\"947.397\" r=\"14\" fill=\"#009af9\" fill-rule=\"evenodd\" fill-opacity=\"1\" stroke=\"#000000\" stroke-opacity=\"1\" stroke-width=\"3.2\"/>\n",
       "<circle clip-path=\"url(#clip112)\" cx=\"1511.73\" cy=\"942.944\" r=\"14\" fill=\"#009af9\" fill-rule=\"evenodd\" fill-opacity=\"1\" stroke=\"#000000\" stroke-opacity=\"1\" stroke-width=\"3.2\"/>\n",
       "<circle clip-path=\"url(#clip112)\" cx=\"1516.13\" cy=\"939.212\" r=\"14\" fill=\"#009af9\" fill-rule=\"evenodd\" fill-opacity=\"1\" stroke=\"#000000\" stroke-opacity=\"1\" stroke-width=\"3.2\"/>\n",
       "<circle clip-path=\"url(#clip112)\" cx=\"1520.52\" cy=\"935.382\" r=\"14\" fill=\"#009af9\" fill-rule=\"evenodd\" fill-opacity=\"1\" stroke=\"#000000\" stroke-opacity=\"1\" stroke-width=\"3.2\"/>\n",
       "<circle clip-path=\"url(#clip112)\" cx=\"1524.92\" cy=\"932.026\" r=\"14\" fill=\"#009af9\" fill-rule=\"evenodd\" fill-opacity=\"1\" stroke=\"#000000\" stroke-opacity=\"1\" stroke-width=\"3.2\"/>\n",
       "<circle clip-path=\"url(#clip112)\" cx=\"1529.31\" cy=\"927.635\" r=\"14\" fill=\"#009af9\" fill-rule=\"evenodd\" fill-opacity=\"1\" stroke=\"#000000\" stroke-opacity=\"1\" stroke-width=\"3.2\"/>\n",
       "<circle clip-path=\"url(#clip112)\" cx=\"1533.7\" cy=\"923.614\" r=\"14\" fill=\"#009af9\" fill-rule=\"evenodd\" fill-opacity=\"1\" stroke=\"#000000\" stroke-opacity=\"1\" stroke-width=\"3.2\"/>\n",
       "<circle clip-path=\"url(#clip112)\" cx=\"1538.1\" cy=\"919.001\" r=\"14\" fill=\"#009af9\" fill-rule=\"evenodd\" fill-opacity=\"1\" stroke=\"#000000\" stroke-opacity=\"1\" stroke-width=\"3.2\"/>\n",
       "<circle clip-path=\"url(#clip112)\" cx=\"1542.49\" cy=\"914.444\" r=\"14\" fill=\"#009af9\" fill-rule=\"evenodd\" fill-opacity=\"1\" stroke=\"#000000\" stroke-opacity=\"1\" stroke-width=\"3.2\"/>\n",
       "<circle clip-path=\"url(#clip112)\" cx=\"1546.89\" cy=\"909.78\" r=\"14\" fill=\"#009af9\" fill-rule=\"evenodd\" fill-opacity=\"1\" stroke=\"#000000\" stroke-opacity=\"1\" stroke-width=\"3.2\"/>\n",
       "<circle clip-path=\"url(#clip112)\" cx=\"1551.28\" cy=\"905.433\" r=\"14\" fill=\"#009af9\" fill-rule=\"evenodd\" fill-opacity=\"1\" stroke=\"#000000\" stroke-opacity=\"1\" stroke-width=\"3.2\"/>\n",
       "<circle clip-path=\"url(#clip112)\" cx=\"1555.68\" cy=\"900.558\" r=\"14\" fill=\"#009af9\" fill-rule=\"evenodd\" fill-opacity=\"1\" stroke=\"#000000\" stroke-opacity=\"1\" stroke-width=\"3.2\"/>\n",
       "<circle clip-path=\"url(#clip112)\" cx=\"1560.07\" cy=\"896.215\" r=\"14\" fill=\"#009af9\" fill-rule=\"evenodd\" fill-opacity=\"1\" stroke=\"#000000\" stroke-opacity=\"1\" stroke-width=\"3.2\"/>\n",
       "<circle clip-path=\"url(#clip112)\" cx=\"1564.47\" cy=\"891.579\" r=\"14\" fill=\"#009af9\" fill-rule=\"evenodd\" fill-opacity=\"1\" stroke=\"#000000\" stroke-opacity=\"1\" stroke-width=\"3.2\"/>\n",
       "<circle clip-path=\"url(#clip112)\" cx=\"1568.86\" cy=\"885.629\" r=\"14\" fill=\"#009af9\" fill-rule=\"evenodd\" fill-opacity=\"1\" stroke=\"#000000\" stroke-opacity=\"1\" stroke-width=\"3.2\"/>\n",
       "<circle clip-path=\"url(#clip112)\" cx=\"1573.26\" cy=\"880.296\" r=\"14\" fill=\"#009af9\" fill-rule=\"evenodd\" fill-opacity=\"1\" stroke=\"#000000\" stroke-opacity=\"1\" stroke-width=\"3.2\"/>\n",
       "<circle clip-path=\"url(#clip112)\" cx=\"1577.65\" cy=\"874.428\" r=\"14\" fill=\"#009af9\" fill-rule=\"evenodd\" fill-opacity=\"1\" stroke=\"#000000\" stroke-opacity=\"1\" stroke-width=\"3.2\"/>\n",
       "<circle clip-path=\"url(#clip112)\" cx=\"1582.04\" cy=\"869.568\" r=\"14\" fill=\"#009af9\" fill-rule=\"evenodd\" fill-opacity=\"1\" stroke=\"#000000\" stroke-opacity=\"1\" stroke-width=\"3.2\"/>\n",
       "<circle clip-path=\"url(#clip112)\" cx=\"1586.44\" cy=\"864.285\" r=\"14\" fill=\"#009af9\" fill-rule=\"evenodd\" fill-opacity=\"1\" stroke=\"#000000\" stroke-opacity=\"1\" stroke-width=\"3.2\"/>\n",
       "<circle clip-path=\"url(#clip112)\" cx=\"1590.83\" cy=\"861.021\" r=\"14\" fill=\"#009af9\" fill-rule=\"evenodd\" fill-opacity=\"1\" stroke=\"#000000\" stroke-opacity=\"1\" stroke-width=\"3.2\"/>\n",
       "<circle clip-path=\"url(#clip112)\" cx=\"1595.23\" cy=\"856.398\" r=\"14\" fill=\"#009af9\" fill-rule=\"evenodd\" fill-opacity=\"1\" stroke=\"#000000\" stroke-opacity=\"1\" stroke-width=\"3.2\"/>\n",
       "<circle clip-path=\"url(#clip112)\" cx=\"1599.62\" cy=\"851.137\" r=\"14\" fill=\"#009af9\" fill-rule=\"evenodd\" fill-opacity=\"1\" stroke=\"#000000\" stroke-opacity=\"1\" stroke-width=\"3.2\"/>\n",
       "<circle clip-path=\"url(#clip112)\" cx=\"1604.02\" cy=\"845.949\" r=\"14\" fill=\"#009af9\" fill-rule=\"evenodd\" fill-opacity=\"1\" stroke=\"#000000\" stroke-opacity=\"1\" stroke-width=\"3.2\"/>\n",
       "<circle clip-path=\"url(#clip112)\" cx=\"1608.41\" cy=\"841.314\" r=\"14\" fill=\"#009af9\" fill-rule=\"evenodd\" fill-opacity=\"1\" stroke=\"#000000\" stroke-opacity=\"1\" stroke-width=\"3.2\"/>\n",
       "<circle clip-path=\"url(#clip112)\" cx=\"1612.81\" cy=\"837.357\" r=\"14\" fill=\"#009af9\" fill-rule=\"evenodd\" fill-opacity=\"1\" stroke=\"#000000\" stroke-opacity=\"1\" stroke-width=\"3.2\"/>\n",
       "<circle clip-path=\"url(#clip112)\" cx=\"1617.2\" cy=\"834.604\" r=\"14\" fill=\"#009af9\" fill-rule=\"evenodd\" fill-opacity=\"1\" stroke=\"#000000\" stroke-opacity=\"1\" stroke-width=\"3.2\"/>\n",
       "<circle clip-path=\"url(#clip112)\" cx=\"1621.6\" cy=\"831.258\" r=\"14\" fill=\"#009af9\" fill-rule=\"evenodd\" fill-opacity=\"1\" stroke=\"#000000\" stroke-opacity=\"1\" stroke-width=\"3.2\"/>\n",
       "<circle clip-path=\"url(#clip112)\" cx=\"1625.99\" cy=\"825.955\" r=\"14\" fill=\"#009af9\" fill-rule=\"evenodd\" fill-opacity=\"1\" stroke=\"#000000\" stroke-opacity=\"1\" stroke-width=\"3.2\"/>\n",
       "<circle clip-path=\"url(#clip112)\" cx=\"1630.38\" cy=\"821.336\" r=\"14\" fill=\"#009af9\" fill-rule=\"evenodd\" fill-opacity=\"1\" stroke=\"#000000\" stroke-opacity=\"1\" stroke-width=\"3.2\"/>\n",
       "<circle clip-path=\"url(#clip112)\" cx=\"1634.78\" cy=\"816.717\" r=\"14\" fill=\"#009af9\" fill-rule=\"evenodd\" fill-opacity=\"1\" stroke=\"#000000\" stroke-opacity=\"1\" stroke-width=\"3.2\"/>\n",
       "<circle clip-path=\"url(#clip112)\" cx=\"1639.17\" cy=\"811.964\" r=\"14\" fill=\"#009af9\" fill-rule=\"evenodd\" fill-opacity=\"1\" stroke=\"#000000\" stroke-opacity=\"1\" stroke-width=\"3.2\"/>\n",
       "<circle clip-path=\"url(#clip112)\" cx=\"1643.57\" cy=\"808.181\" r=\"14\" fill=\"#009af9\" fill-rule=\"evenodd\" fill-opacity=\"1\" stroke=\"#000000\" stroke-opacity=\"1\" stroke-width=\"3.2\"/>\n",
       "<circle clip-path=\"url(#clip112)\" cx=\"1647.96\" cy=\"804.74\" r=\"14\" fill=\"#009af9\" fill-rule=\"evenodd\" fill-opacity=\"1\" stroke=\"#000000\" stroke-opacity=\"1\" stroke-width=\"3.2\"/>\n",
       "<circle clip-path=\"url(#clip112)\" cx=\"1652.36\" cy=\"801.596\" r=\"14\" fill=\"#009af9\" fill-rule=\"evenodd\" fill-opacity=\"1\" stroke=\"#000000\" stroke-opacity=\"1\" stroke-width=\"3.2\"/>\n",
       "<circle clip-path=\"url(#clip112)\" cx=\"1656.75\" cy=\"797.94\" r=\"14\" fill=\"#009af9\" fill-rule=\"evenodd\" fill-opacity=\"1\" stroke=\"#000000\" stroke-opacity=\"1\" stroke-width=\"3.2\"/>\n",
       "<circle clip-path=\"url(#clip112)\" cx=\"1661.15\" cy=\"793.958\" r=\"14\" fill=\"#009af9\" fill-rule=\"evenodd\" fill-opacity=\"1\" stroke=\"#000000\" stroke-opacity=\"1\" stroke-width=\"3.2\"/>\n",
       "<circle clip-path=\"url(#clip112)\" cx=\"1665.54\" cy=\"789.728\" r=\"14\" fill=\"#009af9\" fill-rule=\"evenodd\" fill-opacity=\"1\" stroke=\"#000000\" stroke-opacity=\"1\" stroke-width=\"3.2\"/>\n",
       "<circle clip-path=\"url(#clip112)\" cx=\"1669.94\" cy=\"785.979\" r=\"14\" fill=\"#009af9\" fill-rule=\"evenodd\" fill-opacity=\"1\" stroke=\"#000000\" stroke-opacity=\"1\" stroke-width=\"3.2\"/>\n",
       "<circle clip-path=\"url(#clip112)\" cx=\"1674.33\" cy=\"781.765\" r=\"14\" fill=\"#009af9\" fill-rule=\"evenodd\" fill-opacity=\"1\" stroke=\"#000000\" stroke-opacity=\"1\" stroke-width=\"3.2\"/>\n",
       "<circle clip-path=\"url(#clip112)\" cx=\"1678.72\" cy=\"778.275\" r=\"14\" fill=\"#009af9\" fill-rule=\"evenodd\" fill-opacity=\"1\" stroke=\"#000000\" stroke-opacity=\"1\" stroke-width=\"3.2\"/>\n",
       "<circle clip-path=\"url(#clip112)\" cx=\"1683.12\" cy=\"774.278\" r=\"14\" fill=\"#009af9\" fill-rule=\"evenodd\" fill-opacity=\"1\" stroke=\"#000000\" stroke-opacity=\"1\" stroke-width=\"3.2\"/>\n",
       "<circle clip-path=\"url(#clip112)\" cx=\"1687.51\" cy=\"769.759\" r=\"14\" fill=\"#009af9\" fill-rule=\"evenodd\" fill-opacity=\"1\" stroke=\"#000000\" stroke-opacity=\"1\" stroke-width=\"3.2\"/>\n",
       "<circle clip-path=\"url(#clip112)\" cx=\"1691.91\" cy=\"764.709\" r=\"14\" fill=\"#009af9\" fill-rule=\"evenodd\" fill-opacity=\"1\" stroke=\"#000000\" stroke-opacity=\"1\" stroke-width=\"3.2\"/>\n",
       "<circle clip-path=\"url(#clip112)\" cx=\"1696.3\" cy=\"759.378\" r=\"14\" fill=\"#009af9\" fill-rule=\"evenodd\" fill-opacity=\"1\" stroke=\"#000000\" stroke-opacity=\"1\" stroke-width=\"3.2\"/>\n",
       "<circle clip-path=\"url(#clip112)\" cx=\"1700.7\" cy=\"754.537\" r=\"14\" fill=\"#009af9\" fill-rule=\"evenodd\" fill-opacity=\"1\" stroke=\"#000000\" stroke-opacity=\"1\" stroke-width=\"3.2\"/>\n",
       "<circle clip-path=\"url(#clip112)\" cx=\"1705.09\" cy=\"749.876\" r=\"14\" fill=\"#009af9\" fill-rule=\"evenodd\" fill-opacity=\"1\" stroke=\"#000000\" stroke-opacity=\"1\" stroke-width=\"3.2\"/>\n",
       "<circle clip-path=\"url(#clip112)\" cx=\"1709.49\" cy=\"745.393\" r=\"14\" fill=\"#009af9\" fill-rule=\"evenodd\" fill-opacity=\"1\" stroke=\"#000000\" stroke-opacity=\"1\" stroke-width=\"3.2\"/>\n",
       "<circle clip-path=\"url(#clip112)\" cx=\"1713.88\" cy=\"741.146\" r=\"14\" fill=\"#009af9\" fill-rule=\"evenodd\" fill-opacity=\"1\" stroke=\"#000000\" stroke-opacity=\"1\" stroke-width=\"3.2\"/>\n",
       "<circle clip-path=\"url(#clip112)\" cx=\"1718.27\" cy=\"736.201\" r=\"14\" fill=\"#009af9\" fill-rule=\"evenodd\" fill-opacity=\"1\" stroke=\"#000000\" stroke-opacity=\"1\" stroke-width=\"3.2\"/>\n",
       "<circle clip-path=\"url(#clip112)\" cx=\"1722.67\" cy=\"731.291\" r=\"14\" fill=\"#009af9\" fill-rule=\"evenodd\" fill-opacity=\"1\" stroke=\"#000000\" stroke-opacity=\"1\" stroke-width=\"3.2\"/>\n",
       "<circle clip-path=\"url(#clip112)\" cx=\"1727.06\" cy=\"726.353\" r=\"14\" fill=\"#009af9\" fill-rule=\"evenodd\" fill-opacity=\"1\" stroke=\"#000000\" stroke-opacity=\"1\" stroke-width=\"3.2\"/>\n",
       "<circle clip-path=\"url(#clip112)\" cx=\"1731.46\" cy=\"721.225\" r=\"14\" fill=\"#009af9\" fill-rule=\"evenodd\" fill-opacity=\"1\" stroke=\"#000000\" stroke-opacity=\"1\" stroke-width=\"3.2\"/>\n",
       "<circle clip-path=\"url(#clip112)\" cx=\"1735.85\" cy=\"716.516\" r=\"14\" fill=\"#009af9\" fill-rule=\"evenodd\" fill-opacity=\"1\" stroke=\"#000000\" stroke-opacity=\"1\" stroke-width=\"3.2\"/>\n",
       "<circle clip-path=\"url(#clip112)\" cx=\"1740.25\" cy=\"713.327\" r=\"14\" fill=\"#009af9\" fill-rule=\"evenodd\" fill-opacity=\"1\" stroke=\"#000000\" stroke-opacity=\"1\" stroke-width=\"3.2\"/>\n",
       "<circle clip-path=\"url(#clip112)\" cx=\"1744.64\" cy=\"709.333\" r=\"14\" fill=\"#009af9\" fill-rule=\"evenodd\" fill-opacity=\"1\" stroke=\"#000000\" stroke-opacity=\"1\" stroke-width=\"3.2\"/>\n",
       "<circle clip-path=\"url(#clip112)\" cx=\"1749.04\" cy=\"705.332\" r=\"14\" fill=\"#009af9\" fill-rule=\"evenodd\" fill-opacity=\"1\" stroke=\"#000000\" stroke-opacity=\"1\" stroke-width=\"3.2\"/>\n",
       "<circle clip-path=\"url(#clip112)\" cx=\"1753.43\" cy=\"701.195\" r=\"14\" fill=\"#009af9\" fill-rule=\"evenodd\" fill-opacity=\"1\" stroke=\"#000000\" stroke-opacity=\"1\" stroke-width=\"3.2\"/>\n",
       "<circle clip-path=\"url(#clip112)\" cx=\"1757.83\" cy=\"696.41\" r=\"14\" fill=\"#009af9\" fill-rule=\"evenodd\" fill-opacity=\"1\" stroke=\"#000000\" stroke-opacity=\"1\" stroke-width=\"3.2\"/>\n",
       "<circle clip-path=\"url(#clip112)\" cx=\"1762.22\" cy=\"692.068\" r=\"14\" fill=\"#009af9\" fill-rule=\"evenodd\" fill-opacity=\"1\" stroke=\"#000000\" stroke-opacity=\"1\" stroke-width=\"3.2\"/>\n",
       "<circle clip-path=\"url(#clip112)\" cx=\"1766.61\" cy=\"687.44\" r=\"14\" fill=\"#009af9\" fill-rule=\"evenodd\" fill-opacity=\"1\" stroke=\"#000000\" stroke-opacity=\"1\" stroke-width=\"3.2\"/>\n",
       "<circle clip-path=\"url(#clip112)\" cx=\"1771.01\" cy=\"682.791\" r=\"14\" fill=\"#009af9\" fill-rule=\"evenodd\" fill-opacity=\"1\" stroke=\"#000000\" stroke-opacity=\"1\" stroke-width=\"3.2\"/>\n",
       "<circle clip-path=\"url(#clip112)\" cx=\"1775.4\" cy=\"677.403\" r=\"14\" fill=\"#009af9\" fill-rule=\"evenodd\" fill-opacity=\"1\" stroke=\"#000000\" stroke-opacity=\"1\" stroke-width=\"3.2\"/>\n",
       "<circle clip-path=\"url(#clip112)\" cx=\"1779.8\" cy=\"671.046\" r=\"14\" fill=\"#009af9\" fill-rule=\"evenodd\" fill-opacity=\"1\" stroke=\"#000000\" stroke-opacity=\"1\" stroke-width=\"3.2\"/>\n",
       "<circle clip-path=\"url(#clip112)\" cx=\"1784.19\" cy=\"664.56\" r=\"14\" fill=\"#009af9\" fill-rule=\"evenodd\" fill-opacity=\"1\" stroke=\"#000000\" stroke-opacity=\"1\" stroke-width=\"3.2\"/>\n",
       "<circle clip-path=\"url(#clip112)\" cx=\"1788.59\" cy=\"657.499\" r=\"14\" fill=\"#009af9\" fill-rule=\"evenodd\" fill-opacity=\"1\" stroke=\"#000000\" stroke-opacity=\"1\" stroke-width=\"3.2\"/>\n",
       "<circle clip-path=\"url(#clip112)\" cx=\"1792.98\" cy=\"650.059\" r=\"14\" fill=\"#009af9\" fill-rule=\"evenodd\" fill-opacity=\"1\" stroke=\"#000000\" stroke-opacity=\"1\" stroke-width=\"3.2\"/>\n",
       "<circle clip-path=\"url(#clip112)\" cx=\"1797.38\" cy=\"644.123\" r=\"14\" fill=\"#009af9\" fill-rule=\"evenodd\" fill-opacity=\"1\" stroke=\"#000000\" stroke-opacity=\"1\" stroke-width=\"3.2\"/>\n",
       "<circle clip-path=\"url(#clip112)\" cx=\"1801.77\" cy=\"638.356\" r=\"14\" fill=\"#009af9\" fill-rule=\"evenodd\" fill-opacity=\"1\" stroke=\"#000000\" stroke-opacity=\"1\" stroke-width=\"3.2\"/>\n",
       "<circle clip-path=\"url(#clip112)\" cx=\"1806.17\" cy=\"631.694\" r=\"14\" fill=\"#009af9\" fill-rule=\"evenodd\" fill-opacity=\"1\" stroke=\"#000000\" stroke-opacity=\"1\" stroke-width=\"3.2\"/>\n",
       "<circle clip-path=\"url(#clip112)\" cx=\"1810.56\" cy=\"624.124\" r=\"14\" fill=\"#009af9\" fill-rule=\"evenodd\" fill-opacity=\"1\" stroke=\"#000000\" stroke-opacity=\"1\" stroke-width=\"3.2\"/>\n",
       "<circle clip-path=\"url(#clip112)\" cx=\"1814.95\" cy=\"616.179\" r=\"14\" fill=\"#009af9\" fill-rule=\"evenodd\" fill-opacity=\"1\" stroke=\"#000000\" stroke-opacity=\"1\" stroke-width=\"3.2\"/>\n",
       "<circle clip-path=\"url(#clip112)\" cx=\"1819.35\" cy=\"608.233\" r=\"14\" fill=\"#009af9\" fill-rule=\"evenodd\" fill-opacity=\"1\" stroke=\"#000000\" stroke-opacity=\"1\" stroke-width=\"3.2\"/>\n",
       "<circle clip-path=\"url(#clip112)\" cx=\"1823.74\" cy=\"602.81\" r=\"14\" fill=\"#009af9\" fill-rule=\"evenodd\" fill-opacity=\"1\" stroke=\"#000000\" stroke-opacity=\"1\" stroke-width=\"3.2\"/>\n",
       "<circle clip-path=\"url(#clip112)\" cx=\"1828.14\" cy=\"597.708\" r=\"14\" fill=\"#009af9\" fill-rule=\"evenodd\" fill-opacity=\"1\" stroke=\"#000000\" stroke-opacity=\"1\" stroke-width=\"3.2\"/>\n",
       "<circle clip-path=\"url(#clip112)\" cx=\"1832.53\" cy=\"592.756\" r=\"14\" fill=\"#009af9\" fill-rule=\"evenodd\" fill-opacity=\"1\" stroke=\"#000000\" stroke-opacity=\"1\" stroke-width=\"3.2\"/>\n",
       "<circle clip-path=\"url(#clip112)\" cx=\"1836.93\" cy=\"586.898\" r=\"14\" fill=\"#009af9\" fill-rule=\"evenodd\" fill-opacity=\"1\" stroke=\"#000000\" stroke-opacity=\"1\" stroke-width=\"3.2\"/>\n",
       "<circle clip-path=\"url(#clip112)\" cx=\"1841.32\" cy=\"580.708\" r=\"14\" fill=\"#009af9\" fill-rule=\"evenodd\" fill-opacity=\"1\" stroke=\"#000000\" stroke-opacity=\"1\" stroke-width=\"3.2\"/>\n",
       "<circle clip-path=\"url(#clip112)\" cx=\"1845.72\" cy=\"572.032\" r=\"14\" fill=\"#009af9\" fill-rule=\"evenodd\" fill-opacity=\"1\" stroke=\"#000000\" stroke-opacity=\"1\" stroke-width=\"3.2\"/>\n",
       "<circle clip-path=\"url(#clip112)\" cx=\"1850.11\" cy=\"565.594\" r=\"14\" fill=\"#009af9\" fill-rule=\"evenodd\" fill-opacity=\"1\" stroke=\"#000000\" stroke-opacity=\"1\" stroke-width=\"3.2\"/>\n",
       "<circle clip-path=\"url(#clip112)\" cx=\"1854.5\" cy=\"559.463\" r=\"14\" fill=\"#009af9\" fill-rule=\"evenodd\" fill-opacity=\"1\" stroke=\"#000000\" stroke-opacity=\"1\" stroke-width=\"3.2\"/>\n",
       "<circle clip-path=\"url(#clip112)\" cx=\"1858.9\" cy=\"554.457\" r=\"14\" fill=\"#009af9\" fill-rule=\"evenodd\" fill-opacity=\"1\" stroke=\"#000000\" stroke-opacity=\"1\" stroke-width=\"3.2\"/>\n",
       "<circle clip-path=\"url(#clip112)\" cx=\"1863.29\" cy=\"548.973\" r=\"14\" fill=\"#009af9\" fill-rule=\"evenodd\" fill-opacity=\"1\" stroke=\"#000000\" stroke-opacity=\"1\" stroke-width=\"3.2\"/>\n",
       "<circle clip-path=\"url(#clip112)\" cx=\"1867.69\" cy=\"540.02\" r=\"14\" fill=\"#009af9\" fill-rule=\"evenodd\" fill-opacity=\"1\" stroke=\"#000000\" stroke-opacity=\"1\" stroke-width=\"3.2\"/>\n",
       "<circle clip-path=\"url(#clip112)\" cx=\"1872.08\" cy=\"531.083\" r=\"14\" fill=\"#009af9\" fill-rule=\"evenodd\" fill-opacity=\"1\" stroke=\"#000000\" stroke-opacity=\"1\" stroke-width=\"3.2\"/>\n",
       "<circle clip-path=\"url(#clip112)\" cx=\"1876.48\" cy=\"521.735\" r=\"14\" fill=\"#009af9\" fill-rule=\"evenodd\" fill-opacity=\"1\" stroke=\"#000000\" stroke-opacity=\"1\" stroke-width=\"3.2\"/>\n",
       "<circle clip-path=\"url(#clip112)\" cx=\"1880.87\" cy=\"512.044\" r=\"14\" fill=\"#009af9\" fill-rule=\"evenodd\" fill-opacity=\"1\" stroke=\"#000000\" stroke-opacity=\"1\" stroke-width=\"3.2\"/>\n",
       "<circle clip-path=\"url(#clip112)\" cx=\"1885.27\" cy=\"503.644\" r=\"14\" fill=\"#009af9\" fill-rule=\"evenodd\" fill-opacity=\"1\" stroke=\"#000000\" stroke-opacity=\"1\" stroke-width=\"3.2\"/>\n",
       "<circle clip-path=\"url(#clip112)\" cx=\"1889.66\" cy=\"495.381\" r=\"14\" fill=\"#009af9\" fill-rule=\"evenodd\" fill-opacity=\"1\" stroke=\"#000000\" stroke-opacity=\"1\" stroke-width=\"3.2\"/>\n",
       "<circle clip-path=\"url(#clip112)\" cx=\"1894.06\" cy=\"487.402\" r=\"14\" fill=\"#009af9\" fill-rule=\"evenodd\" fill-opacity=\"1\" stroke=\"#000000\" stroke-opacity=\"1\" stroke-width=\"3.2\"/>\n",
       "<circle clip-path=\"url(#clip112)\" cx=\"1898.45\" cy=\"479.861\" r=\"14\" fill=\"#009af9\" fill-rule=\"evenodd\" fill-opacity=\"1\" stroke=\"#000000\" stroke-opacity=\"1\" stroke-width=\"3.2\"/>\n",
       "<circle clip-path=\"url(#clip112)\" cx=\"1902.84\" cy=\"471.406\" r=\"14\" fill=\"#009af9\" fill-rule=\"evenodd\" fill-opacity=\"1\" stroke=\"#000000\" stroke-opacity=\"1\" stroke-width=\"3.2\"/>\n",
       "<circle clip-path=\"url(#clip112)\" cx=\"1907.24\" cy=\"462.3\" r=\"14\" fill=\"#009af9\" fill-rule=\"evenodd\" fill-opacity=\"1\" stroke=\"#000000\" stroke-opacity=\"1\" stroke-width=\"3.2\"/>\n",
       "<circle clip-path=\"url(#clip112)\" cx=\"1911.63\" cy=\"451.09\" r=\"14\" fill=\"#009af9\" fill-rule=\"evenodd\" fill-opacity=\"1\" stroke=\"#000000\" stroke-opacity=\"1\" stroke-width=\"3.2\"/>\n",
       "<circle clip-path=\"url(#clip112)\" cx=\"1916.03\" cy=\"439.999\" r=\"14\" fill=\"#009af9\" fill-rule=\"evenodd\" fill-opacity=\"1\" stroke=\"#000000\" stroke-opacity=\"1\" stroke-width=\"3.2\"/>\n",
       "<circle clip-path=\"url(#clip112)\" cx=\"1920.42\" cy=\"430.756\" r=\"14\" fill=\"#009af9\" fill-rule=\"evenodd\" fill-opacity=\"1\" stroke=\"#000000\" stroke-opacity=\"1\" stroke-width=\"3.2\"/>\n",
       "<circle clip-path=\"url(#clip112)\" cx=\"1924.82\" cy=\"422.928\" r=\"14\" fill=\"#009af9\" fill-rule=\"evenodd\" fill-opacity=\"1\" stroke=\"#000000\" stroke-opacity=\"1\" stroke-width=\"3.2\"/>\n",
       "<circle clip-path=\"url(#clip112)\" cx=\"1929.21\" cy=\"414.451\" r=\"14\" fill=\"#009af9\" fill-rule=\"evenodd\" fill-opacity=\"1\" stroke=\"#000000\" stroke-opacity=\"1\" stroke-width=\"3.2\"/>\n",
       "<circle clip-path=\"url(#clip112)\" cx=\"1933.61\" cy=\"404.927\" r=\"14\" fill=\"#009af9\" fill-rule=\"evenodd\" fill-opacity=\"1\" stroke=\"#000000\" stroke-opacity=\"1\" stroke-width=\"3.2\"/>\n",
       "<circle clip-path=\"url(#clip112)\" cx=\"1938\" cy=\"396.755\" r=\"14\" fill=\"#009af9\" fill-rule=\"evenodd\" fill-opacity=\"1\" stroke=\"#000000\" stroke-opacity=\"1\" stroke-width=\"3.2\"/>\n",
       "<circle clip-path=\"url(#clip112)\" cx=\"1942.4\" cy=\"388.739\" r=\"14\" fill=\"#009af9\" fill-rule=\"evenodd\" fill-opacity=\"1\" stroke=\"#000000\" stroke-opacity=\"1\" stroke-width=\"3.2\"/>\n",
       "<circle clip-path=\"url(#clip112)\" cx=\"1946.79\" cy=\"380.468\" r=\"14\" fill=\"#009af9\" fill-rule=\"evenodd\" fill-opacity=\"1\" stroke=\"#000000\" stroke-opacity=\"1\" stroke-width=\"3.2\"/>\n",
       "<circle clip-path=\"url(#clip112)\" cx=\"1951.18\" cy=\"373.812\" r=\"14\" fill=\"#009af9\" fill-rule=\"evenodd\" fill-opacity=\"1\" stroke=\"#000000\" stroke-opacity=\"1\" stroke-width=\"3.2\"/>\n",
       "<circle clip-path=\"url(#clip112)\" cx=\"1955.58\" cy=\"367.291\" r=\"14\" fill=\"#009af9\" fill-rule=\"evenodd\" fill-opacity=\"1\" stroke=\"#000000\" stroke-opacity=\"1\" stroke-width=\"3.2\"/>\n",
       "<circle clip-path=\"url(#clip112)\" cx=\"1959.97\" cy=\"360.055\" r=\"14\" fill=\"#009af9\" fill-rule=\"evenodd\" fill-opacity=\"1\" stroke=\"#000000\" stroke-opacity=\"1\" stroke-width=\"3.2\"/>\n",
       "<circle clip-path=\"url(#clip112)\" cx=\"1964.37\" cy=\"352.634\" r=\"14\" fill=\"#009af9\" fill-rule=\"evenodd\" fill-opacity=\"1\" stroke=\"#000000\" stroke-opacity=\"1\" stroke-width=\"3.2\"/>\n",
       "<circle clip-path=\"url(#clip112)\" cx=\"1968.76\" cy=\"346.108\" r=\"14\" fill=\"#009af9\" fill-rule=\"evenodd\" fill-opacity=\"1\" stroke=\"#000000\" stroke-opacity=\"1\" stroke-width=\"3.2\"/>\n",
       "<circle clip-path=\"url(#clip112)\" cx=\"1973.16\" cy=\"340.759\" r=\"14\" fill=\"#009af9\" fill-rule=\"evenodd\" fill-opacity=\"1\" stroke=\"#000000\" stroke-opacity=\"1\" stroke-width=\"3.2\"/>\n",
       "<circle clip-path=\"url(#clip112)\" cx=\"1977.55\" cy=\"335.881\" r=\"14\" fill=\"#009af9\" fill-rule=\"evenodd\" fill-opacity=\"1\" stroke=\"#000000\" stroke-opacity=\"1\" stroke-width=\"3.2\"/>\n",
       "<circle clip-path=\"url(#clip112)\" cx=\"1981.95\" cy=\"331.585\" r=\"14\" fill=\"#009af9\" fill-rule=\"evenodd\" fill-opacity=\"1\" stroke=\"#000000\" stroke-opacity=\"1\" stroke-width=\"3.2\"/>\n",
       "<circle clip-path=\"url(#clip112)\" cx=\"1986.34\" cy=\"326.467\" r=\"14\" fill=\"#009af9\" fill-rule=\"evenodd\" fill-opacity=\"1\" stroke=\"#000000\" stroke-opacity=\"1\" stroke-width=\"3.2\"/>\n",
       "<circle clip-path=\"url(#clip112)\" cx=\"1990.74\" cy=\"321.101\" r=\"14\" fill=\"#009af9\" fill-rule=\"evenodd\" fill-opacity=\"1\" stroke=\"#000000\" stroke-opacity=\"1\" stroke-width=\"3.2\"/>\n",
       "<circle clip-path=\"url(#clip112)\" cx=\"1995.13\" cy=\"315.237\" r=\"14\" fill=\"#009af9\" fill-rule=\"evenodd\" fill-opacity=\"1\" stroke=\"#000000\" stroke-opacity=\"1\" stroke-width=\"3.2\"/>\n",
       "<circle clip-path=\"url(#clip112)\" cx=\"1999.52\" cy=\"310.03\" r=\"14\" fill=\"#009af9\" fill-rule=\"evenodd\" fill-opacity=\"1\" stroke=\"#000000\" stroke-opacity=\"1\" stroke-width=\"3.2\"/>\n",
       "<circle clip-path=\"url(#clip112)\" cx=\"2003.92\" cy=\"306.176\" r=\"14\" fill=\"#009af9\" fill-rule=\"evenodd\" fill-opacity=\"1\" stroke=\"#000000\" stroke-opacity=\"1\" stroke-width=\"3.2\"/>\n",
       "<circle clip-path=\"url(#clip112)\" cx=\"2008.31\" cy=\"301.63\" r=\"14\" fill=\"#009af9\" fill-rule=\"evenodd\" fill-opacity=\"1\" stroke=\"#000000\" stroke-opacity=\"1\" stroke-width=\"3.2\"/>\n",
       "<circle clip-path=\"url(#clip112)\" cx=\"2012.71\" cy=\"298.434\" r=\"14\" fill=\"#009af9\" fill-rule=\"evenodd\" fill-opacity=\"1\" stroke=\"#000000\" stroke-opacity=\"1\" stroke-width=\"3.2\"/>\n",
       "<circle clip-path=\"url(#clip112)\" cx=\"2017.1\" cy=\"296.176\" r=\"14\" fill=\"#009af9\" fill-rule=\"evenodd\" fill-opacity=\"1\" stroke=\"#000000\" stroke-opacity=\"1\" stroke-width=\"3.2\"/>\n",
       "<circle clip-path=\"url(#clip112)\" cx=\"2021.5\" cy=\"293.282\" r=\"14\" fill=\"#009af9\" fill-rule=\"evenodd\" fill-opacity=\"1\" stroke=\"#000000\" stroke-opacity=\"1\" stroke-width=\"3.2\"/>\n",
       "<circle clip-path=\"url(#clip112)\" cx=\"2025.89\" cy=\"289.855\" r=\"14\" fill=\"#009af9\" fill-rule=\"evenodd\" fill-opacity=\"1\" stroke=\"#000000\" stroke-opacity=\"1\" stroke-width=\"3.2\"/>\n",
       "<circle clip-path=\"url(#clip112)\" cx=\"2030.29\" cy=\"286.508\" r=\"14\" fill=\"#009af9\" fill-rule=\"evenodd\" fill-opacity=\"1\" stroke=\"#000000\" stroke-opacity=\"1\" stroke-width=\"3.2\"/>\n",
       "<circle clip-path=\"url(#clip112)\" cx=\"2034.68\" cy=\"283.568\" r=\"14\" fill=\"#009af9\" fill-rule=\"evenodd\" fill-opacity=\"1\" stroke=\"#000000\" stroke-opacity=\"1\" stroke-width=\"3.2\"/>\n",
       "<circle clip-path=\"url(#clip112)\" cx=\"2039.07\" cy=\"280.937\" r=\"14\" fill=\"#009af9\" fill-rule=\"evenodd\" fill-opacity=\"1\" stroke=\"#000000\" stroke-opacity=\"1\" stroke-width=\"3.2\"/>\n",
       "<circle clip-path=\"url(#clip112)\" cx=\"2043.47\" cy=\"278.319\" r=\"14\" fill=\"#009af9\" fill-rule=\"evenodd\" fill-opacity=\"1\" stroke=\"#000000\" stroke-opacity=\"1\" stroke-width=\"3.2\"/>\n",
       "<circle clip-path=\"url(#clip112)\" cx=\"2047.86\" cy=\"276.452\" r=\"14\" fill=\"#009af9\" fill-rule=\"evenodd\" fill-opacity=\"1\" stroke=\"#000000\" stroke-opacity=\"1\" stroke-width=\"3.2\"/>\n",
       "<circle clip-path=\"url(#clip112)\" cx=\"2052.26\" cy=\"274.299\" r=\"14\" fill=\"#009af9\" fill-rule=\"evenodd\" fill-opacity=\"1\" stroke=\"#000000\" stroke-opacity=\"1\" stroke-width=\"3.2\"/>\n",
       "<circle clip-path=\"url(#clip112)\" cx=\"2056.65\" cy=\"271.585\" r=\"14\" fill=\"#009af9\" fill-rule=\"evenodd\" fill-opacity=\"1\" stroke=\"#000000\" stroke-opacity=\"1\" stroke-width=\"3.2\"/>\n",
       "<circle clip-path=\"url(#clip112)\" cx=\"2061.05\" cy=\"269.019\" r=\"14\" fill=\"#009af9\" fill-rule=\"evenodd\" fill-opacity=\"1\" stroke=\"#000000\" stroke-opacity=\"1\" stroke-width=\"3.2\"/>\n",
       "<circle clip-path=\"url(#clip112)\" cx=\"2065.44\" cy=\"266.639\" r=\"14\" fill=\"#009af9\" fill-rule=\"evenodd\" fill-opacity=\"1\" stroke=\"#000000\" stroke-opacity=\"1\" stroke-width=\"3.2\"/>\n",
       "<circle clip-path=\"url(#clip112)\" cx=\"2069.84\" cy=\"263.97\" r=\"14\" fill=\"#009af9\" fill-rule=\"evenodd\" fill-opacity=\"1\" stroke=\"#000000\" stroke-opacity=\"1\" stroke-width=\"3.2\"/>\n",
       "<circle clip-path=\"url(#clip112)\" cx=\"2074.23\" cy=\"261.713\" r=\"14\" fill=\"#009af9\" fill-rule=\"evenodd\" fill-opacity=\"1\" stroke=\"#000000\" stroke-opacity=\"1\" stroke-width=\"3.2\"/>\n",
       "<circle clip-path=\"url(#clip112)\" cx=\"2078.63\" cy=\"259.904\" r=\"14\" fill=\"#009af9\" fill-rule=\"evenodd\" fill-opacity=\"1\" stroke=\"#000000\" stroke-opacity=\"1\" stroke-width=\"3.2\"/>\n",
       "<circle clip-path=\"url(#clip112)\" cx=\"2083.02\" cy=\"257.816\" r=\"14\" fill=\"#009af9\" fill-rule=\"evenodd\" fill-opacity=\"1\" stroke=\"#000000\" stroke-opacity=\"1\" stroke-width=\"3.2\"/>\n",
       "<circle clip-path=\"url(#clip112)\" cx=\"2087.41\" cy=\"255.714\" r=\"14\" fill=\"#009af9\" fill-rule=\"evenodd\" fill-opacity=\"1\" stroke=\"#000000\" stroke-opacity=\"1\" stroke-width=\"3.2\"/>\n",
       "<circle clip-path=\"url(#clip112)\" cx=\"2091.81\" cy=\"253.755\" r=\"14\" fill=\"#009af9\" fill-rule=\"evenodd\" fill-opacity=\"1\" stroke=\"#000000\" stroke-opacity=\"1\" stroke-width=\"3.2\"/>\n",
       "<circle clip-path=\"url(#clip112)\" cx=\"2096.2\" cy=\"251.858\" r=\"14\" fill=\"#009af9\" fill-rule=\"evenodd\" fill-opacity=\"1\" stroke=\"#000000\" stroke-opacity=\"1\" stroke-width=\"3.2\"/>\n",
       "<circle clip-path=\"url(#clip112)\" cx=\"2100.6\" cy=\"250.08\" r=\"14\" fill=\"#009af9\" fill-rule=\"evenodd\" fill-opacity=\"1\" stroke=\"#000000\" stroke-opacity=\"1\" stroke-width=\"3.2\"/>\n",
       "<circle clip-path=\"url(#clip112)\" cx=\"2104.99\" cy=\"248.19\" r=\"14\" fill=\"#009af9\" fill-rule=\"evenodd\" fill-opacity=\"1\" stroke=\"#000000\" stroke-opacity=\"1\" stroke-width=\"3.2\"/>\n",
       "<circle clip-path=\"url(#clip112)\" cx=\"2109.39\" cy=\"246.291\" r=\"14\" fill=\"#009af9\" fill-rule=\"evenodd\" fill-opacity=\"1\" stroke=\"#000000\" stroke-opacity=\"1\" stroke-width=\"3.2\"/>\n",
       "<circle clip-path=\"url(#clip112)\" cx=\"2113.78\" cy=\"243.983\" r=\"14\" fill=\"#009af9\" fill-rule=\"evenodd\" fill-opacity=\"1\" stroke=\"#000000\" stroke-opacity=\"1\" stroke-width=\"3.2\"/>\n",
       "<circle clip-path=\"url(#clip112)\" cx=\"2118.18\" cy=\"242.363\" r=\"14\" fill=\"#009af9\" fill-rule=\"evenodd\" fill-opacity=\"1\" stroke=\"#000000\" stroke-opacity=\"1\" stroke-width=\"3.2\"/>\n",
       "<circle clip-path=\"url(#clip112)\" cx=\"2122.57\" cy=\"240.467\" r=\"14\" fill=\"#009af9\" fill-rule=\"evenodd\" fill-opacity=\"1\" stroke=\"#000000\" stroke-opacity=\"1\" stroke-width=\"3.2\"/>\n",
       "<circle clip-path=\"url(#clip112)\" cx=\"2126.97\" cy=\"238.674\" r=\"14\" fill=\"#009af9\" fill-rule=\"evenodd\" fill-opacity=\"1\" stroke=\"#000000\" stroke-opacity=\"1\" stroke-width=\"3.2\"/>\n",
       "<circle clip-path=\"url(#clip112)\" cx=\"2131.36\" cy=\"236.726\" r=\"14\" fill=\"#009af9\" fill-rule=\"evenodd\" fill-opacity=\"1\" stroke=\"#000000\" stroke-opacity=\"1\" stroke-width=\"3.2\"/>\n",
       "<circle clip-path=\"url(#clip112)\" cx=\"2135.75\" cy=\"234.912\" r=\"14\" fill=\"#009af9\" fill-rule=\"evenodd\" fill-opacity=\"1\" stroke=\"#000000\" stroke-opacity=\"1\" stroke-width=\"3.2\"/>\n",
       "<circle clip-path=\"url(#clip112)\" cx=\"2140.15\" cy=\"233.739\" r=\"14\" fill=\"#009af9\" fill-rule=\"evenodd\" fill-opacity=\"1\" stroke=\"#000000\" stroke-opacity=\"1\" stroke-width=\"3.2\"/>\n",
       "<circle clip-path=\"url(#clip112)\" cx=\"2144.54\" cy=\"231.872\" r=\"14\" fill=\"#009af9\" fill-rule=\"evenodd\" fill-opacity=\"1\" stroke=\"#000000\" stroke-opacity=\"1\" stroke-width=\"3.2\"/>\n",
       "<circle clip-path=\"url(#clip112)\" cx=\"2148.94\" cy=\"229.964\" r=\"14\" fill=\"#009af9\" fill-rule=\"evenodd\" fill-opacity=\"1\" stroke=\"#000000\" stroke-opacity=\"1\" stroke-width=\"3.2\"/>\n",
       "<circle clip-path=\"url(#clip112)\" cx=\"2153.33\" cy=\"227.529\" r=\"14\" fill=\"#009af9\" fill-rule=\"evenodd\" fill-opacity=\"1\" stroke=\"#000000\" stroke-opacity=\"1\" stroke-width=\"3.2\"/>\n",
       "<circle clip-path=\"url(#clip112)\" cx=\"2157.73\" cy=\"225.36\" r=\"14\" fill=\"#009af9\" fill-rule=\"evenodd\" fill-opacity=\"1\" stroke=\"#000000\" stroke-opacity=\"1\" stroke-width=\"3.2\"/>\n",
       "<circle clip-path=\"url(#clip112)\" cx=\"2162.12\" cy=\"222.985\" r=\"14\" fill=\"#009af9\" fill-rule=\"evenodd\" fill-opacity=\"1\" stroke=\"#000000\" stroke-opacity=\"1\" stroke-width=\"3.2\"/>\n",
       "<circle clip-path=\"url(#clip112)\" cx=\"2166.52\" cy=\"220.825\" r=\"14\" fill=\"#009af9\" fill-rule=\"evenodd\" fill-opacity=\"1\" stroke=\"#000000\" stroke-opacity=\"1\" stroke-width=\"3.2\"/>\n",
       "<circle clip-path=\"url(#clip112)\" cx=\"2170.91\" cy=\"219.368\" r=\"14\" fill=\"#009af9\" fill-rule=\"evenodd\" fill-opacity=\"1\" stroke=\"#000000\" stroke-opacity=\"1\" stroke-width=\"3.2\"/>\n",
       "<circle clip-path=\"url(#clip112)\" cx=\"2175.31\" cy=\"217.391\" r=\"14\" fill=\"#009af9\" fill-rule=\"evenodd\" fill-opacity=\"1\" stroke=\"#000000\" stroke-opacity=\"1\" stroke-width=\"3.2\"/>\n",
       "<circle clip-path=\"url(#clip112)\" cx=\"2179.7\" cy=\"214.969\" r=\"14\" fill=\"#009af9\" fill-rule=\"evenodd\" fill-opacity=\"1\" stroke=\"#000000\" stroke-opacity=\"1\" stroke-width=\"3.2\"/>\n",
       "<circle clip-path=\"url(#clip112)\" cx=\"2184.09\" cy=\"212.236\" r=\"14\" fill=\"#009af9\" fill-rule=\"evenodd\" fill-opacity=\"1\" stroke=\"#000000\" stroke-opacity=\"1\" stroke-width=\"3.2\"/>\n",
       "<circle clip-path=\"url(#clip112)\" cx=\"2188.49\" cy=\"209.506\" r=\"14\" fill=\"#009af9\" fill-rule=\"evenodd\" fill-opacity=\"1\" stroke=\"#000000\" stroke-opacity=\"1\" stroke-width=\"3.2\"/>\n",
       "<circle clip-path=\"url(#clip112)\" cx=\"2192.88\" cy=\"205.911\" r=\"14\" fill=\"#009af9\" fill-rule=\"evenodd\" fill-opacity=\"1\" stroke=\"#000000\" stroke-opacity=\"1\" stroke-width=\"3.2\"/>\n",
       "<circle clip-path=\"url(#clip112)\" cx=\"2197.28\" cy=\"202.697\" r=\"14\" fill=\"#009af9\" fill-rule=\"evenodd\" fill-opacity=\"1\" stroke=\"#000000\" stroke-opacity=\"1\" stroke-width=\"3.2\"/>\n",
       "<circle clip-path=\"url(#clip112)\" cx=\"2201.67\" cy=\"200.012\" r=\"14\" fill=\"#009af9\" fill-rule=\"evenodd\" fill-opacity=\"1\" stroke=\"#000000\" stroke-opacity=\"1\" stroke-width=\"3.2\"/>\n",
       "<circle clip-path=\"url(#clip112)\" cx=\"2206.07\" cy=\"197.382\" r=\"14\" fill=\"#009af9\" fill-rule=\"evenodd\" fill-opacity=\"1\" stroke=\"#000000\" stroke-opacity=\"1\" stroke-width=\"3.2\"/>\n",
       "<circle clip-path=\"url(#clip112)\" cx=\"2210.46\" cy=\"194.198\" r=\"14\" fill=\"#009af9\" fill-rule=\"evenodd\" fill-opacity=\"1\" stroke=\"#000000\" stroke-opacity=\"1\" stroke-width=\"3.2\"/>\n",
       "<circle clip-path=\"url(#clip112)\" cx=\"2214.86\" cy=\"190.618\" r=\"14\" fill=\"#009af9\" fill-rule=\"evenodd\" fill-opacity=\"1\" stroke=\"#000000\" stroke-opacity=\"1\" stroke-width=\"3.2\"/>\n",
       "<circle clip-path=\"url(#clip112)\" cx=\"2219.25\" cy=\"186.685\" r=\"14\" fill=\"#009af9\" fill-rule=\"evenodd\" fill-opacity=\"1\" stroke=\"#000000\" stroke-opacity=\"1\" stroke-width=\"3.2\"/>\n",
       "<circle clip-path=\"url(#clip112)\" cx=\"2223.64\" cy=\"182.295\" r=\"14\" fill=\"#009af9\" fill-rule=\"evenodd\" fill-opacity=\"1\" stroke=\"#000000\" stroke-opacity=\"1\" stroke-width=\"3.2\"/>\n",
       "<circle clip-path=\"url(#clip112)\" cx=\"2228.04\" cy=\"178.498\" r=\"14\" fill=\"#009af9\" fill-rule=\"evenodd\" fill-opacity=\"1\" stroke=\"#000000\" stroke-opacity=\"1\" stroke-width=\"3.2\"/>\n",
       "<circle clip-path=\"url(#clip112)\" cx=\"2232.43\" cy=\"174.749\" r=\"14\" fill=\"#009af9\" fill-rule=\"evenodd\" fill-opacity=\"1\" stroke=\"#000000\" stroke-opacity=\"1\" stroke-width=\"3.2\"/>\n",
       "<circle clip-path=\"url(#clip112)\" cx=\"2236.83\" cy=\"170.52\" r=\"14\" fill=\"#009af9\" fill-rule=\"evenodd\" fill-opacity=\"1\" stroke=\"#000000\" stroke-opacity=\"1\" stroke-width=\"3.2\"/>\n",
       "<circle clip-path=\"url(#clip112)\" cx=\"2241.22\" cy=\"165.922\" r=\"14\" fill=\"#009af9\" fill-rule=\"evenodd\" fill-opacity=\"1\" stroke=\"#000000\" stroke-opacity=\"1\" stroke-width=\"3.2\"/>\n",
       "<circle clip-path=\"url(#clip112)\" cx=\"2245.62\" cy=\"159.833\" r=\"14\" fill=\"#009af9\" fill-rule=\"evenodd\" fill-opacity=\"1\" stroke=\"#000000\" stroke-opacity=\"1\" stroke-width=\"3.2\"/>\n",
       "<circle clip-path=\"url(#clip112)\" cx=\"2250.01\" cy=\"154.397\" r=\"14\" fill=\"#009af9\" fill-rule=\"evenodd\" fill-opacity=\"1\" stroke=\"#000000\" stroke-opacity=\"1\" stroke-width=\"3.2\"/>\n",
       "<circle clip-path=\"url(#clip112)\" cx=\"2254.41\" cy=\"149.531\" r=\"14\" fill=\"#009af9\" fill-rule=\"evenodd\" fill-opacity=\"1\" stroke=\"#000000\" stroke-opacity=\"1\" stroke-width=\"3.2\"/>\n",
       "<circle clip-path=\"url(#clip112)\" cx=\"2258.8\" cy=\"144.733\" r=\"14\" fill=\"#009af9\" fill-rule=\"evenodd\" fill-opacity=\"1\" stroke=\"#000000\" stroke-opacity=\"1\" stroke-width=\"3.2\"/>\n",
       "<circle clip-path=\"url(#clip112)\" cx=\"2263.2\" cy=\"139.313\" r=\"14\" fill=\"#009af9\" fill-rule=\"evenodd\" fill-opacity=\"1\" stroke=\"#000000\" stroke-opacity=\"1\" stroke-width=\"3.2\"/>\n",
       "<circle clip-path=\"url(#clip112)\" cx=\"2267.59\" cy=\"133.023\" r=\"14\" fill=\"#009af9\" fill-rule=\"evenodd\" fill-opacity=\"1\" stroke=\"#000000\" stroke-opacity=\"1\" stroke-width=\"3.2\"/>\n",
       "<circle clip-path=\"url(#clip112)\" cx=\"2271.98\" cy=\"126.97\" r=\"14\" fill=\"#009af9\" fill-rule=\"evenodd\" fill-opacity=\"1\" stroke=\"#000000\" stroke-opacity=\"1\" stroke-width=\"3.2\"/>\n",
       "<circle clip-path=\"url(#clip112)\" cx=\"2276.38\" cy=\"120.342\" r=\"14\" fill=\"#009af9\" fill-rule=\"evenodd\" fill-opacity=\"1\" stroke=\"#000000\" stroke-opacity=\"1\" stroke-width=\"3.2\"/>\n",
       "<circle clip-path=\"url(#clip112)\" cx=\"2280.77\" cy=\"113.893\" r=\"14\" fill=\"#009af9\" fill-rule=\"evenodd\" fill-opacity=\"1\" stroke=\"#000000\" stroke-opacity=\"1\" stroke-width=\"3.2\"/>\n",
       "<circle clip-path=\"url(#clip112)\" cx=\"2285.17\" cy=\"106.177\" r=\"14\" fill=\"#009af9\" fill-rule=\"evenodd\" fill-opacity=\"1\" stroke=\"#000000\" stroke-opacity=\"1\" stroke-width=\"3.2\"/>\n",
       "<circle clip-path=\"url(#clip112)\" cx=\"2289.56\" cy=\"96.8787\" r=\"14\" fill=\"#009af9\" fill-rule=\"evenodd\" fill-opacity=\"1\" stroke=\"#000000\" stroke-opacity=\"1\" stroke-width=\"3.2\"/>\n",
       "<circle clip-path=\"url(#clip112)\" cx=\"2293.96\" cy=\"87.9763\" r=\"14\" fill=\"#009af9\" fill-rule=\"evenodd\" fill-opacity=\"1\" stroke=\"#000000\" stroke-opacity=\"1\" stroke-width=\"3.2\"/>\n",
       "<path clip-path=\"url(#clip110)\" d=\"\n",
       "M2000.23 216.178 L2283.5 216.178 L2283.5 95.2176 L2000.23 95.2176  Z\n",
       "  \" fill=\"#ffffff\" fill-rule=\"evenodd\" fill-opacity=\"1\"/>\n",
       "<polyline clip-path=\"url(#clip110)\" style=\"stroke:#000000; stroke-width:4; stroke-opacity:1; fill:none\" points=\"\n",
       "  2000.23,216.178 2283.5,216.178 2283.5,95.2176 2000.23,95.2176 2000.23,216.178 \n",
       "  \"/>\n",
       "<circle clip-path=\"url(#clip110)\" cx=\"2092.57\" cy=\"155.698\" r=\"23\" fill=\"#009af9\" fill-rule=\"evenodd\" fill-opacity=\"1\" stroke=\"#000000\" stroke-opacity=\"1\" stroke-width=\"5.12\"/>\n",
       "<path clip-path=\"url(#clip110)\" d=\"M 0 0 M2198.75 175.385 Q2196.94 180.015 2195.23 181.427 Q2193.52 182.839 2190.65 182.839 L2187.24 182.839 L2187.24 179.274 L2189.74 179.274 Q2191.5 179.274 2192.48 178.44 Q2193.45 177.607 2194.63 174.505 L2195.39 172.561 L2184.91 147.052 L2189.42 147.052 L2197.52 167.329 L2205.62 147.052 L2210.14 147.052 L2198.75 175.385 Z\" fill=\"#000000\" fill-rule=\"evenodd\" fill-opacity=\"1\" /><path clip-path=\"url(#clip110)\" d=\"M 0 0 M2217.43 169.042 L2225.07 169.042 L2225.07 142.677 L2216.76 144.343 L2216.76 140.084 L2225.02 138.418 L2229.7 138.418 L2229.7 169.042 L2237.34 169.042 L2237.34 172.978 L2217.43 172.978 L2217.43 169.042 Z\" fill=\"#000000\" fill-rule=\"evenodd\" fill-opacity=\"1\" /></svg>\n"
      ]
     },
     "execution_count": 37,
     "metadata": {},
     "output_type": "execute_result"
    }
   ],
   "source": [
    "scatter(datos_COL)"
   ]
  },
  {
   "cell_type": "markdown",
   "metadata": {},
   "source": [
    "## El paquete RCall"
   ]
  },
  {
   "cell_type": "markdown",
   "metadata": {},
   "source": [
    "Este paquete permite \"correr\" R desde la consola de julia. Para empezar active el paquete y entre `$`. Para salir de R haga backspace. En jupyter cambie el kernel, previamente debe instalar en R el paquete `IRkernel`. "
   ]
  },
  {
   "cell_type": "markdown",
   "metadata": {},
   "source": [
    "### Paquetes Estadísticos"
   ]
  },
  {
   "cell_type": "markdown",
   "metadata": {},
   "source": [
    "El paquete `StatsKit`es un meta-paquete que carga paquetes esenciales de Estadística. [StatsKit](https://github.com/JuliaStats/StatsKit.jl). Para personas que trabajan con Estadística y quieren cargarlos en una sola llamada."
   ]
  },
  {
   "cell_type": "code",
   "execution_count": 38,
   "metadata": {},
   "outputs": [
    {
     "name": "stderr",
     "output_type": "stream",
     "text": [
      "┌ Info: Precompiling StatsKit [2cb19f9e-ec4d-5c53-8573-a4542a68d3f0]\n",
      "└ @ Base loading.jl:1278\n"
     ]
    }
   ],
   "source": [
    "using StatsKit"
   ]
  },
  {
   "cell_type": "code",
   "execution_count": 39,
   "metadata": {},
   "outputs": [],
   "source": [
    "using StatsBase"
   ]
  },
  {
   "cell_type": "code",
   "execution_count": 40,
   "metadata": {},
   "outputs": [
    {
     "data": {
      "text/plain": [
       "161-element Array{Symbol,1}:\n",
       " :AbstractDataTransform\n",
       " :AbstractHistogram\n",
       " :AbstractWeights\n",
       " :AnalyticWeights\n",
       " :CoefTable\n",
       " :ConvergenceException\n",
       " :CovarianceEstimator\n",
       " :ECDF\n",
       " :FrequencyWeights\n",
       " :Histogram\n",
       " :L1dist\n",
       " :L2dist\n",
       " :Linfdist\n",
       " ⋮\n",
       " :vcov\n",
       " :weights\n",
       " :winsor\n",
       " :winsor!\n",
       " :wmedian\n",
       " :wquantile\n",
       " :wsample\n",
       " :wsample!\n",
       " :wsum\n",
       " :wsum!\n",
       " :zscore\n",
       " :zscore!"
      ]
     },
     "execution_count": 40,
     "metadata": {},
     "output_type": "execute_result"
    }
   ],
   "source": [
    "names(StatsBase)"
   ]
  },
  {
   "cell_type": "code",
   "execution_count": 41,
   "metadata": {},
   "outputs": [
    {
     "name": "stdout",
     "output_type": "stream",
     "text": [
      "search: \u001b[0m\u001b[1mm\u001b[22m\u001b[0m\u001b[1me\u001b[22m\u001b[0m\u001b[1ma\u001b[22m\u001b[0m\u001b[1mn\u001b[22m \u001b[0m\u001b[1mm\u001b[22m\u001b[0m\u001b[1me\u001b[22m\u001b[0m\u001b[1ma\u001b[22m\u001b[0m\u001b[1mn\u001b[22m! \u001b[0m\u001b[1mm\u001b[22m\u001b[0m\u001b[1me\u001b[22m\u001b[0m\u001b[1ma\u001b[22m\u001b[0m\u001b[1mn\u001b[22mad \u001b[0m\u001b[1mm\u001b[22m\u001b[0m\u001b[1me\u001b[22m\u001b[0m\u001b[1ma\u001b[22m\u001b[0m\u001b[1mn\u001b[22mdir \u001b[0m\u001b[1mm\u001b[22m\u001b[0m\u001b[1me\u001b[22m\u001b[0m\u001b[1ma\u001b[22m\u001b[0m\u001b[1mn\u001b[22mlogx \u001b[0m\u001b[1mm\u001b[22m\u001b[0m\u001b[1me\u001b[22m\u001b[0m\u001b[1ma\u001b[22m\u001b[0m\u001b[1mn\u001b[22mform \u001b[0m\u001b[1mm\u001b[22m\u001b[0m\u001b[1me\u001b[22m\u001b[0m\u001b[1ma\u001b[22m\u001b[0m\u001b[1mn\u001b[22mresponse \u001b[0m\u001b[1mm\u001b[22m\u001b[0m\u001b[1me\u001b[22m\u001b[0m\u001b[1ma\u001b[22m\u001b[0m\u001b[1mn\u001b[22m_and_var\n",
      "\n"
     ]
    },
    {
     "data": {
      "text/latex": [
       "\\begin{verbatim}\n",
       "mean(itr)\n",
       "\\end{verbatim}\n",
       "Compute the mean of all elements in a collection.\n",
       "\n",
       "\\begin{quote}\n",
       "\\textbf{note}\n",
       "\n",
       "Note\n",
       "\n",
       "If \\texttt{itr} contains \\texttt{NaN} or \\href{@ref}{\\texttt{missing}} values, the result is also \\texttt{NaN} or \\texttt{missing} (\\texttt{missing} takes precedence if array contains both). Use the \\href{@ref}{\\texttt{skipmissing}} function to omit \\texttt{missing} entries and compute the mean of non-missing values.\n",
       "\n",
       "\\end{quote}\n",
       "\\section{Examples}\n",
       "\\begin{verbatim}\n",
       "julia> using Statistics\n",
       "\n",
       "julia> mean(1:20)\n",
       "10.5\n",
       "\n",
       "julia> mean([1, missing, 3])\n",
       "missing\n",
       "\n",
       "julia> mean(skipmissing([1, missing, 3]))\n",
       "2.0\n",
       "\\end{verbatim}\n",
       "\\rule{\\textwidth}{1pt}\n",
       "\\begin{verbatim}\n",
       "mean(f::Function, itr)\n",
       "\\end{verbatim}\n",
       "Apply the function \\texttt{f} to each element of collection \\texttt{itr} and take the mean.\n",
       "\n",
       "\\begin{verbatim}\n",
       "julia> using Statistics\n",
       "\n",
       "julia> mean(√, [1, 2, 3])\n",
       "1.3820881233139908\n",
       "\n",
       "julia> mean([√1, √2, √3])\n",
       "1.3820881233139908\n",
       "\\end{verbatim}\n",
       "\\rule{\\textwidth}{1pt}\n",
       "\\begin{verbatim}\n",
       "mean(f::Function, A::AbstractArray; dims)\n",
       "\\end{verbatim}\n",
       "Apply the function \\texttt{f} to each element of array \\texttt{A} and take the mean over dimensions \\texttt{dims}.\n",
       "\n",
       "\\begin{quote}\n",
       "\\textbf{compat}\n",
       "\n",
       "Julia 1.3\n",
       "\n",
       "This method requires at least Julia 1.3.\n",
       "\n",
       "\\end{quote}\n",
       "\\begin{verbatim}\n",
       "julia> using Statistics\n",
       "\n",
       "julia> mean(√, [1, 2, 3])\n",
       "1.3820881233139908\n",
       "\n",
       "julia> mean([√1, √2, √3])\n",
       "1.3820881233139908\n",
       "\n",
       "julia> mean(√, [1 2 3; 4 5 6], dims=2)\n",
       "2×1 Array{Float64,2}:\n",
       " 1.3820881233139908\n",
       " 2.2285192400943226\n",
       "\\end{verbatim}\n",
       "\\rule{\\textwidth}{1pt}\n",
       "\\begin{verbatim}\n",
       "mean(A::AbstractArray; dims)\n",
       "\\end{verbatim}\n",
       "Compute the mean of an array over the given dimensions.\n",
       "\n",
       "\\begin{quote}\n",
       "\\textbf{compat}\n",
       "\n",
       "Julia 1.1\n",
       "\n",
       "\\texttt{mean} for empty arrays requires at least Julia 1.1.\n",
       "\n",
       "\\end{quote}\n",
       "\\section{Examples}\n",
       "\\begin{verbatim}\n",
       "julia> using Statistics\n",
       "\n",
       "julia> A = [1 2; 3 4]\n",
       "2×2 Array{Int64,2}:\n",
       " 1  2\n",
       " 3  4\n",
       "\n",
       "julia> mean(A, dims=1)\n",
       "1×2 Array{Float64,2}:\n",
       " 2.0  3.0\n",
       "\n",
       "julia> mean(A, dims=2)\n",
       "2×1 Array{Float64,2}:\n",
       " 1.5\n",
       " 3.5\n",
       "\\end{verbatim}\n",
       "\\rule{\\textwidth}{1pt}\n",
       "\\begin{verbatim}\n",
       "mean(A::AbstractArray, w::AbstractWeights[, dims::Int])\n",
       "\\end{verbatim}\n",
       "Compute the weighted mean of array \\texttt{A} with weight vector \\texttt{w} (of type \\texttt{AbstractWeights}). If \\texttt{dim} is provided, compute the weighted mean along dimension \\texttt{dims}.\n",
       "\n",
       "\\section{Examples}\n",
       "\\begin{verbatim}\n",
       "w = rand(n)\n",
       "mean(x, weights(w))\n",
       "\\end{verbatim}\n",
       "\\rule{\\textwidth}{1pt}\n",
       "\\begin{verbatim}\n",
       "mean(d::UnivariateDistribution)\n",
       "\\end{verbatim}\n",
       "Compute the expectation.\n",
       "\n",
       "\\rule{\\textwidth}{1pt}\n",
       "\\begin{verbatim}\n",
       "mean(d::MultivariateDistribution)\n",
       "\\end{verbatim}\n",
       "Compute the mean vector of distribution \\texttt{d}.\n",
       "\n",
       "\\rule{\\textwidth}{1pt}\n",
       "\\begin{verbatim}\n",
       "mean(d::MatrixDistribution)\n",
       "\\end{verbatim}\n",
       "Return the mean matrix of \\texttt{d}.\n",
       "\n",
       "\\rule{\\textwidth}{1pt}\n",
       "\\begin{verbatim}\n",
       "mean(d::Union{UnivariateMixture, MultivariateMixture})\n",
       "\\end{verbatim}\n",
       "Compute the overall mean (expectation).\n",
       "\n"
      ],
      "text/markdown": [
       "```\n",
       "mean(itr)\n",
       "```\n",
       "\n",
       "Compute the mean of all elements in a collection.\n",
       "\n",
       "!!! note\n",
       "    If `itr` contains `NaN` or [`missing`](@ref) values, the result is also `NaN` or `missing` (`missing` takes precedence if array contains both). Use the [`skipmissing`](@ref) function to omit `missing` entries and compute the mean of non-missing values.\n",
       "\n",
       "\n",
       "# Examples\n",
       "\n",
       "```jldoctest\n",
       "julia> using Statistics\n",
       "\n",
       "julia> mean(1:20)\n",
       "10.5\n",
       "\n",
       "julia> mean([1, missing, 3])\n",
       "missing\n",
       "\n",
       "julia> mean(skipmissing([1, missing, 3]))\n",
       "2.0\n",
       "```\n",
       "\n",
       "---\n",
       "\n",
       "```\n",
       "mean(f::Function, itr)\n",
       "```\n",
       "\n",
       "Apply the function `f` to each element of collection `itr` and take the mean.\n",
       "\n",
       "```jldoctest\n",
       "julia> using Statistics\n",
       "\n",
       "julia> mean(√, [1, 2, 3])\n",
       "1.3820881233139908\n",
       "\n",
       "julia> mean([√1, √2, √3])\n",
       "1.3820881233139908\n",
       "```\n",
       "\n",
       "---\n",
       "\n",
       "```\n",
       "mean(f::Function, A::AbstractArray; dims)\n",
       "```\n",
       "\n",
       "Apply the function `f` to each element of array `A` and take the mean over dimensions `dims`.\n",
       "\n",
       "!!! compat \"Julia 1.3\"\n",
       "    This method requires at least Julia 1.3.\n",
       "\n",
       "\n",
       "```jldoctest\n",
       "julia> using Statistics\n",
       "\n",
       "julia> mean(√, [1, 2, 3])\n",
       "1.3820881233139908\n",
       "\n",
       "julia> mean([√1, √2, √3])\n",
       "1.3820881233139908\n",
       "\n",
       "julia> mean(√, [1 2 3; 4 5 6], dims=2)\n",
       "2×1 Array{Float64,2}:\n",
       " 1.3820881233139908\n",
       " 2.2285192400943226\n",
       "```\n",
       "\n",
       "---\n",
       "\n",
       "```\n",
       "mean(A::AbstractArray; dims)\n",
       "```\n",
       "\n",
       "Compute the mean of an array over the given dimensions.\n",
       "\n",
       "!!! compat \"Julia 1.1\"\n",
       "    `mean` for empty arrays requires at least Julia 1.1.\n",
       "\n",
       "\n",
       "# Examples\n",
       "\n",
       "```jldoctest\n",
       "julia> using Statistics\n",
       "\n",
       "julia> A = [1 2; 3 4]\n",
       "2×2 Array{Int64,2}:\n",
       " 1  2\n",
       " 3  4\n",
       "\n",
       "julia> mean(A, dims=1)\n",
       "1×2 Array{Float64,2}:\n",
       " 2.0  3.0\n",
       "\n",
       "julia> mean(A, dims=2)\n",
       "2×1 Array{Float64,2}:\n",
       " 1.5\n",
       " 3.5\n",
       "```\n",
       "\n",
       "---\n",
       "\n",
       "```\n",
       "mean(A::AbstractArray, w::AbstractWeights[, dims::Int])\n",
       "```\n",
       "\n",
       "Compute the weighted mean of array `A` with weight vector `w` (of type `AbstractWeights`). If `dim` is provided, compute the weighted mean along dimension `dims`.\n",
       "\n",
       "# Examples\n",
       "\n",
       "```julia\n",
       "w = rand(n)\n",
       "mean(x, weights(w))\n",
       "```\n",
       "\n",
       "---\n",
       "\n",
       "```\n",
       "mean(d::UnivariateDistribution)\n",
       "```\n",
       "\n",
       "Compute the expectation.\n",
       "\n",
       "---\n",
       "\n",
       "```\n",
       "mean(d::MultivariateDistribution)\n",
       "```\n",
       "\n",
       "Compute the mean vector of distribution `d`.\n",
       "\n",
       "---\n",
       "\n",
       "```\n",
       "mean(d::MatrixDistribution)\n",
       "```\n",
       "\n",
       "Return the mean matrix of `d`.\n",
       "\n",
       "---\n",
       "\n",
       "```\n",
       "mean(d::Union{UnivariateMixture, MultivariateMixture})\n",
       "```\n",
       "\n",
       "Compute the overall mean (expectation).\n"
      ],
      "text/plain": [
       "\u001b[36m  mean(itr)\u001b[39m\n",
       "\n",
       "  Compute the mean of all elements in a collection.\n",
       "\n",
       "\u001b[36m\u001b[1m  │ \u001b[22m\u001b[39m\u001b[36m\u001b[1mNote\u001b[22m\u001b[39m\n",
       "\u001b[36m\u001b[1m  │\u001b[22m\u001b[39m\n",
       "\u001b[36m\u001b[1m  │\u001b[22m\u001b[39m  If \u001b[36mitr\u001b[39m contains \u001b[36mNaN\u001b[39m or \u001b[36mmissing\u001b[39m values, the result is also \u001b[36mNaN\u001b[39m or\n",
       "\u001b[36m\u001b[1m  │\u001b[22m\u001b[39m  \u001b[36mmissing\u001b[39m (\u001b[36mmissing\u001b[39m takes precedence if array contains both). Use the\n",
       "\u001b[36m\u001b[1m  │\u001b[22m\u001b[39m  \u001b[36mskipmissing\u001b[39m function to omit \u001b[36mmissing\u001b[39m entries and compute the mean\n",
       "\u001b[36m\u001b[1m  │\u001b[22m\u001b[39m  of non-missing values.\n",
       "\n",
       "\u001b[1m  Examples\u001b[22m\n",
       "\u001b[1m  ≡≡≡≡≡≡≡≡≡≡\u001b[22m\n",
       "\n",
       "\u001b[36m  julia> using Statistics\u001b[39m\n",
       "\u001b[36m  \u001b[39m\n",
       "\u001b[36m  julia> mean(1:20)\u001b[39m\n",
       "\u001b[36m  10.5\u001b[39m\n",
       "\u001b[36m  \u001b[39m\n",
       "\u001b[36m  julia> mean([1, missing, 3])\u001b[39m\n",
       "\u001b[36m  missing\u001b[39m\n",
       "\u001b[36m  \u001b[39m\n",
       "\u001b[36m  julia> mean(skipmissing([1, missing, 3]))\u001b[39m\n",
       "\u001b[36m  2.0\u001b[39m\n",
       "\n",
       "  ────────────────────────────────────────────────────────────────────────────\n",
       "\n",
       "\u001b[36m  mean(f::Function, itr)\u001b[39m\n",
       "\n",
       "  Apply the function \u001b[36mf\u001b[39m to each element of collection \u001b[36mitr\u001b[39m and take the mean.\n",
       "\n",
       "\u001b[36m  julia> using Statistics\u001b[39m\n",
       "\u001b[36m  \u001b[39m\n",
       "\u001b[36m  julia> mean(√, [1, 2, 3])\u001b[39m\n",
       "\u001b[36m  1.3820881233139908\u001b[39m\n",
       "\u001b[36m  \u001b[39m\n",
       "\u001b[36m  julia> mean([√1, √2, √3])\u001b[39m\n",
       "\u001b[36m  1.3820881233139908\u001b[39m\n",
       "\n",
       "  ────────────────────────────────────────────────────────────────────────────\n",
       "\n",
       "\u001b[36m  mean(f::Function, A::AbstractArray; dims)\u001b[39m\n",
       "\n",
       "  Apply the function \u001b[36mf\u001b[39m to each element of array \u001b[36mA\u001b[39m and take the mean over\n",
       "  dimensions \u001b[36mdims\u001b[39m.\n",
       "\n",
       "\u001b[39m\u001b[1m  │ \u001b[22m\u001b[39m\u001b[1mJulia 1.3\u001b[22m\n",
       "\u001b[39m\u001b[1m  │\u001b[22m\n",
       "\u001b[39m\u001b[1m  │\u001b[22m  This method requires at least Julia 1.3.\n",
       "\n",
       "\u001b[36m  julia> using Statistics\u001b[39m\n",
       "\u001b[36m  \u001b[39m\n",
       "\u001b[36m  julia> mean(√, [1, 2, 3])\u001b[39m\n",
       "\u001b[36m  1.3820881233139908\u001b[39m\n",
       "\u001b[36m  \u001b[39m\n",
       "\u001b[36m  julia> mean([√1, √2, √3])\u001b[39m\n",
       "\u001b[36m  1.3820881233139908\u001b[39m\n",
       "\u001b[36m  \u001b[39m\n",
       "\u001b[36m  julia> mean(√, [1 2 3; 4 5 6], dims=2)\u001b[39m\n",
       "\u001b[36m  2×1 Array{Float64,2}:\u001b[39m\n",
       "\u001b[36m   1.3820881233139908\u001b[39m\n",
       "\u001b[36m   2.2285192400943226\u001b[39m\n",
       "\n",
       "  ────────────────────────────────────────────────────────────────────────────\n",
       "\n",
       "\u001b[36m  mean(A::AbstractArray; dims)\u001b[39m\n",
       "\n",
       "  Compute the mean of an array over the given dimensions.\n",
       "\n",
       "\u001b[39m\u001b[1m  │ \u001b[22m\u001b[39m\u001b[1mJulia 1.1\u001b[22m\n",
       "\u001b[39m\u001b[1m  │\u001b[22m\n",
       "\u001b[39m\u001b[1m  │\u001b[22m  \u001b[36mmean\u001b[39m for empty arrays requires at least Julia 1.1.\n",
       "\n",
       "\u001b[1m  Examples\u001b[22m\n",
       "\u001b[1m  ≡≡≡≡≡≡≡≡≡≡\u001b[22m\n",
       "\n",
       "\u001b[36m  julia> using Statistics\u001b[39m\n",
       "\u001b[36m  \u001b[39m\n",
       "\u001b[36m  julia> A = [1 2; 3 4]\u001b[39m\n",
       "\u001b[36m  2×2 Array{Int64,2}:\u001b[39m\n",
       "\u001b[36m   1  2\u001b[39m\n",
       "\u001b[36m   3  4\u001b[39m\n",
       "\u001b[36m  \u001b[39m\n",
       "\u001b[36m  julia> mean(A, dims=1)\u001b[39m\n",
       "\u001b[36m  1×2 Array{Float64,2}:\u001b[39m\n",
       "\u001b[36m   2.0  3.0\u001b[39m\n",
       "\u001b[36m  \u001b[39m\n",
       "\u001b[36m  julia> mean(A, dims=2)\u001b[39m\n",
       "\u001b[36m  2×1 Array{Float64,2}:\u001b[39m\n",
       "\u001b[36m   1.5\u001b[39m\n",
       "\u001b[36m   3.5\u001b[39m\n",
       "\n",
       "  ────────────────────────────────────────────────────────────────────────────\n",
       "\n",
       "\u001b[36m  mean(A::AbstractArray, w::AbstractWeights[, dims::Int])\u001b[39m\n",
       "\n",
       "  Compute the weighted mean of array \u001b[36mA\u001b[39m with weight vector \u001b[36mw\u001b[39m (of type\n",
       "  \u001b[36mAbstractWeights\u001b[39m). If \u001b[36mdim\u001b[39m is provided, compute the weighted mean along\n",
       "  dimension \u001b[36mdims\u001b[39m.\n",
       "\n",
       "\u001b[1m  Examples\u001b[22m\n",
       "\u001b[1m  ≡≡≡≡≡≡≡≡≡≡\u001b[22m\n",
       "\n",
       "\u001b[36m  w = rand(n)\u001b[39m\n",
       "\u001b[36m  mean(x, weights(w))\u001b[39m\n",
       "\n",
       "  ────────────────────────────────────────────────────────────────────────────\n",
       "\n",
       "\u001b[36m  mean(d::UnivariateDistribution)\u001b[39m\n",
       "\n",
       "  Compute the expectation.\n",
       "\n",
       "  ────────────────────────────────────────────────────────────────────────────\n",
       "\n",
       "\u001b[36m  mean(d::MultivariateDistribution)\u001b[39m\n",
       "\n",
       "  Compute the mean vector of distribution \u001b[36md\u001b[39m.\n",
       "\n",
       "  ────────────────────────────────────────────────────────────────────────────\n",
       "\n",
       "\u001b[36m  mean(d::MatrixDistribution)\u001b[39m\n",
       "\n",
       "  Return the mean matrix of \u001b[36md\u001b[39m.\n",
       "\n",
       "  ────────────────────────────────────────────────────────────────────────────\n",
       "\n",
       "\u001b[36m  mean(d::Union{UnivariateMixture, MultivariateMixture})\u001b[39m\n",
       "\n",
       "  Compute the overall mean (expectation)."
      ]
     },
     "execution_count": 41,
     "metadata": {},
     "output_type": "execute_result"
    }
   ],
   "source": [
    "?mean"
   ]
  },
  {
   "cell_type": "code",
   "execution_count": 42,
   "metadata": {},
   "outputs": [],
   "source": [
    "using StatsBase"
   ]
  },
  {
   "cell_type": "code",
   "execution_count": 43,
   "metadata": {},
   "outputs": [
    {
     "name": "stdout",
     "output_type": "stream",
     "text": [
      "search: \u001b[0m\u001b[1mw\u001b[22m\u001b[0m\u001b[1mi\u001b[22m\u001b[0m\u001b[1mn\u001b[22m\u001b[0m\u001b[1ms\u001b[22m\u001b[0m\u001b[1mo\u001b[22m\u001b[0m\u001b[1mr\u001b[22m \u001b[0m\u001b[1mw\u001b[22m\u001b[0m\u001b[1mi\u001b[22m\u001b[0m\u001b[1mn\u001b[22m\u001b[0m\u001b[1ms\u001b[22m\u001b[0m\u001b[1mo\u001b[22m\u001b[0m\u001b[1mr\u001b[22m!\n",
      "\n"
     ]
    },
    {
     "data": {
      "text/latex": [
       "\\begin{verbatim}\n",
       "winsor(x::AbstractVector; prop=0.0, count=0)\n",
       "\\end{verbatim}\n",
       "Return an iterator of all elements of \\texttt{x} that replaces either \\texttt{count} or proportion \\texttt{prop} of the highest elements with the previous-highest element and an equal number of the lowest elements with the next-lowest element.\n",
       "\n",
       "The number of replaced elements could be smaller than specified if several elements equal the lower or upper bound.\n",
       "\n",
       "To compute the Winsorized mean of \\texttt{x} use \\texttt{mean(winsor(x))}.\n",
       "\n",
       "\\section{Example}\n",
       "\\begin{verbatim}\n",
       "julia> collect(winsor([5,2,3,4,1], prop=0.2))\n",
       "5-element Array{Int64,1}:\n",
       " 4\n",
       " 2\n",
       " 3\n",
       " 4\n",
       " 2\n",
       "\\end{verbatim}\n"
      ],
      "text/markdown": [
       "```\n",
       "winsor(x::AbstractVector; prop=0.0, count=0)\n",
       "```\n",
       "\n",
       "Return an iterator of all elements of `x` that replaces either `count` or proportion `prop` of the highest elements with the previous-highest element and an equal number of the lowest elements with the next-lowest element.\n",
       "\n",
       "The number of replaced elements could be smaller than specified if several elements equal the lower or upper bound.\n",
       "\n",
       "To compute the Winsorized mean of `x` use `mean(winsor(x))`.\n",
       "\n",
       "# Example\n",
       "\n",
       "```julia\n",
       "julia> collect(winsor([5,2,3,4,1], prop=0.2))\n",
       "5-element Array{Int64,1}:\n",
       " 4\n",
       " 2\n",
       " 3\n",
       " 4\n",
       " 2\n",
       "```\n"
      ],
      "text/plain": [
       "\u001b[36m  winsor(x::AbstractVector; prop=0.0, count=0)\u001b[39m\n",
       "\n",
       "  Return an iterator of all elements of \u001b[36mx\u001b[39m that replaces either \u001b[36mcount\u001b[39m or\n",
       "  proportion \u001b[36mprop\u001b[39m of the highest elements with the previous-highest element\n",
       "  and an equal number of the lowest elements with the next-lowest element.\n",
       "\n",
       "  The number of replaced elements could be smaller than specified if several\n",
       "  elements equal the lower or upper bound.\n",
       "\n",
       "  To compute the Winsorized mean of \u001b[36mx\u001b[39m use \u001b[36mmean(winsor(x))\u001b[39m.\n",
       "\n",
       "\u001b[1m  Example\u001b[22m\n",
       "\u001b[1m  ≡≡≡≡≡≡≡≡≡\u001b[22m\n",
       "\n",
       "\u001b[36m  julia> collect(winsor([5,2,3,4,1], prop=0.2))\u001b[39m\n",
       "\u001b[36m  5-element Array{Int64,1}:\u001b[39m\n",
       "\u001b[36m   4\u001b[39m\n",
       "\u001b[36m   2\u001b[39m\n",
       "\u001b[36m   3\u001b[39m\n",
       "\u001b[36m   4\u001b[39m\n",
       "\u001b[36m   2\u001b[39m"
      ]
     },
     "execution_count": 43,
     "metadata": {},
     "output_type": "execute_result"
    }
   ],
   "source": [
    "?winsor"
   ]
  },
  {
   "cell_type": "code",
   "execution_count": null,
   "metadata": {},
   "outputs": [],
   "source": []
  },
  {
   "cell_type": "markdown",
   "metadata": {},
   "source": [
    "## Paquete Distributions"
   ]
  },
  {
   "cell_type": "code",
   "execution_count": 44,
   "metadata": {},
   "outputs": [
    {
     "name": "stderr",
     "output_type": "stream",
     "text": [
      "\u001b[32m\u001b[1m  Resolving\u001b[22m\u001b[39m package versions...\n",
      "\u001b[32m\u001b[1mNo Changes\u001b[22m\u001b[39m to `~/.julia/environments/v1.5/Project.toml`\n",
      "\u001b[32m\u001b[1mNo Changes\u001b[22m\u001b[39m to `~/.julia/environments/v1.5/Manifest.toml`\n"
     ]
    }
   ],
   "source": [
    "]add Distributions"
   ]
  },
  {
   "cell_type": "code",
   "execution_count": 45,
   "metadata": {},
   "outputs": [],
   "source": [
    "using Distributions"
   ]
  },
  {
   "cell_type": "code",
   "execution_count": null,
   "metadata": {},
   "outputs": [],
   "source": []
  },
  {
   "cell_type": "markdown",
   "metadata": {},
   "source": [
    "## Paquete PrettyTables"
   ]
  },
  {
   "cell_type": "code",
   "execution_count": 46,
   "metadata": {},
   "outputs": [
    {
     "name": "stderr",
     "output_type": "stream",
     "text": [
      "\u001b[32m\u001b[1m  Resolving\u001b[22m\u001b[39m package versions...\n",
      "\u001b[32m\u001b[1mNo Changes\u001b[22m\u001b[39m to `~/.julia/environments/v1.5/Project.toml`\n",
      "\u001b[32m\u001b[1mNo Changes\u001b[22m\u001b[39m to `~/.julia/environments/v1.5/Manifest.toml`\n"
     ]
    }
   ],
   "source": [
    "]add PrettyTables"
   ]
  },
  {
   "cell_type": "code",
   "execution_count": 47,
   "metadata": {},
   "outputs": [
    {
     "name": "stderr",
     "output_type": "stream",
     "text": [
      "┌ Info: Precompiling PrettyTables [08abe8d2-0d0c-5749-adfa-8a2ac140af0d]\n",
      "└ @ Base loading.jl:1278\n"
     ]
    }
   ],
   "source": [
    "using PrettyTables"
   ]
  },
  {
   "cell_type": "code",
   "execution_count": 48,
   "metadata": {},
   "outputs": [
    {
     "name": "stdout",
     "output_type": "stream",
     "text": [
      "┌─────────────┬───────────┬───────────┬────────────┬────────────┬─────────────┬───────────┬────────────┬────────────┬───────────┐\n",
      "│\u001b[1m      Col. 1 \u001b[0m│\u001b[1m    Col. 2 \u001b[0m│\u001b[1m    Col. 3 \u001b[0m│\u001b[1m     Col. 4 \u001b[0m│\u001b[1m     Col. 5 \u001b[0m│\u001b[1m      Col. 6 \u001b[0m│\u001b[1m    Col. 7 \u001b[0m│\u001b[1m     Col. 8 \u001b[0m│\u001b[1m     Col. 9 \u001b[0m│\u001b[1m   Col. 10 \u001b[0m│\n",
      "├─────────────┼───────────┼───────────┼────────────┼────────────┼─────────────┼───────────┼────────────┼────────────┼───────────┤\n",
      "│\u001b[34;1m    0.790093 \u001b[0m│  0.379107 │  0.496877 │   0.442327 │\u001b[34;1m    0.55477 \u001b[0m│\u001b[34;1m    0.812388 \u001b[0m│\u001b[34;1m  0.922243 \u001b[0m│\u001b[34;1m   0.828538 \u001b[0m│ 0.00559745 │\u001b[34;1m  0.691247 \u001b[0m│\n",
      "│\u001b[34;1m    0.905986 \u001b[0m│\u001b[34;1m  0.675501 \u001b[0m│  0.408296 │\u001b[34;1m   0.901007 \u001b[0m│\u001b[34;1m   0.531678 \u001b[0m│\u001b[34;1m     0.98429 \u001b[0m│\u001b[34;1m    0.6072 \u001b[0m│\u001b[34;1m   0.656345 \u001b[0m│   0.381577 │\u001b[34;1m   0.51765 \u001b[0m│\n",
      "│\u001b[34;1m    0.769567 \u001b[0m│\u001b[34;1m  0.947486 \u001b[0m│\u001b[34;1m  0.948235 \u001b[0m│\u001b[34;1m   0.725423 \u001b[0m│   0.407311 │\u001b[34;1m    0.864684 \u001b[0m│\u001b[34;1m  0.926138 \u001b[0m│  0.0568833 │\u001b[34;1m   0.831956 \u001b[0m│\u001b[34;1m  0.751247 \u001b[0m│\n",
      "│    0.258275 │\u001b[34;1m  0.952729 \u001b[0m│  0.346522 │\u001b[34;1m   0.525005 \u001b[0m│\u001b[34;1m    0.88932 \u001b[0m│    0.172392 │  0.120805 │\u001b[34;1m   0.917487 \u001b[0m│\u001b[34;1m   0.788841 \u001b[0m│ 0.0984729 │\n",
      "│\u001b[34;1m    0.734593 \u001b[0m│\u001b[34;1m   0.53394 \u001b[0m│  0.437987 │\u001b[34;1m   0.701068 \u001b[0m│\u001b[34;1m   0.618767 \u001b[0m│\u001b[34;1m    0.803654 \u001b[0m│\u001b[34;1m  0.682367 \u001b[0m│\u001b[34;1m   0.695065 \u001b[0m│\u001b[34;1m   0.765745 \u001b[0m│  0.475269 │\n",
      "│    0.288496 │\u001b[34;1m  0.839819 \u001b[0m│\u001b[34;1m  0.826149 \u001b[0m│  0.0514444 │\u001b[34;1m   0.654551 \u001b[0m│    0.145467 │\u001b[34;1m  0.521261 \u001b[0m│   0.023545 │\u001b[34;1m   0.527822 \u001b[0m│\u001b[34;1m  0.764485 \u001b[0m│\n",
      "│    0.185427 │ 0.0496165 │  0.284751 │\u001b[34;1m   0.824881 \u001b[0m│\u001b[34;1m   0.796637 \u001b[0m│\u001b[34;1m    0.665711 \u001b[0m│\u001b[34;1m  0.743295 \u001b[0m│   0.416869 │\u001b[34;1m   0.646648 \u001b[0m│\u001b[34;1m  0.544623 \u001b[0m│\n",
      "│\u001b[34;1m    0.964153 \u001b[0m│  0.217715 │ 0.0603798 │   0.332976 │\u001b[34;1m   0.637416 \u001b[0m│    0.268614 │\u001b[34;1m  0.722084 \u001b[0m│   0.271893 │    0.46109 │\u001b[34;1m  0.608821 \u001b[0m│\n",
      "│     0.26404 │   0.48263 │  0.011738 │   0.486045 │   0.488338 │\u001b[34;1m    0.940858 \u001b[0m│\u001b[34;1m  0.925796 \u001b[0m│\u001b[34;1m   0.887123 \u001b[0m│   0.286771 │  0.085735 │\n",
      "│    0.172802 │\u001b[34;1m  0.840271 \u001b[0m│ 0.0595975 │\u001b[34;1m   0.501065 \u001b[0m│\u001b[34;1m   0.674306 \u001b[0m│    0.415472 │\u001b[34;1m  0.875706 \u001b[0m│\u001b[34;1m   0.937047 \u001b[0m│   0.147696 │\u001b[34;1m  0.864847 \u001b[0m│\n",
      "│\u001b[34;1m    0.622877 \u001b[0m│\u001b[34;1m  0.895316 \u001b[0m│  0.102086 │\u001b[34;1m   0.770618 \u001b[0m│   0.409804 │\u001b[34;1m    0.727123 \u001b[0m│  0.159139 │\u001b[34;1m   0.595374 \u001b[0m│   0.325168 │ 0.0712683 │\n",
      "│\u001b[34;1m    0.842663 \u001b[0m│\u001b[34;1m  0.615516 \u001b[0m│\u001b[34;1m  0.859886 \u001b[0m│\u001b[34;1m   0.685201 \u001b[0m│\u001b[34;1m   0.745168 \u001b[0m│\u001b[34;1m    0.943053 \u001b[0m│\u001b[34;1m  0.719624 \u001b[0m│\u001b[34;1m   0.607003 \u001b[0m│  0.0652776 │\u001b[34;1m  0.618344 \u001b[0m│\n",
      "│    0.390648 │ 0.0325375 │  0.482129 │   0.397732 │\u001b[34;1m   0.912452 \u001b[0m│\u001b[34;1m    0.608954 \u001b[0m│ 0.0869813 │    0.47612 │\u001b[34;1m   0.727467 \u001b[0m│\u001b[34;1m  0.560182 \u001b[0m│\n",
      "│   0.0812099 │\u001b[34;1m  0.727091 \u001b[0m│\u001b[34;1m   0.78183 \u001b[0m│\u001b[34;1m   0.984377 \u001b[0m│   0.397528 │\u001b[34;1m    0.833496 \u001b[0m│ 0.0263917 │\u001b[34;1m   0.898238 \u001b[0m│\u001b[34;1m   0.882596 \u001b[0m│   0.20145 │\n",
      "│\u001b[34;1m    0.925053 \u001b[0m│\u001b[34;1m  0.791296 \u001b[0m│\u001b[34;1m  0.870345 \u001b[0m│   0.285757 │\u001b[34;1m   0.792516 \u001b[0m│    0.484531 │ 0.0514808 │   0.441174 │\u001b[34;1m   0.506262 \u001b[0m│\u001b[34;1m  0.988736 \u001b[0m│\n",
      "│\u001b[34;1m    0.572182 \u001b[0m│ 0.0171214 │\u001b[34;1m  0.986314 \u001b[0m│   0.243771 │\u001b[34;1m   0.800231 \u001b[0m│\u001b[34;1m    0.703002 \u001b[0m│  0.479682 │   0.217377 │   0.140575 │  0.333488 │\n",
      "│\u001b[34;1m    0.777842 \u001b[0m│  0.130837 │  0.289978 │\u001b[34;1m   0.851335 \u001b[0m│   0.185423 │\u001b[34;1m    0.798419 \u001b[0m│   0.40555 │   0.188069 │  0.0114386 │\u001b[34;1m  0.974157 \u001b[0m│\n",
      "│   0.0345793 │\u001b[34;1m  0.831945 \u001b[0m│  0.267307 │   0.166353 │\u001b[34;1m   0.904611 \u001b[0m│\u001b[34;1m    0.879962 \u001b[0m│\u001b[34;1m  0.818338 \u001b[0m│   0.323795 │\u001b[34;1m   0.537532 \u001b[0m│ 0.0377842 │\n",
      "│\u001b[34;1m    0.939427 \u001b[0m│\u001b[34;1m  0.857391 \u001b[0m│  0.427678 │\u001b[34;1m   0.692933 \u001b[0m│\u001b[34;1m   0.950176 \u001b[0m│\u001b[34;1m    0.986713 \u001b[0m│ 0.0111137 │  0.0700713 │\u001b[34;1m   0.547179 \u001b[0m│\u001b[34;1m  0.537409 \u001b[0m│\n",
      "│\u001b[34;1m     0.62997 \u001b[0m│  0.264171 │\u001b[34;1m   0.67635 \u001b[0m│\u001b[34;1m   0.860313 \u001b[0m│   0.456855 │\u001b[34;1m    0.569199 \u001b[0m│  0.120528 │\u001b[34;1m   0.653335 \u001b[0m│   0.239715 │\u001b[34;1m  0.760394 \u001b[0m│\n",
      "│\u001b[34;1m    0.902889 \u001b[0m│  0.337352 │  0.471205 │   0.373899 │\u001b[34;1m   0.687166 \u001b[0m│    0.111799 │  0.319493 │\u001b[34;1m    0.55993 \u001b[0m│\u001b[34;1m   0.974181 \u001b[0m│  0.320558 │\n",
      "│\u001b[34;1m    0.967785 \u001b[0m│\u001b[34;1m  0.780461 \u001b[0m│\u001b[34;1m  0.656383 \u001b[0m│   0.243887 │ 0.00868811 │    0.155996 │\u001b[34;1m   0.55851 \u001b[0m│   0.429856 │\u001b[34;1m   0.654615 \u001b[0m│\u001b[34;1m  0.953055 \u001b[0m│\n",
      "│    0.198703 │  0.264836 │  0.295143 │\u001b[34;1m   0.553353 \u001b[0m│\u001b[34;1m   0.768231 \u001b[0m│\u001b[34;1m    0.550383 \u001b[0m│  0.266227 │   0.121899 │\u001b[34;1m   0.585355 \u001b[0m│ 0.0420984 │\n",
      "│    0.112846 │  0.151362 │  0.451932 │   0.480201 │    0.21591 │ 0.000384623 │  0.247876 │   0.402269 │\u001b[34;1m   0.516177 \u001b[0m│\u001b[34;1m  0.571315 \u001b[0m│\n",
      "│    0.255002 │  0.217788 │\u001b[34;1m  0.910952 \u001b[0m│\u001b[34;1m   0.899941 \u001b[0m│  0.0318884 │\u001b[34;1m    0.703568 \u001b[0m│   0.13632 │\u001b[34;1m   0.564608 \u001b[0m│\u001b[34;1m   0.626713 \u001b[0m│\u001b[34;1m  0.737286 \u001b[0m│\n",
      "│\u001b[34;1m    0.757053 \u001b[0m│   0.41176 │\u001b[34;1m   0.86698 \u001b[0m│\u001b[34;1m   0.626319 \u001b[0m│   0.225466 │    0.442505 │  0.117104 │\u001b[34;1m   0.535203 \u001b[0m│   0.340222 │\u001b[34;1m  0.963811 \u001b[0m│\n",
      "│     0.41847 │\u001b[34;1m  0.834355 \u001b[0m│  0.354245 │   0.401787 │\u001b[34;1m   0.856924 \u001b[0m│\u001b[34;1m    0.978471 \u001b[0m│\u001b[34;1m   0.69754 \u001b[0m│\u001b[34;1m   0.872883 \u001b[0m│   0.460673 │\u001b[34;1m  0.532865 \u001b[0m│\n",
      "│    0.201453 │  0.457158 │\u001b[34;1m  0.569727 \u001b[0m│\u001b[34;1m   0.639186 \u001b[0m│\u001b[34;1m   0.691588 \u001b[0m│   0.0717301 │   0.11594 │   0.255998 │   0.244298 │ 0.0807013 │\n",
      "│\u001b[34;1m    0.965825 \u001b[0m│\u001b[34;1m  0.801704 \u001b[0m│\u001b[34;1m  0.564888 \u001b[0m│\u001b[34;1m   0.935871 \u001b[0m│\u001b[34;1m   0.579752 \u001b[0m│\u001b[34;1m    0.953901 \u001b[0m│ 0.0882629 │\u001b[34;1m   0.782341 \u001b[0m│   0.229145 │\u001b[34;1m  0.616163 \u001b[0m│\n",
      "│      0.1383 │\u001b[34;1m  0.634272 \u001b[0m│\u001b[34;1m  0.675338 \u001b[0m│\u001b[34;1m   0.983457 \u001b[0m│   0.101446 │\u001b[34;1m    0.548178 \u001b[0m│  0.420379 │  0.0552373 │  0.0470587 │\u001b[34;1m  0.994987 \u001b[0m│\n",
      "│    0.437927 │  0.363208 │\u001b[34;1m   0.70406 \u001b[0m│    0.33637 │  0.0498866 │   0.0735911 │  0.380354 │   0.216906 │\u001b[34;1m   0.995635 \u001b[0m│\u001b[34;1m  0.687016 \u001b[0m│\n",
      "│\u001b[34;1m    0.819752 \u001b[0m│  0.363713 │\u001b[34;1m  0.988262 \u001b[0m│   0.225986 │  0.0953617 │    0.334057 │\u001b[34;1m  0.689828 \u001b[0m│\u001b[34;1m   0.703989 \u001b[0m│   0.133723 │\u001b[34;1m  0.745227 \u001b[0m│\n",
      "│\u001b[34;1m    0.664387 \u001b[0m│ 0.0270023 │ 0.0947495 │    0.38447 │\u001b[34;1m   0.825305 \u001b[0m│\u001b[34;1m    0.879172 \u001b[0m│\u001b[34;1m  0.617426 \u001b[0m│ 0.00151226 │\u001b[34;1m   0.569302 \u001b[0m│  0.103474 │\n",
      "│\u001b[34;1m    0.509239 \u001b[0m│\u001b[34;1m  0.750092 \u001b[0m│  0.185831 │\u001b[34;1m     0.5156 \u001b[0m│\u001b[34;1m    0.66444 \u001b[0m│    0.449997 │  0.118951 │\u001b[34;1m   0.664525 \u001b[0m│   0.499905 │\u001b[34;1m  0.979658 \u001b[0m│\n",
      "│\u001b[34;1m    0.834688 \u001b[0m│  0.417613 │  0.429638 │  0.0904978 │\u001b[34;1m   0.833105 \u001b[0m│    0.140753 │ 0.0457007 │  0.0532455 │\u001b[34;1m   0.545961 \u001b[0m│  0.145673 │\n",
      "│    0.432294 │  0.100177 │  0.219015 │\u001b[34;1m   0.754781 \u001b[0m│\u001b[34;1m   0.554658 \u001b[0m│\u001b[34;1m     0.84937 \u001b[0m│  0.270061 │   0.284306 │\u001b[34;1m   0.953917 \u001b[0m│\u001b[34;1m   0.83145 \u001b[0m│\n",
      "│    0.269513 │\u001b[34;1m  0.886535 \u001b[0m│\u001b[34;1m  0.998259 \u001b[0m│\u001b[34;1m   0.923822 \u001b[0m│\u001b[34;1m   0.659316 \u001b[0m│\u001b[34;1m    0.799408 \u001b[0m│   0.18265 │\u001b[34;1m   0.917541 \u001b[0m│   0.467078 │  0.193693 │\n",
      "│   0.0588828 │\u001b[34;1m  0.586424 \u001b[0m│\u001b[34;1m  0.969007 \u001b[0m│\u001b[34;1m   0.673972 \u001b[0m│   0.284335 │\u001b[34;1m    0.541186 \u001b[0m│  0.132982 │  0.0790306 │\u001b[34;1m   0.763078 \u001b[0m│ 0.0187312 │\n",
      "│\u001b[34;1m    0.976712 \u001b[0m│  0.436725 │  0.409475 │\u001b[34;1m   0.831155 \u001b[0m│   0.278193 │    0.144297 │ 0.0134718 │   0.169307 │\u001b[34;1m   0.581539 \u001b[0m│  0.390803 │\n",
      "│    0.236681 │  0.410436 │\u001b[34;1m  0.690531 \u001b[0m│    0.33589 │   0.351083 │\u001b[34;1m    0.677714 \u001b[0m│\u001b[34;1m  0.605458 \u001b[0m│\u001b[34;1m   0.989701 \u001b[0m│ 0.00395549 │  0.195399 │\n",
      "│\u001b[34;1m    0.952322 \u001b[0m│\u001b[34;1m  0.995393 \u001b[0m│\u001b[34;1m  0.791567 \u001b[0m│   0.427441 │\u001b[34;1m    0.89711 \u001b[0m│\u001b[34;1m    0.615976 \u001b[0m│\u001b[34;1m  0.574622 \u001b[0m│   0.256055 │   0.485092 │\u001b[34;1m  0.664296 \u001b[0m│\n",
      "│    0.313236 │\u001b[34;1m   0.71835 \u001b[0m│  0.422211 │\u001b[34;1m   0.646757 \u001b[0m│   0.165452 │    0.368337 │\u001b[34;1m  0.559229 \u001b[0m│   0.279979 │\u001b[34;1m   0.799876 \u001b[0m│  0.336275 │\n",
      "│\u001b[34;1m    0.591574 \u001b[0m│\u001b[34;1m  0.978866 \u001b[0m│\u001b[34;1m  0.904664 \u001b[0m│   0.112741 │\u001b[34;1m   0.872763 \u001b[0m│    0.301572 │\u001b[34;1m  0.796004 \u001b[0m│\u001b[34;1m   0.861206 \u001b[0m│\u001b[34;1m   0.947757 \u001b[0m│  0.406479 │\n",
      "│\u001b[34;1m     0.91752 \u001b[0m│ 0.0891521 │\u001b[34;1m  0.732389 \u001b[0m│   0.384216 │   0.371304 │   0.0455308 │\u001b[34;1m  0.526441 \u001b[0m│   0.237286 │\u001b[34;1m   0.574229 \u001b[0m│  0.263926 │\n",
      "│\u001b[34;1m    0.784305 \u001b[0m│\u001b[34;1m  0.771868 \u001b[0m│\u001b[34;1m  0.961159 \u001b[0m│\u001b[34;1m   0.573213 \u001b[0m│   0.330884 │  0.00502023 │  0.111464 │\u001b[34;1m   0.850719 \u001b[0m│\u001b[34;1m   0.718458 \u001b[0m│\u001b[34;1m  0.772917 \u001b[0m│\n",
      "│    0.243117 │  0.356589 │\u001b[34;1m  0.692677 \u001b[0m│   0.297556 │\u001b[34;1m   0.523812 \u001b[0m│    0.125872 │\u001b[34;1m  0.847022 \u001b[0m│  0.0834302 │\u001b[34;1m   0.759904 \u001b[0m│\u001b[34;1m  0.897933 \u001b[0m│\n",
      "│\u001b[34;1m    0.788155 \u001b[0m│\u001b[34;1m  0.527518 \u001b[0m│  0.423714 │   0.367576 │\u001b[34;1m    0.56323 \u001b[0m│   0.0437779 │   0.10802 │   0.385582 │   0.150566 │\u001b[34;1m   0.90999 \u001b[0m│\n",
      "│\u001b[34;1m    0.683031 \u001b[0m│ 0.0718357 │  0.164994 │   0.116862 │   0.297544 │\u001b[34;1m    0.980207 \u001b[0m│\u001b[34;1m  0.518151 \u001b[0m│\u001b[34;1m   0.986363 \u001b[0m│\u001b[34;1m   0.728537 \u001b[0m│\u001b[34;1m  0.952916 \u001b[0m│\n",
      "│    0.137003 │  0.422927 │  0.177077 │\u001b[34;1m   0.849406 \u001b[0m│\u001b[34;1m   0.753203 \u001b[0m│    0.141094 │  0.145013 │   0.182464 │\u001b[34;1m   0.570123 \u001b[0m│  0.144425 │\n",
      "│    0.209552 │\u001b[34;1m  0.751123 \u001b[0m│\u001b[34;1m  0.813831 \u001b[0m│   0.355455 │\u001b[34;1m   0.760591 \u001b[0m│    0.434792 │  0.376139 │\u001b[34;1m   0.690974 \u001b[0m│   0.341555 │  0.422776 │\n",
      "│    0.469955 │\u001b[34;1m  0.513082 \u001b[0m│  0.335393 │   0.300599 │   0.219053 │\u001b[34;1m    0.975335 \u001b[0m│\u001b[34;1m  0.876082 \u001b[0m│\u001b[34;1m   0.954207 \u001b[0m│\u001b[34;1m   0.907397 \u001b[0m│   0.46861 │\n",
      "│    0.132077 │  0.467159 │\u001b[34;1m  0.636685 \u001b[0m│   0.384562 │\u001b[34;1m   0.882412 \u001b[0m│\u001b[34;1m    0.615525 \u001b[0m│  0.305303 │   0.142541 │   0.451633 │\u001b[34;1m  0.892652 \u001b[0m│\n",
      "│\u001b[34;1m    0.664169 \u001b[0m│  0.113477 │\u001b[34;1m   0.93082 \u001b[0m│   0.211628 │   0.480552 │    0.433139 │  0.302685 │\u001b[34;1m     0.7471 \u001b[0m│\u001b[34;1m   0.563426 \u001b[0m│\u001b[34;1m  0.680027 \u001b[0m│\n",
      "│\u001b[34;1m    0.911104 \u001b[0m│  0.277332 │  0.480767 │\u001b[34;1m   0.758613 \u001b[0m│   0.313683 │\u001b[34;1m    0.641764 \u001b[0m│ 0.0990224 │\u001b[34;1m   0.729565 \u001b[0m│  0.0251773 │\u001b[34;1m  0.829184 \u001b[0m│\n",
      "│    0.434181 │\u001b[34;1m  0.896971 \u001b[0m│ 0.0801499 │   0.359004 │\u001b[34;1m   0.736293 \u001b[0m│    0.210392 │\u001b[34;1m  0.628669 \u001b[0m│  0.0201489 │\u001b[34;1m   0.999981 \u001b[0m│\u001b[34;1m  0.786598 \u001b[0m│\n",
      "│\u001b[34;1m    0.869714 \u001b[0m│ 0.0295693 │ 0.0525449 │\u001b[34;1m   0.599322 \u001b[0m│\u001b[34;1m    0.66454 \u001b[0m│\u001b[34;1m    0.570326 \u001b[0m│\u001b[34;1m  0.890651 \u001b[0m│\u001b[34;1m   0.623699 \u001b[0m│\u001b[34;1m   0.698562 \u001b[0m│\u001b[34;1m  0.650934 \u001b[0m│\n",
      "│\u001b[34;1m    0.997387 \u001b[0m│\u001b[34;1m  0.728829 \u001b[0m│\u001b[34;1m  0.633734 \u001b[0m│   0.137162 │\u001b[34;1m   0.581795 \u001b[0m│\u001b[34;1m    0.793564 \u001b[0m│  0.270109 │\u001b[34;1m   0.914231 \u001b[0m│ 0.00719505 │\u001b[34;1m   0.78062 \u001b[0m│\n",
      "│ 0.000752812 │  0.251097 │  0.445371 │\u001b[34;1m   0.842457 \u001b[0m│   0.231775 │\u001b[34;1m    0.625835 \u001b[0m│  0.282447 │   0.405596 │\u001b[34;1m   0.815314 \u001b[0m│\u001b[34;1m  0.751873 \u001b[0m│\n",
      "│\u001b[34;1m     0.85496 \u001b[0m│  0.386099 │\u001b[34;1m  0.881102 \u001b[0m│   0.145297 │    0.15779 │\u001b[34;1m     0.65137 \u001b[0m│\u001b[34;1m  0.778008 \u001b[0m│   0.494338 │\u001b[34;1m   0.756286 \u001b[0m│\u001b[34;1m  0.757863 \u001b[0m│\n",
      "│    0.475611 │\u001b[34;1m  0.735999 \u001b[0m│  0.153551 │\u001b[34;1m   0.690615 \u001b[0m│   0.129721 │    0.317035 │  0.304508 │   0.459286 │\u001b[34;1m   0.725718 \u001b[0m│\u001b[34;1m  0.920801 \u001b[0m│\n",
      "│    0.104519 │\u001b[34;1m  0.927673 \u001b[0m│ 0.0230415 │\u001b[34;1m    0.83239 \u001b[0m│   0.466985 │   0.0999209 │ 0.0969212 │\u001b[34;1m   0.956555 \u001b[0m│   0.375166 │\u001b[34;1m  0.577738 \u001b[0m│\n",
      "│\u001b[34;1m    0.552939 \u001b[0m│\u001b[34;1m  0.692774 \u001b[0m│\u001b[34;1m   0.63901 \u001b[0m│   0.303031 │   0.113413 │    0.358026 │  0.163647 │   0.203455 │  0.0572246 │  0.436894 │\n",
      "│\u001b[34;1m    0.578322 \u001b[0m│ 0.0645511 │  0.476587 │\u001b[34;1m   0.620417 \u001b[0m│\u001b[34;1m    0.98731 \u001b[0m│    0.347598 │\u001b[34;1m  0.631202 \u001b[0m│   0.485184 │\u001b[34;1m   0.713925 \u001b[0m│\u001b[34;1m   0.65837 \u001b[0m│\n",
      "│   0.0879125 │  0.139565 │  0.488877 │   0.135264 │  0.0289832 │    0.267689 │\u001b[34;1m   0.55665 \u001b[0m│   0.467377 │\u001b[34;1m   0.882873 \u001b[0m│\u001b[34;1m  0.665547 \u001b[0m│\n",
      "│     0.48576 │ 0.0787583 │\u001b[34;1m  0.805838 \u001b[0m│\u001b[34;1m   0.912262 \u001b[0m│\u001b[34;1m   0.941565 \u001b[0m│\u001b[34;1m    0.650393 \u001b[0m│\u001b[34;1m  0.739895 \u001b[0m│\u001b[34;1m   0.578977 \u001b[0m│   0.445076 │\u001b[34;1m  0.900455 \u001b[0m│\n",
      "│    0.201339 │  0.202976 │\u001b[34;1m  0.698864 \u001b[0m│   0.247021 │\u001b[34;1m   0.742501 \u001b[0m│\u001b[34;1m    0.657649 \u001b[0m│  0.435516 │  0.0557917 │\u001b[34;1m   0.907625 \u001b[0m│  0.452887 │\n",
      "│\u001b[34;1m    0.692145 \u001b[0m│\u001b[34;1m   0.73404 \u001b[0m│\u001b[34;1m  0.905576 \u001b[0m│ 0.00200328 │  0.0572733 │    0.170081 │\u001b[34;1m  0.580075 \u001b[0m│   0.160982 │   0.256379 │\u001b[34;1m  0.803537 \u001b[0m│\n",
      "│    0.196923 │\u001b[34;1m   0.79119 \u001b[0m│\u001b[34;1m  0.992593 \u001b[0m│\u001b[34;1m    0.72937 \u001b[0m│  0.0551428 │\u001b[34;1m    0.575476 \u001b[0m│\u001b[34;1m   0.74805 \u001b[0m│\u001b[34;1m   0.605814 \u001b[0m│   0.283434 │  0.116823 │\n",
      "│     0.31848 │  0.305213 │  0.165451 │  0.0614707 │\u001b[34;1m    0.77128 \u001b[0m│    0.492363 │ 0.0968776 │    0.48888 │\u001b[34;1m   0.979515 \u001b[0m│  0.220819 │\n",
      "│\u001b[34;1m    0.927051 \u001b[0m│\u001b[34;1m  0.542137 \u001b[0m│ 0.0822516 │\u001b[34;1m   0.707823 \u001b[0m│\u001b[34;1m   0.539938 \u001b[0m│    0.318824 │\u001b[34;1m  0.527294 \u001b[0m│   0.458014 │\u001b[34;1m   0.799261 \u001b[0m│  0.451767 │\n",
      "│\u001b[34;1m    0.544299 \u001b[0m│  0.226396 │  0.225416 │\u001b[34;1m   0.900887 \u001b[0m│\u001b[34;1m   0.845781 \u001b[0m│\u001b[34;1m    0.875397 \u001b[0m│  0.473694 │\u001b[34;1m   0.766838 \u001b[0m│  0.0475218 │  0.476472 │\n",
      "│\u001b[34;1m    0.990358 \u001b[0m│\u001b[34;1m  0.770897 \u001b[0m│\u001b[34;1m  0.909993 \u001b[0m│\u001b[34;1m   0.996827 \u001b[0m│   0.446749 │\u001b[34;1m     0.64357 \u001b[0m│ 0.0228504 │   0.110708 │\u001b[34;1m   0.861327 \u001b[0m│ 0.0164729 │\n",
      "│    0.406282 │   0.23995 │\u001b[34;1m  0.691865 \u001b[0m│   0.375365 │\u001b[34;1m   0.708747 \u001b[0m│\u001b[34;1m    0.585264 \u001b[0m│ 0.0569244 │\u001b[34;1m   0.504895 \u001b[0m│\u001b[34;1m   0.557961 \u001b[0m│  0.106026 │\n",
      "│    0.351421 │\u001b[34;1m  0.906635 \u001b[0m│\u001b[34;1m  0.779161 \u001b[0m│\u001b[34;1m   0.691064 \u001b[0m│   0.144869 │\u001b[34;1m    0.735728 \u001b[0m│  0.354146 │\u001b[34;1m   0.727018 \u001b[0m│\u001b[34;1m   0.626944 \u001b[0m│  0.386361 │\n",
      "│\u001b[34;1m    0.780168 \u001b[0m│\u001b[34;1m  0.957677 \u001b[0m│\u001b[34;1m  0.927751 \u001b[0m│   0.105474 │   0.375603 │    0.389939 │  0.288507 │\u001b[34;1m   0.766532 \u001b[0m│\u001b[34;1m   0.981516 \u001b[0m│\u001b[34;1m  0.636606 \u001b[0m│\n",
      "│   0.0944183 │\u001b[34;1m  0.687328 \u001b[0m│\u001b[34;1m     0.529 \u001b[0m│\u001b[34;1m    0.76943 \u001b[0m│   0.454028 │    0.340058 │ 0.0381515 │\u001b[34;1m   0.937174 \u001b[0m│\u001b[34;1m   0.925995 \u001b[0m│\u001b[34;1m  0.665985 \u001b[0m│\n",
      "│    0.415664 │\u001b[34;1m  0.855922 \u001b[0m│  0.458987 │  0.0277027 │\u001b[34;1m   0.826903 \u001b[0m│    0.259832 │  0.104767 │\u001b[34;1m   0.801006 \u001b[0m│   0.209538 │\u001b[34;1m  0.932202 \u001b[0m│\n",
      "│\u001b[34;1m    0.940189 \u001b[0m│\u001b[34;1m   0.69303 \u001b[0m│\u001b[34;1m  0.751294 \u001b[0m│   0.391115 │\u001b[34;1m   0.980877 \u001b[0m│\u001b[34;1m    0.550841 \u001b[0m│  0.360678 │\u001b[34;1m   0.554878 \u001b[0m│\u001b[34;1m   0.905042 \u001b[0m│  0.474025 │\n",
      "│\u001b[34;1m    0.711997 \u001b[0m│  0.389176 │  0.190637 │  0.0565972 │  0.0686685 │    0.191363 │\u001b[34;1m  0.680063 \u001b[0m│  0.0758892 │   0.444629 │\u001b[34;1m  0.780064 \u001b[0m│\n",
      "│\u001b[34;1m    0.787104 \u001b[0m│\u001b[34;1m  0.875451 \u001b[0m│\u001b[34;1m  0.784156 \u001b[0m│\u001b[34;1m   0.823778 \u001b[0m│   0.242787 │\u001b[34;1m    0.931911 \u001b[0m│  0.313018 │\u001b[34;1m   0.601519 \u001b[0m│   0.184949 │  0.444411 │\n",
      "│\u001b[34;1m    0.991203 \u001b[0m│\u001b[34;1m  0.720292 \u001b[0m│  0.348521 │   0.088619 │  0.0226761 │    0.299873 │   0.45956 │\u001b[34;1m   0.563633 \u001b[0m│ 0.00759381 │\u001b[34;1m  0.835423 \u001b[0m│\n",
      "│\u001b[34;1m    0.883978 \u001b[0m│\u001b[34;1m  0.703813 \u001b[0m│\u001b[34;1m   0.55279 \u001b[0m│\u001b[34;1m   0.860812 \u001b[0m│\u001b[34;1m   0.720852 \u001b[0m│    0.134819 │ 0.0155366 │   0.248213 │\u001b[34;1m   0.568873 \u001b[0m│\u001b[34;1m  0.687432 \u001b[0m│\n",
      "│\u001b[34;1m    0.579067 \u001b[0m│ 0.0975001 │\u001b[34;1m  0.949911 \u001b[0m│   0.324881 │\u001b[34;1m   0.988654 \u001b[0m│\u001b[34;1m     0.86063 \u001b[0m│    0.4595 │\u001b[34;1m   0.781927 \u001b[0m│   0.245909 │ 0.0130311 │\n",
      "│\u001b[34;1m    0.660682 \u001b[0m│  0.194157 │  0.301065 │\u001b[34;1m   0.911498 \u001b[0m│\u001b[34;1m   0.986329 \u001b[0m│    0.065803 │  0.243648 │   0.329153 │\u001b[34;1m   0.940001 \u001b[0m│\u001b[34;1m  0.791767 \u001b[0m│\n",
      "│\u001b[34;1m    0.926901 \u001b[0m│  0.387888 │ 0.0193416 │\u001b[34;1m   0.906081 \u001b[0m│\u001b[34;1m   0.737127 \u001b[0m│   0.0955145 │\u001b[34;1m  0.955239 \u001b[0m│\u001b[34;1m    0.62528 \u001b[0m│  0.0575813 │\u001b[34;1m  0.693709 \u001b[0m│\n",
      "│    0.421665 │\u001b[34;1m  0.774405 \u001b[0m│  0.305932 │   0.274816 │\u001b[34;1m   0.800085 \u001b[0m│\u001b[34;1m    0.781327 \u001b[0m│  0.159126 │\u001b[34;1m   0.686725 \u001b[0m│\u001b[34;1m    0.69599 \u001b[0m│\u001b[34;1m  0.832913 \u001b[0m│\n",
      "│    0.188376 │\u001b[34;1m  0.933776 \u001b[0m│  0.407474 │   0.438189 │    0.38961 │    0.234872 │   0.29966 │\u001b[34;1m   0.719798 \u001b[0m│   0.380514 │\u001b[34;1m  0.876054 \u001b[0m│\n",
      "│    0.197074 │\u001b[34;1m  0.641947 \u001b[0m│\u001b[34;1m  0.813878 \u001b[0m│\u001b[34;1m   0.579732 \u001b[0m│   0.353192 │    0.405489 │ 0.0963697 │\u001b[34;1m   0.502044 \u001b[0m│   0.201443 │   0.49194 │\n",
      "│    0.496712 │\u001b[34;1m  0.557222 \u001b[0m│\u001b[34;1m  0.832627 \u001b[0m│\u001b[34;1m   0.788586 \u001b[0m│   0.107294 │\u001b[34;1m    0.648059 \u001b[0m│\u001b[34;1m  0.627825 \u001b[0m│   0.266012 │\u001b[34;1m   0.687479 \u001b[0m│  0.121857 │\n",
      "│    0.154351 │  0.223021 │\u001b[34;1m  0.762635 \u001b[0m│\u001b[34;1m   0.565438 \u001b[0m│\u001b[34;1m   0.579177 \u001b[0m│\u001b[34;1m    0.805559 \u001b[0m│  0.086555 │  0.0531058 │\u001b[34;1m   0.962954 \u001b[0m│\u001b[34;1m  0.873513 \u001b[0m│\n",
      "│    0.146868 │\u001b[34;1m  0.503412 \u001b[0m│   0.19547 │\u001b[34;1m   0.542588 \u001b[0m│\u001b[34;1m   0.872602 \u001b[0m│\u001b[34;1m    0.947593 \u001b[0m│\u001b[34;1m  0.740249 \u001b[0m│\u001b[34;1m   0.770408 \u001b[0m│\u001b[34;1m   0.939381 \u001b[0m│  0.229327 │\n",
      "│    0.109409 │\u001b[34;1m  0.724289 \u001b[0m│  0.220207 │   0.457627 │\u001b[34;1m   0.782926 \u001b[0m│    0.209639 │\u001b[34;1m   0.84156 \u001b[0m│\u001b[34;1m   0.503877 \u001b[0m│\u001b[34;1m   0.841649 \u001b[0m│  0.329504 │\n",
      "│     0.42061 │  0.385801 │\u001b[34;1m  0.719397 \u001b[0m│  0.0380367 │\u001b[34;1m   0.524056 \u001b[0m│       0.323 │ 0.0598779 │   0.445836 │\u001b[34;1m   0.608385 \u001b[0m│  0.139628 │\n",
      "│    0.379994 │  0.128926 │\u001b[34;1m  0.804442 \u001b[0m│\u001b[34;1m   0.739143 \u001b[0m│\u001b[34;1m   0.886233 \u001b[0m│\u001b[34;1m    0.593038 \u001b[0m│\u001b[34;1m  0.726903 \u001b[0m│   0.303261 │  0.0568728 │\u001b[34;1m  0.877566 \u001b[0m│\n",
      "│     0.16957 │  0.426649 │   0.36325 │\u001b[34;1m   0.633458 \u001b[0m│   0.187617 │    0.341563 │\u001b[34;1m  0.791577 \u001b[0m│\u001b[34;1m    0.50762 \u001b[0m│\u001b[34;1m   0.638925 \u001b[0m│  0.493317 │\n",
      "│    0.315375 │\u001b[34;1m  0.839886 \u001b[0m│ 0.0592269 │   0.443571 │\u001b[34;1m    0.56797 \u001b[0m│\u001b[34;1m     0.59761 \u001b[0m│\u001b[34;1m  0.876313 \u001b[0m│  0.0317713 │\u001b[34;1m    0.68373 \u001b[0m│\u001b[34;1m  0.505567 \u001b[0m│\n",
      "│\u001b[34;1m    0.522939 \u001b[0m│\u001b[34;1m   0.60868 \u001b[0m│  0.445482 │   0.260496 │   0.234234 │ 0.000552659 │\u001b[34;1m  0.731248 \u001b[0m│\u001b[34;1m   0.893402 \u001b[0m│\u001b[34;1m   0.607178 \u001b[0m│  0.431882 │\n",
      "│\u001b[34;1m    0.565239 \u001b[0m│\u001b[34;1m  0.561084 \u001b[0m│ 0.0986677 │\u001b[34;1m   0.534795 \u001b[0m│   0.390428 │\u001b[34;1m    0.586966 \u001b[0m│ 0.0294134 │\u001b[34;1m   0.643751 \u001b[0m│   0.301304 │\u001b[34;1m  0.706617 \u001b[0m│\n",
      "│    0.315267 │  0.427558 │  0.495876 │\u001b[34;1m   0.916977 \u001b[0m│\u001b[34;1m   0.916137 \u001b[0m│\u001b[34;1m    0.503672 \u001b[0m│  0.193974 │\u001b[34;1m   0.791052 \u001b[0m│    0.46417 │  0.118608 │\n",
      "│     0.35875 │\u001b[34;1m   0.79706 \u001b[0m│  0.467333 │\u001b[34;1m   0.622079 \u001b[0m│   0.294718 │\u001b[34;1m    0.891223 \u001b[0m│  0.422293 │\u001b[34;1m    0.80011 \u001b[0m│   0.218844 │\u001b[34;1m  0.825992 \u001b[0m│\n",
      "└─────────────┴───────────┴───────────┴────────────┴────────────┴─────────────┴───────────┴────────────┴────────────┴───────────┘\n"
     ]
    }
   ],
   "source": [
    "data = rand(100,10); pretty_table(data, highlighters = (hl_gt(0.5),))"
   ]
  },
  {
   "cell_type": "code",
   "execution_count": null,
   "metadata": {},
   "outputs": [],
   "source": []
  },
  {
   "cell_type": "code",
   "execution_count": null,
   "metadata": {},
   "outputs": [],
   "source": []
  },
  {
   "cell_type": "markdown",
   "metadata": {},
   "source": [
    "## Paquete HypothesisTests"
   ]
  },
  {
   "cell_type": "markdown",
   "metadata": {},
   "source": [
    "[HypothesisTests](https://juliastats.org/HypothesisTests.jl/stable/)"
   ]
  },
  {
   "cell_type": "code",
   "execution_count": 49,
   "metadata": {},
   "outputs": [
    {
     "name": "stderr",
     "output_type": "stream",
     "text": [
      "\u001b[32m\u001b[1m  Resolving\u001b[22m\u001b[39m package versions...\n",
      "\u001b[32m\u001b[1mNo Changes\u001b[22m\u001b[39m to `~/.julia/environments/v1.5/Project.toml`\n",
      "\u001b[32m\u001b[1mNo Changes\u001b[22m\u001b[39m to `~/.julia/environments/v1.5/Manifest.toml`\n"
     ]
    }
   ],
   "source": [
    "]add HypothesisTests"
   ]
  },
  {
   "cell_type": "code",
   "execution_count": 50,
   "metadata": {},
   "outputs": [],
   "source": [
    "using HypothesisTests"
   ]
  },
  {
   "cell_type": "code",
   "execution_count": 51,
   "metadata": {},
   "outputs": [],
   "source": [
    "x=rand(Normal(),1000);"
   ]
  },
  {
   "cell_type": "code",
   "execution_count": 52,
   "metadata": {},
   "outputs": [
    {
     "data": {
      "text/plain": [
       "One sample t-test\n",
       "-----------------\n",
       "Population details:\n",
       "    parameter of interest:   Mean\n",
       "    value under h_0:         0\n",
       "    point estimate:          0.0224154\n",
       "    95% confidence interval: (-0.0393, 0.0841)\n",
       "\n",
       "Test summary:\n",
       "    outcome with 95% confidence: fail to reject h_0\n",
       "    two-sided p-value:           0.4761\n",
       "\n",
       "Details:\n",
       "    number of observations:   1000\n",
       "    t-statistic:              0.7129016561404053\n",
       "    degrees of freedom:       999\n",
       "    empirical standard error: 0.031442541576457345\n"
      ]
     },
     "execution_count": 52,
     "metadata": {},
     "output_type": "execute_result"
    }
   ],
   "source": [
    "t1=OneSampleTTest(x)"
   ]
  },
  {
   "cell_type": "code",
   "execution_count": 53,
   "metadata": {},
   "outputs": [
    {
     "data": {
      "text/plain": [
       "0.4760730963182366"
      ]
     },
     "execution_count": 53,
     "metadata": {},
     "output_type": "execute_result"
    }
   ],
   "source": [
    "pvalue(t1)"
   ]
  },
  {
   "cell_type": "code",
   "execution_count": 54,
   "metadata": {},
   "outputs": [
    {
     "data": {
      "text/plain": [
       "(-0.039285563015774544, 0.08411644294201452)"
      ]
     },
     "execution_count": 54,
     "metadata": {},
     "output_type": "execute_result"
    }
   ],
   "source": [
    "ic = confint(t1, level = 0.95, tail = :both)"
   ]
  },
  {
   "cell_type": "markdown",
   "metadata": {},
   "source": [
    "## Paquete GLM"
   ]
  },
  {
   "cell_type": "code",
   "execution_count": null,
   "metadata": {},
   "outputs": [],
   "source": []
  },
  {
   "cell_type": "code",
   "execution_count": null,
   "metadata": {},
   "outputs": [],
   "source": []
  },
  {
   "cell_type": "code",
   "execution_count": null,
   "metadata": {},
   "outputs": [],
   "source": []
  },
  {
   "cell_type": "code",
   "execution_count": null,
   "metadata": {},
   "outputs": [],
   "source": []
  },
  {
   "cell_type": "code",
   "execution_count": null,
   "metadata": {},
   "outputs": [],
   "source": []
  },
  {
   "cell_type": "code",
   "execution_count": null,
   "metadata": {},
   "outputs": [],
   "source": []
  },
  {
   "cell_type": "code",
   "execution_count": null,
   "metadata": {},
   "outputs": [],
   "source": []
  },
  {
   "cell_type": "markdown",
   "metadata": {},
   "source": [
    "## Paquete ScikitLearn"
   ]
  },
  {
   "cell_type": "markdown",
   "metadata": {},
   "source": [
    "[SciKitLearn](https://cstjean.github.io/ScikitLearn.jl/dev/)"
   ]
  },
  {
   "cell_type": "code",
   "execution_count": null,
   "metadata": {},
   "outputs": [],
   "source": []
  },
  {
   "cell_type": "code",
   "execution_count": null,
   "metadata": {},
   "outputs": [],
   "source": []
  },
  {
   "cell_type": "code",
   "execution_count": null,
   "metadata": {},
   "outputs": [],
   "source": []
  },
  {
   "cell_type": "markdown",
   "metadata": {},
   "source": [
    "## Paquete Flux"
   ]
  },
  {
   "cell_type": "markdown",
   "metadata": {},
   "source": [
    "[Flux](https://fluxml.ai/Flux.jl/stable/models/basics/)"
   ]
  },
  {
   "cell_type": "markdown",
   "metadata": {},
   "source": [
    "# Modulos"
   ]
  },
  {
   "cell_type": "code",
   "execution_count": 55,
   "metadata": {},
   "outputs": [
    {
     "data": {
      "text/plain": [
       "Main.Sturges"
      ]
     },
     "execution_count": 55,
     "metadata": {},
     "output_type": "execute_result"
    }
   ],
   "source": [
    "module Sturges\n",
    "    export clases\n",
    "    function clases(n)\n",
    "    clases = 1.0 + 3.3 * log10(n)\n",
    "    println(\"Número de clases => \", clases)\n",
    "    end\n",
    "end"
   ]
  },
  {
   "cell_type": "code",
   "execution_count": 56,
   "metadata": {},
   "outputs": [
    {
     "name": "stdout",
     "output_type": "stream",
     "text": [
      "Número de clases => 10.899999999999999\n"
     ]
    }
   ],
   "source": [
    "Sturges.clases(1000)"
   ]
  },
  {
   "cell_type": "code",
   "execution_count": null,
   "metadata": {},
   "outputs": [],
   "source": []
  },
  {
   "cell_type": "code",
   "execution_count": null,
   "metadata": {},
   "outputs": [],
   "source": []
  }
 ],
 "metadata": {
  "kernelspec": {
   "display_name": "Julia 1.5.3",
   "language": "julia",
   "name": "julia-1.5"
  },
  "language_info": {
   "file_extension": ".jl",
   "mimetype": "application/julia",
   "name": "julia",
   "version": "1.5.3"
  },
  "toc-autonumbering": true,
  "toc-showcode": true,
  "toc-showmarkdowntxt": true,
  "toc-showtags": false
 },
 "nbformat": 4,
 "nbformat_minor": 4
}
