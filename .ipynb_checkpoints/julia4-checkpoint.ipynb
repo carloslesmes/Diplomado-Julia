{
 "cells": [
  {
   "cell_type": "markdown",
   "metadata": {},
   "source": [
    "# Julia 4"
   ]
  },
  {
   "cell_type": "code",
   "execution_count": null,
   "metadata": {},
   "outputs": [],
   "source": []
  },
  {
   "cell_type": "code",
   "execution_count": null,
   "metadata": {},
   "outputs": [],
   "source": []
  },
  {
   "cell_type": "code",
   "execution_count": null,
   "metadata": {},
   "outputs": [],
   "source": []
  },
  {
   "cell_type": "code",
   "execution_count": null,
   "metadata": {},
   "outputs": [],
   "source": []
  },
  {
   "cell_type": "markdown",
   "metadata": {},
   "source": [
    "# Interfaces Julia, R y Python"
   ]
  },
  {
   "cell_type": "markdown",
   "metadata": {},
   "source": [
    "## RCall"
   ]
  },
  {
   "cell_type": "markdown",
   "metadata": {},
   "source": [
    "Dentro de Julia se puede llamar R. El paquete `RCall` permite trabajar R dentro de Julia."
   ]
  },
  {
   "cell_type": "code",
   "execution_count": null,
   "metadata": {},
   "outputs": [],
   "source": [
    "using RCall"
   ]
  },
  {
   "cell_type": "code",
   "execution_count": null,
   "metadata": {},
   "outputs": [],
   "source": [
    "R\"rexp(10)\""
   ]
  },
  {
   "cell_type": "code",
   "execution_count": null,
   "metadata": {},
   "outputs": [],
   "source": [
    "x=rand(100);"
   ]
  },
  {
   "cell_type": "markdown",
   "metadata": {},
   "source": [
    "Puedo aplicar una función de R en un objeto de julia:"
   ]
  },
  {
   "cell_type": "code",
   "execution_count": null,
   "metadata": {},
   "outputs": [],
   "source": [
    "R\"t.test($x)\""
   ]
  },
  {
   "cell_type": "markdown",
   "metadata": {},
   "source": [
    "Si el objeto de Julia es grande va entre `()`.\n"
   ]
  },
  {
   "cell_type": "code",
   "execution_count": null,
   "metadata": {},
   "outputs": [],
   "source": [
    "R\"optim(0, $(x -> 1-x^2), method='BFGS')\""
   ]
  },
  {
   "cell_type": "markdown",
   "metadata": {},
   "source": [
    "Un gran chunk de código se puede incluir dentro de `\"\"\"  ...  \"\"\"`\n"
   ]
  },
  {
   "cell_type": "code",
   "execution_count": null,
   "metadata": {},
   "outputs": [],
   "source": [
    "y = 1\n",
    "R\"\"\"\n",
    "f <- function(x, y) x - 2 * y\n",
    "ret <- f(1, $y)\n",
    "\"\"\""
   ]
  },
  {
   "cell_type": "markdown",
   "metadata": {},
   "source": [
    "### Las macros @rput y @rget"
   ]
  },
  {
   "cell_type": "markdown",
   "metadata": {},
   "source": [
    "Estas macros transfieren variables entre los ambientes R y Julia. La variable copiada tendrá el mismo nombre que la original."
   ]
  },
  {
   "cell_type": "code",
   "execution_count": null,
   "metadata": {},
   "outputs": [],
   "source": [
    "v=3\n",
    "@rput v\n",
    "R\"v\""
   ]
  },
  {
   "cell_type": "code",
   "execution_count": null,
   "metadata": {},
   "outputs": [],
   "source": [
    "R\"w=4\"\n",
    "@rget w\n",
    "w"
   ]
  },
  {
   "cell_type": "markdown",
   "metadata": {},
   "source": [
    "Se puede aplicar `@rput` y/o `@rget` a varias variables en una sola línea"
   ]
  },
  {
   "cell_type": "code",
   "execution_count": null,
   "metadata": {},
   "outputs": [],
   "source": [
    "x1=3\n",
    "x2=4\n",
    "@rput x1 x2\n",
    "R\"x1+x2\""
   ]
  },
  {
   "cell_type": "markdown",
   "metadata": {},
   "source": [
    "La función `rcopy` convierte cualquier objeto de R en un objeto de Julia."
   ]
  },
  {
   "cell_type": "code",
   "execution_count": null,
   "metadata": {},
   "outputs": [],
   "source": [
    "rcopy(R\"matrix(c(1,2,3,4),nrow=2)\")"
   ]
  },
  {
   "cell_type": "markdown",
   "metadata": {},
   "source": [
    "La función `robject` convierte un objeto de Julia en un RObject."
   ]
  },
  {
   "cell_type": "code",
   "execution_count": null,
   "metadata": {},
   "outputs": [],
   "source": [
    "robject([1 2 ;3 4])"
   ]
  },
  {
   "cell_type": "code",
   "execution_count": null,
   "metadata": {},
   "outputs": [],
   "source": [
    "@rlibrary ggplot2"
   ]
  },
  {
   "cell_type": "code",
   "execution_count": null,
   "metadata": {},
   "outputs": [],
   "source": [
    "diamantes = rcopy(R\"ggplot2::diamonds\") "
   ]
  },
  {
   "cell_type": "markdown",
   "metadata": {},
   "source": [
    "##  PyCall"
   ]
  },
  {
   "cell_type": "markdown",
   "metadata": {},
   "source": [
    "Dentro de Julia se puede llamar Python. El paquete `PyCall` permite trabajar python en Julia."
   ]
  },
  {
   "cell_type": "code",
   "execution_count": null,
   "metadata": {},
   "outputs": [],
   "source": [
    "using PyCall\n",
    "math=pyimport(\"math\")\n",
    "math.e"
   ]
  },
  {
   "cell_type": "code",
   "execution_count": null,
   "metadata": {},
   "outputs": [],
   "source": [
    "math.sin(math.pi/4)"
   ]
  },
  {
   "cell_type": "code",
   "execution_count": null,
   "metadata": {},
   "outputs": [],
   "source": []
  },
  {
   "cell_type": "markdown",
   "metadata": {},
   "source": [
    "### IDE's"
   ]
  },
  {
   "cell_type": "markdown",
   "metadata": {},
   "source": [
    "Uso de IDE's (Integrated Development Environment) Ambientes Integrados para el Desarrollo, como Visual Studio code [VSCode](https://code.visualstudio.com), Jupyter [Jupyter](https://jupyter.org), Nextjournal [Nextjournal](https://nextjournal.com), Google Colab [Colaboratory](https://colab.research.google.com/notebooks/intro.ipynb), Atom-uno [Juno](https://junolab.org/), `Kagle notebooks` [Kagle](https://www.kaggle.com/kernels) y la consola reactiva Pluto [Pluto](https://github.com/fonsp/Pluto.jl), entre otros. VisualStudioCode, anunciado en 2015, es un poderoso editor de código desarrollado por Microsoft para Windows, Linux y macOS. Es compatible con varios lenguajes y soporta el control de versiones `Git`, que además es gratis y altamente personalizable. El Proyecto Jupyter es una organización sin ánimo de lucro creada para \"desarrollar software de código abierto, estándares abiertos y servicios para computación interactiva en docenas de lenguajes de programación\". Creado a partir de IPython en 2014 por el colombiano Fernando Pérez. Con `Nextjournal`se pueden programar varios lenguajes de programación en un solo *Notebook* cuaderno. `Google Colab` es un entorno de ejecución local a través de Jupyter, permite escribir y ejecutar código `Python` y además, compartir los *Notebooks* en el drive de Google. Atom-Juno está pasando todos sus esfuerzos para trabajar con VSCode. El ambiente de `Kagle`, del corte de`Google Colab`, deja escribir y ejecutar `R`y `Python`. La consola `Pluto`, que día a día es más popular, es reactiva: cada vez que cambia una variable o función automáticamente actualiza todas las celdas afectadas. Está escrita totalmente en Julia y es fácil de instalar."
   ]
  }
 ],
 "metadata": {
  "kernelspec": {
   "display_name": "Julia 1.5.0",
   "language": "julia",
   "name": "julia-1.5"
  },
  "language_info": {
   "file_extension": ".jl",
   "mimetype": "application/julia",
   "name": "julia",
   "version": "1.5.0"
  }
 },
 "nbformat": 4,
 "nbformat_minor": 2
}
